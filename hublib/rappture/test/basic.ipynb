{
 "cells": [
  {
   "cell_type": "code",
   "execution_count": 1,
   "metadata": {
    "collapsed": false
   },
   "outputs": [],
   "source": [
    "from __future__ import print_function\n",
    "import pytest\n",
    "import os, sys\n",
    "import numpy as np\n",
    "\n",
    "sys.path.insert(0, os.path.abspath('../../..'))\n",
    "import hublib.rappture as rappture\n",
    "from hublib import ureg, Q_"
   ]
  },
  {
   "cell_type": "code",
   "execution_count": 2,
   "metadata": {
    "collapsed": true
   },
   "outputs": [],
   "source": [
    "io = rappture.RapXML('basic.xml')"
   ]
  },
  {
   "cell_type": "code",
   "execution_count": 3,
   "metadata": {
    "collapsed": false
   },
   "outputs": [
    {
     "name": "stdout",
     "output_type": "stream",
     "text": [
      "\n"
     ]
    }
   ],
   "source": [
    "print(io)"
   ]
  },
  {
   "cell_type": "code",
   "execution_count": 4,
   "metadata": {
    "collapsed": false
   },
   "outputs": [
    {
     "data": {
      "text/plain": [
       "<lxml.etree._ElementTree object at 0x7fe9b6bb0cf8>['input']"
      ]
     },
     "execution_count": 4,
     "metadata": {},
     "output_type": "execute_result"
    }
   ],
   "source": [
    "io['input']"
   ]
  },
  {
   "cell_type": "code",
   "execution_count": 5,
   "metadata": {
    "collapsed": false
   },
   "outputs": [],
   "source": [
    "run = io.tree.getroot()\n",
    "run.find('input')"
   ]
  },
  {
   "cell_type": "code",
   "execution_count": 6,
   "metadata": {
    "collapsed": false,
    "scrolled": true
   },
   "outputs": [
    {
     "name": "stdout",
     "output_type": "stream",
     "text": [
      "PUT: path= input.number(abc).default\n",
      "root= <Element run at 0x7fe9b6bb0248>\n",
      "par= -1\n",
      "root=<Element run at 0x7fe9b6bb0248> xpath=input  elem=input\n",
      "creating <Element run at 0x7fe9b6bb0248>.input\n",
      "root= <Element input at 0x7fe9b6bb5cf8>\n",
      "par= 6\n",
      "root=<Element input at 0x7fe9b6bb5cf8> xpath=number[@id=\"abc\"]  elem=number\n",
      "Creating <Element input at 0x7fe9b6bb5cf8>.number(abc)\n",
      "root= <Element number at 0x7fe9b6bb5dd0>\n",
      "par= -1\n",
      "root=<Element number at 0x7fe9b6bb5dd0> xpath=default  elem=default\n",
      "creating <Element number at 0x7fe9b6bb5dd0>.default\n",
      "PUT: <Element default at 0x7fe9b6bb5d40> default\n",
      "x=<Element default at 0x7fe9b6bb5d40> elem=<Element number at 0x7fe9b6bb5cf8>\n",
      "setting <Element number at 0x7fe9b6bb5cf8> to 1999\n",
      "FORMAT number 1999\n"
     ]
    }
   ],
   "source": [
    "io['input.number(abc).default'] = 1999"
   ]
  },
  {
   "cell_type": "code",
   "execution_count": 7,
   "metadata": {
    "collapsed": false
   },
   "outputs": [
    {
     "name": "stdout",
     "output_type": "stream",
     "text": [
      "PUT: path= input.number(abc).current\n",
      "root= <Element run at 0x7fe9b6bb0248>\n",
      "par= -1\n",
      "root=<Element run at 0x7fe9b6bb0248> xpath=input  elem=input\n",
      "root= <Element input at 0x7fe9b6bb5d88>\n",
      "par= 6\n",
      "root=<Element input at 0x7fe9b6bb5d88> xpath=number[@id=\"abc\"]  elem=number\n",
      "root= <Element number at 0x7fe9b6bb5cb0>\n",
      "par= -1\n",
      "root=<Element number at 0x7fe9b6bb5cb0> xpath=current  elem=current\n",
      "creating <Element number at 0x7fe9b6bb5cb0>.current\n",
      "PUT: <Element current at 0x7fe9b6bb5ea8> current\n",
      "x=<Element current at 0x7fe9b6bb5ea8> elem=<Element number at 0x7fe9b6bb5cb0>\n",
      "setting <Element number at 0x7fe9b6bb5cb0> to 2017\n",
      "FORMAT number 2017\n"
     ]
    }
   ],
   "source": [
    "io['input.number(abc).current'] = 2017"
   ]
  },
  {
   "cell_type": "code",
   "execution_count": 8,
   "metadata": {
    "collapsed": false
   },
   "outputs": [
    {
     "name": "stdout",
     "output_type": "stream",
     "text": [
      "1999.0\n"
     ]
    }
   ],
   "source": [
    "print(io['input.number(abc).default'].value)"
   ]
  },
  {
   "cell_type": "code",
   "execution_count": 9,
   "metadata": {
    "collapsed": false
   },
   "outputs": [
    {
     "data": {
      "text/plain": [
       "2017.0"
      ]
     },
     "execution_count": 9,
     "metadata": {},
     "output_type": "execute_result"
    }
   ],
   "source": [
    "io['input.number(abc).current'].value"
   ]
  },
  {
   "cell_type": "code",
   "execution_count": 10,
   "metadata": {
    "collapsed": false
   },
   "outputs": [
    {
     "data": {
      "text/plain": [
       "2017.0"
      ]
     },
     "execution_count": 10,
     "metadata": {},
     "output_type": "execute_result"
    }
   ],
   "source": [
    "io['input.number(abc)'].value"
   ]
  },
  {
   "cell_type": "code",
   "execution_count": 11,
   "metadata": {
    "collapsed": false
   },
   "outputs": [
    {
     "name": "stdout",
     "output_type": "stream",
     "text": [
      "PUT: path= input.number(abc)\n",
      "root= <Element run at 0x7fe9b6bb0248>\n",
      "par= -1\n",
      "root=<Element run at 0x7fe9b6bb0248> xpath=input  elem=input\n",
      "root= <Element input at 0x7fe9b6b5b0e0>\n",
      "par= 6\n",
      "root=<Element input at 0x7fe9b6b5b0e0> xpath=number[@id=\"abc\"]  elem=number\n",
      "PUT: <Element number at 0x7fe9b6b5b200> number\n",
      "setting <Element number at 0x7fe9b6b5b200> to 17\n",
      "FORMAT number 17\n"
     ]
    }
   ],
   "source": [
    "io['input.number(abc)'] = 17"
   ]
  },
  {
   "cell_type": "code",
   "execution_count": 12,
   "metadata": {
    "collapsed": false
   },
   "outputs": [
    {
     "data": {
      "text/plain": [
       "17.0"
      ]
     },
     "execution_count": 12,
     "metadata": {},
     "output_type": "execute_result"
    }
   ],
   "source": [
    "io['input.number(abc)'].value"
   ]
  },
  {
   "cell_type": "code",
   "execution_count": 13,
   "metadata": {
    "collapsed": false
   },
   "outputs": [
    {
     "name": "stdout",
     "output_type": "stream",
     "text": [
      "<?xml version=\"1.0\" encoding=\"utf-8\"?>\n",
      "<run>\n",
      " <tool>\n",
      "  <title>\n",
      "   Name of the tool\n",
      "  </title>\n",
      "  <about>\n",
      "   Description and credits\n",
      "  </about>\n",
      "  <command>\n",
      "   @tool/path/to/executable @driver\n",
      "  </command>\n",
      "  <limits>\n",
      "   <cputime>\n",
      "    900\n",
      "   </cputime>\n",
      "  </limits>\n",
      "  <action>\n",
      "   <label>\n",
      "    Simulate\n",
      "   </label>\n",
      "  </action>\n",
      "  <layout>\n",
      "   xxx\n",
      "  </layout>\n",
      "  <control>\n",
      "   xxx\n",
      "  </control>\n",
      "  <uq>\n",
      "   true\n",
      "  </uq>\n",
      "  <analyzer>\n",
      "   xxx\n",
      "  </analyzer>\n",
      "  <reportJobFailures>\n",
      "   1\n",
      "  </reportJobFailures>\n",
      " </tool>\n",
      " <input>\n",
      "  <number id=\"abc\">\n",
      "   <default>\n",
      "    1999\n",
      "   </default>\n",
      "   <current>\n",
      "    17\n",
      "   </current>\n",
      "  </number>\n",
      " </input>\n",
      "</run>\n"
     ]
    }
   ],
   "source": [
    "print(io.xml())"
   ]
  },
  {
   "cell_type": "code",
   "execution_count": null,
   "metadata": {
    "collapsed": true
   },
   "outputs": [],
   "source": []
  }
 ],
 "metadata": {
  "kernelspec": {
   "display_name": "Python2",
   "language": "python",
   "name": "python2"
  },
  "language_info": {
   "codemirror_mode": {
    "name": "ipython",
    "version": 2
   },
   "file_extension": ".py",
   "mimetype": "text/x-python",
   "name": "python",
   "nbconvert_exporter": "python",
   "pygments_lexer": "ipython2",
   "version": "2.7.13"
  }
 },
 "nbformat": 4,
 "nbformat_minor": 0
}
