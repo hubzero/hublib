{
 "cells": [
  {
   "cell_type": "code",
   "execution_count": 1,
   "metadata": {
    "collapsed": false
   },
   "outputs": [],
   "source": [
    "import matplotlib.pyplot as plt\n",
    "import numpy as np\n",
    "\n",
    "import sys, os\n",
    "sys.path.insert(0, os.path.abspath('../../..'))\n",
    "\n",
    "import hublib.rappture as rappture"
   ]
  },
  {
   "cell_type": "code",
   "execution_count": 2,
   "metadata": {
    "collapsed": true
   },
   "outputs": [],
   "source": [
    "deck = \"\"\"\n",
    "-- In a 1D pattern, the pattern should be specified only with rectangles.\n",
    "-- The y-dimension of the rectangles is ignored.\n",
    "\n",
    "S = S4.NewSimulation()\n",
    "S:SetLattice({1,0}, {0,0}) -- 1D lattice\n",
    "S:SetNumG(27)\n",
    "\n",
    "-- Material definition\n",
    "S:AddMaterial(\"Silicon\", {12,0}) -- real and imag parts\n",
    "S:AddMaterial(\"Vacuum\", {1,0})\n",
    "\n",
    "S:AddLayer(\n",
    "    'AirAbove', --name\n",
    "    0,          --thickness\n",
    "    'Vacuum')   --background material\n",
    "S:AddLayer('Slab', 0.5, 'Vacuum')\n",
    "S:SetLayerPatternRectangle('Slab',        -- which layer to alter\n",
    "                           'Silicon',     -- material in rectangle\n",
    "                           {0,0},         -- center\n",
    "                           0,             -- tilt angle (degrees)\n",
    "                           {0.25, 0}) -- half-widths\n",
    "S:AddLayerCopy('AirBelow', -- new layer name\n",
    "               0,          -- thickness\n",
    "               'AirAbove') -- layer to copy\n",
    "\n",
    "-- E polarized along the grating periodicity direction\n",
    "S:SetExcitationPlanewave(\n",
    "    {0,0},  -- incidence angles (spherical coordinates: phi in [0,180], theta in [0,360])\n",
    "    {0,0},  -- s-polarization amplitude and phase (in degrees)\n",
    "    {1,0})  -- p-polarization amplitude and phase\n",
    "\n",
    "--S:UsePolarizationDecomposition()\n",
    "\n",
    "for freq=0.25,0.7,0.005 do\n",
    "    S:SetFrequency(freq)\n",
    "\n",
    "    -- backward should be zero\n",
    "    forward,backward = S:GetPoyntingFlux('AirBelow', -- layer in which to get\n",
    "                                         0)          -- z-offset\n",
    "    print(freq .. '\\t' .. forward);\n",
    "end\n",
    "\"\"\""
   ]
  },
  {
   "cell_type": "code",
   "execution_count": 3,
   "metadata": {
    "collapsed": true
   },
   "outputs": [],
   "source": [
    "#io.list_inputs()\n",
    "#\n",
    "# [option] 'input.phase(mode_option).choice(option)' Current=2 Units='' Label, Desc\n",
    "# [deck] 'input.phase(parameter).group(input_deck).string(deck)' Current, Label, Desc\n",
    "\n",
    "# io['#option'] = "
   ]
  },
  {
   "cell_type": "code",
   "execution_count": 4,
   "metadata": {
    "collapsed": true
   },
   "outputs": [],
   "source": [
    "# io.list_outputs()\n",
    "# [curve_2] 'output.curve(2).component.xy'\n",
    "\n",
    "# io['#curve_2'].display(options)\n",
    "# io.display_all()\n"
   ]
  },
  {
   "cell_type": "code",
   "execution_count": 5,
   "metadata": {
    "collapsed": false
   },
   "outputs": [],
   "source": [
    "io = rappture.Tool(\"s4sim\")\n",
    "io['input.phase(mode_option).choice(option).current'] = 2\n",
    "io['input.phase(parameter).group(input_deck).string(deck).current'] = deck"
   ]
  },
  {
   "cell_type": "code",
   "execution_count": 6,
   "metadata": {
    "collapsed": false
   },
   "outputs": [],
   "source": [
    "# run the tool\n",
    "io.run()"
   ]
  },
  {
   "cell_type": "code",
   "execution_count": 7,
   "metadata": {
    "collapsed": true
   },
   "outputs": [],
   "source": [
    "#rappture.list_outputs(io)\n",
    "#rappture.show_output(io['output.foo.bar'], **kwargs)ou"
   ]
  },
  {
   "cell_type": "code",
   "execution_count": 8,
   "metadata": {
    "collapsed": true
   },
   "outputs": [],
   "source": [
    "xy = io['output.curve(2).component.xy'].value"
   ]
  },
  {
   "cell_type": "code",
   "execution_count": 9,
   "metadata": {
    "collapsed": false
   },
   "outputs": [
    {
     "data": {
      "text/plain": [
       "array([[  2.50000000e-01,   9.08049000e-01],\n",
       "       [  2.55000000e-01,   9.09058000e-01],\n",
       "       [  2.60000000e-01,   9.10408000e-01],\n",
       "       [  2.65000000e-01,   9.12114000e-01],\n",
       "       [  2.70000000e-01,   9.14192000e-01],\n",
       "       [  2.75000000e-01,   9.16657000e-01],\n",
       "       [  2.80000000e-01,   9.19524000e-01],\n",
       "       [  2.85000000e-01,   9.22804000e-01],\n",
       "       [  2.90000000e-01,   9.26508000e-01],\n",
       "       [  2.95000000e-01,   9.30645000e-01],\n",
       "       [  3.00000000e-01,   9.35217000e-01],\n",
       "       [  3.05000000e-01,   9.40220000e-01],\n",
       "       [  3.10000000e-01,   9.45641000e-01],\n",
       "       [  3.15000000e-01,   9.51456000e-01],\n",
       "       [  3.20000000e-01,   9.57620000e-01],\n",
       "       [  3.25000000e-01,   9.64066000e-01],\n",
       "       [  3.30000000e-01,   9.70691000e-01],\n",
       "       [  3.35000000e-01,   9.77346000e-01],\n",
       "       [  3.40000000e-01,   9.83822000e-01],\n",
       "       [  3.45000000e-01,   9.89819000e-01],\n",
       "       [  3.50000000e-01,   9.94926000e-01],\n",
       "       [  3.55000000e-01,   9.98576000e-01],\n",
       "       [  3.60000000e-01,   1.00000000e+00],\n",
       "       [  3.65000000e-01,   9.98171000e-01],\n",
       "       [  3.70000000e-01,   9.91742000e-01],\n",
       "       [  3.75000000e-01,   9.78996000e-01],\n",
       "       [  3.80000000e-01,   9.57834000e-01],\n",
       "       [  3.85000000e-01,   9.25844000e-01],\n",
       "       [  3.90000000e-01,   8.80529000e-01],\n",
       "       [  3.95000000e-01,   8.19773000e-01],\n",
       "       [  4.00000000e-01,   7.42558000e-01],\n",
       "       [  4.05000000e-01,   6.49842000e-01],\n",
       "       [  4.10000000e-01,   5.45256000e-01],\n",
       "       [  4.15000000e-01,   4.35105000e-01],\n",
       "       [  4.20000000e-01,   3.27366000e-01],\n",
       "       [  4.25000000e-01,   2.29865000e-01],\n",
       "       [  4.30000000e-01,   1.48446000e-01],\n",
       "       [  4.35000000e-01,   8.59671000e-02],\n",
       "       [  4.40000000e-01,   4.23960000e-02],\n",
       "       [  4.45000000e-01,   1.56594000e-02],\n",
       "       [  4.50000000e-01,   2.67903000e-03],\n",
       "       [  4.55000000e-01,   1.97699000e-04],\n",
       "       [  4.60000000e-01,   5.27068000e-03],\n",
       "       [  4.65000000e-01,   1.54720000e-02],\n",
       "       [  4.70000000e-01,   2.89204000e-02],\n",
       "       [  4.75000000e-01,   4.42165000e-02],\n",
       "       [  4.80000000e-01,   6.03493000e-02],\n",
       "       [  4.85000000e-01,   7.66039000e-02],\n",
       "       [  4.90000000e-01,   9.24815000e-02],\n",
       "       [  4.95000000e-01,   1.07637000e-01],\n",
       "       [  5.00000000e-01,   1.21832000e-01],\n",
       "       [  5.05000000e-01,   1.34895000e-01],\n",
       "       [  5.10000000e-01,   1.46702000e-01],\n",
       "       [  5.15000000e-01,   1.57152000e-01],\n",
       "       [  5.20000000e-01,   1.66154000e-01],\n",
       "       [  5.25000000e-01,   1.73617000e-01],\n",
       "       [  5.30000000e-01,   1.79442000e-01],\n",
       "       [  5.35000000e-01,   1.83513000e-01],\n",
       "       [  5.40000000e-01,   1.85693000e-01],\n",
       "       [  5.45000000e-01,   1.85822000e-01],\n",
       "       [  5.50000000e-01,   1.83710000e-01],\n",
       "       [  5.55000000e-01,   1.79140000e-01],\n",
       "       [  5.60000000e-01,   1.71869000e-01],\n",
       "       [  5.65000000e-01,   1.61646000e-01],\n",
       "       [  5.70000000e-01,   1.48236000e-01],\n",
       "       [  5.75000000e-01,   1.31477000e-01],\n",
       "       [  5.80000000e-01,   1.11374000e-01],\n",
       "       [  5.85000000e-01,   8.82637000e-02],\n",
       "       [  5.90000000e-01,   6.30830000e-02],\n",
       "       [  5.95000000e-01,   3.77433000e-02],\n",
       "       [  6.00000000e-01,   1.55913000e-02],\n",
       "       [  6.05000000e-01,   1.75679000e-03],\n",
       "       [  6.10000000e-01,   2.95173000e-03],\n",
       "       [  6.15000000e-01,   2.60967000e-02],\n",
       "       [  6.20000000e-01,   7.55590000e-02],\n",
       "       [  6.25000000e-01,   1.50148000e-01],\n",
       "       [  6.30000000e-01,   2.42280000e-01],\n",
       "       [  6.35000000e-01,   3.40622000e-01],\n",
       "       [  6.40000000e-01,   4.34465000e-01],\n",
       "       [  6.45000000e-01,   5.16736000e-01],\n",
       "       [  6.50000000e-01,   5.84471000e-01],\n",
       "       [  6.55000000e-01,   6.37655000e-01],\n",
       "       [  6.60000000e-01,   6.77788000e-01],\n",
       "       [  6.65000000e-01,   7.06848000e-01],\n",
       "       [  6.70000000e-01,   7.26727000e-01],\n",
       "       [  6.75000000e-01,   7.39009000e-01],\n",
       "       [  6.80000000e-01,   7.44923000e-01],\n",
       "       [  6.85000000e-01,   7.45376000e-01],\n",
       "       [  6.90000000e-01,   7.41018000e-01],\n",
       "       [  6.95000000e-01,   7.32294000e-01]])"
      ]
     },
     "execution_count": 9,
     "metadata": {},
     "output_type": "execute_result"
    }
   ],
   "source": [
    "xy"
   ]
  },
  {
   "cell_type": "code",
   "execution_count": 10,
   "metadata": {
    "collapsed": false
   },
   "outputs": [
    {
     "ename": "AttributeError",
     "evalue": "'numpy.ndarray' object has no attribute 'split'",
     "output_type": "error",
     "traceback": [
      "\u001b[0;31m---------------------------------------------------------------------------\u001b[0m",
      "\u001b[0;31mAttributeError\u001b[0m                            Traceback (most recent call last)",
      "\u001b[0;32m<ipython-input-10-4158dd97b0f9>\u001b[0m in \u001b[0;36m<module>\u001b[0;34m()\u001b[0m\n\u001b[1;32m      1\u001b[0m \u001b[0;32mimport\u001b[0m \u001b[0mstring\u001b[0m\u001b[0;34m\u001b[0m\u001b[0m\n\u001b[0;32m----> 2\u001b[0;31m \u001b[0;34m' '\u001b[0m\u001b[0;34m.\u001b[0m\u001b[0mjoin\u001b[0m\u001b[0;34m(\u001b[0m\u001b[0mxy\u001b[0m\u001b[0;34m.\u001b[0m\u001b[0msplit\u001b[0m\u001b[0;34m(\u001b[0m\u001b[0;34m'\\n '\u001b[0m\u001b[0;34m)\u001b[0m\u001b[0;34m)\u001b[0m\u001b[0;34m\u001b[0m\u001b[0m\n\u001b[0m",
      "\u001b[0;31mAttributeError\u001b[0m: 'numpy.ndarray' object has no attribute 'split'"
     ]
    }
   ],
   "source": [
    "import string\n",
    "' '.join(xy.split('\\n '))"
   ]
  },
  {
   "cell_type": "code",
   "execution_count": null,
   "metadata": {
    "collapsed": false
   },
   "outputs": [],
   "source": [
    "# xy is a string containing lines of x and y values separated by whitespace\n",
    "# parse it, turning it into an array of floats\n",
    "\n",
    "xy = ' '.join(xy.split('\\n'))\n",
    "xy = [float(x) for x in xy.split()]\n",
    "xy = np.array(xy).reshape(-1,2)"
   ]
  },
  {
   "cell_type": "code",
   "execution_count": null,
   "metadata": {
    "collapsed": false
   },
   "outputs": [],
   "source": [
    "plt.plot(xy[:,0], xy[:,1])\n",
    "plt.grid()\n",
    "plt.show()"
   ]
  },
  {
   "cell_type": "code",
   "execution_count": null,
   "metadata": {
    "collapsed": true
   },
   "outputs": [],
   "source": []
  },
  {
   "cell_type": "code",
   "execution_count": null,
   "metadata": {
    "collapsed": true
   },
   "outputs": [],
   "source": []
  }
 ],
 "metadata": {
  "kernelspec": {
   "display_name": "Python2",
   "language": "python",
   "name": "python2"
  },
  "language_info": {
   "codemirror_mode": {
    "name": "ipython",
    "version": 2
   },
   "file_extension": ".py",
   "mimetype": "text/x-python",
   "name": "python",
   "nbconvert_exporter": "python",
   "pygments_lexer": "ipython2",
   "version": "2.7.13"
  }
 },
 "nbformat": 4,
 "nbformat_minor": 1
}
