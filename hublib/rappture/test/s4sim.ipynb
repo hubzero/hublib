{
 "cells": [
  {
   "cell_type": "code",
   "execution_count": 1,
   "metadata": {
    "collapsed": false
   },
   "outputs": [],
   "source": [
    "import matplotlib.pyplot as plt\n",
    "import numpy as np\n",
    "import rappture\n",
    "\n",
    "# FIXME: Should get this from the tool invoke script\n",
    "import hublib.use\n",
    "%use s4-1.0.0"
   ]
  },
  {
   "cell_type": "code",
   "execution_count": 2,
   "metadata": {
    "collapsed": true
   },
   "outputs": [],
   "source": [
    "deck = \"\"\"\n",
    "-- In a 1D pattern, the pattern should be specified only with rectangles.\n",
    "-- The y-dimension of the rectangles is ignored.\n",
    "\n",
    "S = S4.NewSimulation()\n",
    "S:SetLattice({1,0}, {0,0}) -- 1D lattice\n",
    "S:SetNumG(27)\n",
    "\n",
    "-- Material definition\n",
    "S:AddMaterial(\"Silicon\", {12,0}) -- real and imag parts\n",
    "S:AddMaterial(\"Vacuum\", {1,0})\n",
    "\n",
    "S:AddLayer(\n",
    "    'AirAbove', --name\n",
    "    0,          --thickness\n",
    "    'Vacuum')   --background material\n",
    "S:AddLayer('Slab', 0.5, 'Vacuum')\n",
    "S:SetLayerPatternRectangle('Slab',        -- which layer to alter\n",
    "                           'Silicon',     -- material in rectangle\n",
    "                           {0,0},         -- center\n",
    "                           0,             -- tilt angle (degrees)\n",
    "                           {0.25, 0}) -- half-widths\n",
    "S:AddLayerCopy('AirBelow', -- new layer name\n",
    "               0,          -- thickness\n",
    "               'AirAbove') -- layer to copy\n",
    "\n",
    "-- E polarized along the grating periodicity direction\n",
    "S:SetExcitationPlanewave(\n",
    "    {0,0},  -- incidence angles (spherical coordinates: phi in [0,180], theta in [0,360])\n",
    "    {0,0},  -- s-polarization amplitude and phase (in degrees)\n",
    "    {1,0})  -- p-polarization amplitude and phase\n",
    "\n",
    "--S:UsePolarizationDecomposition()\n",
    "\n",
    "for freq=0.25,0.7,0.005 do\n",
    "    S:SetFrequency(freq)\n",
    "\n",
    "    -- backward should be zero\n",
    "    forward,backward = S:GetPoyntingFlux('AirBelow', -- layer in which to get\n",
    "                                         0)          -- z-offset\n",
    "    print(freq .. '\\t' .. forward);\n",
    "end\n",
    "\"\"\""
   ]
  },
  {
   "cell_type": "code",
   "execution_count": null,
   "metadata": {
    "collapsed": true
   },
   "outputs": [],
   "source": [
    "#io.list_inputs()\n",
    "#\n",
    "# [option] 'input.phase(mode_option).choice(option)' Current=2 Units='' Label, Desc\n",
    "# [deck] 'input.phase(parameter).group(input_deck).string(deck)' Current, Label, Desc\n",
    "\n",
    "# io['#option'] = "
   ]
  },
  {
   "cell_type": "code",
   "execution_count": null,
   "metadata": {
    "collapsed": true
   },
   "outputs": [],
   "source": [
    "# io.list_outputs()\n",
    "# [curve_2] 'output.curve(2).component.xy'\n",
    "\n",
    "# io['#curve_2'].display(options)\n",
    "# io.display_all()\n"
   ]
  },
  {
   "cell_type": "code",
   "execution_count": 3,
   "metadata": {
    "collapsed": false
   },
   "outputs": [],
   "source": [
    "io = rappture.Tool(\"s4sim\")\n",
    "io['input.phase(mode_option).choice(option).current'] = 2\n",
    "io['input.phase(parameter).group(input_deck).string(deck).current'] = deck"
   ]
  },
  {
   "cell_type": "code",
   "execution_count": null,
   "metadata": {
    "collapsed": true
   },
   "outputs": [],
   "source": [
    "# run the tool\n",
    "io.run()"
   ]
  },
  {
   "cell_type": "code",
   "execution_count": null,
   "metadata": {
    "collapsed": true
   },
   "outputs": [],
   "source": [
    "#rappture.list_outputs(io)\n",
    "#rappture.show_output(io['output.foo.bar'], **kwargs)ou"
   ]
  },
  {
   "cell_type": "code",
   "execution_count": 48,
   "metadata": {
    "collapsed": true
   },
   "outputs": [],
   "source": [
    "xy = io['output.curve(2).component.xy'].value"
   ]
  },
  {
   "cell_type": "code",
   "execution_count": 49,
   "metadata": {
    "collapsed": false
   },
   "outputs": [
    {
     "data": {
      "text/plain": [
       "'        0.25     0.908049\\n       0.255     0.909058\\n        0.26     0.910408\\n       0.265     0.912114\\n        0.27     0.914192\\n       0.275     0.916657\\n        0.28     0.919524\\n       0.285     0.922804\\n        0.29     0.926508\\n       0.295     0.930645\\n         0.3     0.935217\\n       0.305      0.94022\\n        0.31     0.945641\\n       0.315     0.951456\\n        0.32      0.95762\\n       0.325     0.964066\\n        0.33     0.970691\\n       0.335     0.977346\\n        0.34     0.983822\\n       0.345     0.989819\\n        0.35     0.994926\\n       0.355     0.998576\\n        0.36            1\\n       0.365     0.998171\\n        0.37     0.991742\\n       0.375     0.978996\\n        0.38     0.957834\\n       0.385     0.925844\\n        0.39     0.880529\\n       0.395     0.819773\\n         0.4     0.742558\\n       0.405     0.649842\\n        0.41     0.545256\\n       0.415     0.435105\\n        0.42     0.327366\\n       0.425     0.229865\\n        0.43     0.148446\\n       0.435    0.0859671\\n        0.44     0.042396\\n       0.445    0.0156594\\n        0.45   0.00267903\\n       0.455  0.000197699\\n        0.46   0.00527068\\n       0.465     0.015472\\n        0.47    0.0289204\\n       0.475    0.0442165\\n        0.48    0.0603493\\n       0.485    0.0766039\\n        0.49    0.0924815\\n       0.495     0.107637\\n         0.5     0.121832\\n       0.505     0.134895\\n        0.51     0.146702\\n       0.515     0.157152\\n        0.52     0.166154\\n       0.525     0.173617\\n        0.53     0.179442\\n       0.535     0.183513\\n        0.54     0.185693\\n       0.545     0.185822\\n        0.55      0.18371\\n       0.555      0.17914\\n        0.56     0.171869\\n       0.565     0.161646\\n        0.57     0.148236\\n       0.575     0.131477\\n        0.58     0.111374\\n       0.585    0.0882637\\n        0.59     0.063083\\n       0.595    0.0377433\\n         0.6    0.0155913\\n       0.605   0.00175679\\n        0.61   0.00295173\\n       0.615    0.0260967\\n        0.62     0.075559\\n       0.625     0.150148\\n        0.63      0.24228\\n       0.635     0.340622\\n        0.64     0.434465\\n       0.645     0.516736\\n        0.65     0.584471\\n       0.655     0.637655\\n        0.66     0.677788\\n       0.665     0.706848\\n        0.67     0.726727\\n       0.675     0.739009\\n        0.68     0.744923\\n       0.685     0.745376\\n        0.69     0.741018\\n       0.695     0.732294\\n'"
      ]
     },
     "execution_count": 49,
     "metadata": {},
     "output_type": "execute_result"
    }
   ],
   "source": [
    "xy"
   ]
  },
  {
   "cell_type": "code",
   "execution_count": 55,
   "metadata": {
    "collapsed": false
   },
   "outputs": [
    {
     "data": {
      "text/plain": [
       "'        0.25     0.908049       0.255     0.909058        0.26     0.910408       0.265     0.912114        0.27     0.914192       0.275     0.916657        0.28     0.919524       0.285     0.922804        0.29     0.926508       0.295     0.930645         0.3     0.935217       0.305      0.94022        0.31     0.945641       0.315     0.951456        0.32      0.95762       0.325     0.964066        0.33     0.970691       0.335     0.977346        0.34     0.983822       0.345     0.989819        0.35     0.994926       0.355     0.998576        0.36            1       0.365     0.998171        0.37     0.991742       0.375     0.978996        0.38     0.957834       0.385     0.925844        0.39     0.880529       0.395     0.819773         0.4     0.742558       0.405     0.649842        0.41     0.545256       0.415     0.435105        0.42     0.327366       0.425     0.229865        0.43     0.148446       0.435    0.0859671        0.44     0.042396       0.445    0.0156594        0.45   0.00267903       0.455  0.000197699        0.46   0.00527068       0.465     0.015472        0.47    0.0289204       0.475    0.0442165        0.48    0.0603493       0.485    0.0766039        0.49    0.0924815       0.495     0.107637         0.5     0.121832       0.505     0.134895        0.51     0.146702       0.515     0.157152        0.52     0.166154       0.525     0.173617        0.53     0.179442       0.535     0.183513        0.54     0.185693       0.545     0.185822        0.55      0.18371       0.555      0.17914        0.56     0.171869       0.565     0.161646        0.57     0.148236       0.575     0.131477        0.58     0.111374       0.585    0.0882637        0.59     0.063083       0.595    0.0377433         0.6    0.0155913       0.605   0.00175679        0.61   0.00295173       0.615    0.0260967        0.62     0.075559       0.625     0.150148        0.63      0.24228       0.635     0.340622        0.64     0.434465       0.645     0.516736        0.65     0.584471       0.655     0.637655        0.66     0.677788       0.665     0.706848        0.67     0.726727       0.675     0.739009        0.68     0.744923       0.685     0.745376        0.69     0.741018       0.695     0.732294\\n'"
      ]
     },
     "execution_count": 55,
     "metadata": {},
     "output_type": "execute_result"
    }
   ],
   "source": [
    "import string\n",
    "' '.join(xy.split('\\n '))"
   ]
  },
  {
   "cell_type": "code",
   "execution_count": 46,
   "metadata": {
    "collapsed": false
   },
   "outputs": [],
   "source": [
    "# xy is a string containing lines of x and y values separated by whitespace\n",
    "# parse it, turning it into an array of floats\n",
    "\n",
    "xy = ' '.join(xy.split('\\n'))\n",
    "xy = [float(x) for x in xy.split()]\n",
    "xy = np.array(xy).reshape(-1,2)"
   ]
  },
  {
   "cell_type": "code",
   "execution_count": 47,
   "metadata": {
    "collapsed": false
   },
   "outputs": [
    {
     "data": {
      "image/png": "[encoded data removed]",
      "text/plain": [
       "<matplotlib.figure.Figure at 0x7fd6aabcb090>"
      ]
     },
     "metadata": {},
     "output_type": "display_data"
    }
   ],
   "source": [
    "plt.plot(xy[:,0], xy[:,1])\n",
    "plt.grid()\n",
    "plt.show()"
   ]
  }
 ],
 "metadata": {
  "kernelspec": {
   "display_name": "Python2",
   "language": "python",
   "name": "python2"
  },
  "language_info": {
   "codemirror_mode": {
    "name": "ipython",
    "version": 2
   },
   "file_extension": ".py",
   "mimetype": "text/x-python",
   "name": "python",
   "nbconvert_exporter": "python",
   "pygments_lexer": "ipython2",
   "version": "2.7.13"
  }
 },
 "nbformat": 4,
 "nbformat_minor": 1
}
