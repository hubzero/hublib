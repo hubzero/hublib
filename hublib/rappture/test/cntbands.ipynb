{
 "cells": [
  {
   "cell_type": "code",
   "execution_count": 1,
   "metadata": {
    "collapsed": false,
    "deletable": true,
    "editable": true
   },
   "outputs": [],
   "source": [
    "from __future__ import print_function\n",
    "import pytest\n",
    "import os, sys\n",
    "import numpy as np\n",
    "\n",
    "sys.path.insert(0, os.path.abspath('../../..'))\n",
    "import hublib.rappture as rappture\n",
    "from hublib import ureg, Q_"
   ]
  },
  {
   "cell_type": "code",
   "execution_count": 2,
   "metadata": {
    "collapsed": false,
    "deletable": true,
    "editable": true
   },
   "outputs": [],
   "source": [
    "io = rappture.RapXML('CNTbands_run.xml')"
   ]
  },
  {
   "cell_type": "code",
   "execution_count": 3,
   "metadata": {
    "collapsed": false,
    "deletable": true,
    "editable": true
   },
   "outputs": [
    {
     "data": {
      "text/html": [
       "<h3>INPUTS</h3>\n",
       "<table><tr bgcolor=\"#cccccc\"><th>Path</th><th>Label</th><th>Description</th></tr>\n",
       "<tr bgcolor=\"#ffffff\"><td>input.structure()</td><td></td><td></td></tr><tr bgcolor=\"#dddddd\"><td>input.group(chirality).integer(CarbonTypeN)</td><td>n</td><td>\n",
       "In Carbon Nanotubes (CNT):\n",
       "The chiralit</td></tr><tr bgcolor=\"#ffffff\"><td>input.group(chirality).integer(CarbonTypeM)</td><td>m</td><td>\n",
       "In Carbon Nanotubes (CNT):\n",
       "The chiralit</td></tr><tr bgcolor=\"#dddddd\"><td>input.group(model).number(TightBindingEnergy)</td><td>Tight Binding Energy</td><td>This is the tight binding overlap integr</td></tr><tr bgcolor=\"#ffffff\"><td>input.group(model).number(CenterToCenter)</td><td>Carbon-carbon spacing</td><td>This is the distance between the centers</td></tr><tr bgcolor=\"#dddddd\"><td>input.integer(NumCellForTube)</td><td>Length in 3-D view</td><td>This determines the length of the nanost</td></tr></table>\n",
       "<h3>OUTPUTS</h3>\n",
       "<table><tr bgcolor=\"#cccccc\"><th>Path</th><th>Label</th><th>Description</th></tr>\n",
       "<tr bgcolor=\"#ffffff\"><td>output.log()</td><td></td><td></td></tr><tr bgcolor=\"#dddddd\"><td>output.structure(tube)</td><td>Molecular structure: overall</td><td></td></tr><tr bgcolor=\"#ffffff\"><td>output.structure(cell)</td><td>Molecular structure: unit cell</td><td></td></tr><tr bgcolor=\"#dddddd\"><td>output.curve(E2)</td><td>Energy vs. Axial Wave Vector</td><td></td></tr><tr bgcolor=\"#ffffff\"><td>output.curve(E3)</td><td>Energy vs. Axial Wave Vector</td><td></td></tr><tr bgcolor=\"#dddddd\"><td>output.curve(E4)</td><td>Energy vs. Axial Wave Vector</td><td></td></tr><tr bgcolor=\"#ffffff\"><td>output.curve(E5)</td><td>Energy vs. Axial Wave Vector</td><td></td></tr><tr bgcolor=\"#dddddd\"><td>output.curve(E6)</td><td>Energy vs. Axial Wave Vector</td><td></td></tr><tr bgcolor=\"#ffffff\"><td>output.curve(E7)</td><td>Energy vs. Axial Wave Vector</td><td></td></tr><tr bgcolor=\"#dddddd\"><td>output.curve(E8)</td><td>Energy vs. Axial Wave Vector</td><td></td></tr><tr bgcolor=\"#ffffff\"><td>output.curve(E9)</td><td>Energy vs. Axial Wave Vector</td><td></td></tr><tr bgcolor=\"#dddddd\"><td>output.curve(E10)</td><td>Energy vs. Axial Wave Vector</td><td></td></tr><tr bgcolor=\"#ffffff\"><td>output.curve(E11)</td><td>Energy vs. Axial Wave Vector</td><td></td></tr><tr bgcolor=\"#dddddd\"><td>output.curve(E12)</td><td>Energy vs. Axial Wave Vector</td><td></td></tr><tr bgcolor=\"#ffffff\"><td>output.curve(E13)</td><td>Energy vs. Axial Wave Vector</td><td></td></tr><tr bgcolor=\"#dddddd\"><td>output.curve(E14)</td><td>Energy vs. Axial Wave Vector</td><td></td></tr><tr bgcolor=\"#ffffff\"><td>output.curve(E15)</td><td>Energy vs. Axial Wave Vector</td><td></td></tr><tr bgcolor=\"#dddddd\"><td>output.curve(E16)</td><td>Energy vs. Axial Wave Vector</td><td></td></tr><tr bgcolor=\"#ffffff\"><td>output.curve(E17)</td><td>Energy vs. Axial Wave Vector</td><td></td></tr><tr bgcolor=\"#dddddd\"><td>output.curve(E18)</td><td>Energy vs. Axial Wave Vector</td><td></td></tr><tr bgcolor=\"#ffffff\"><td>output.curve(E19)</td><td>Energy vs. Axial Wave Vector</td><td></td></tr><tr bgcolor=\"#dddddd\"><td>output.curve(E20)</td><td>Energy vs. Axial Wave Vector</td><td></td></tr><tr bgcolor=\"#ffffff\"><td>output.curve(E21)</td><td>Energy vs. Axial Wave Vector</td><td></td></tr><tr bgcolor=\"#dddddd\"><td>output.curve(E22)</td><td>Energy vs. Axial Wave Vector</td><td></td></tr><tr bgcolor=\"#ffffff\"><td>output.curve(E23)</td><td>Energy vs. Axial Wave Vector</td><td></td></tr><tr bgcolor=\"#dddddd\"><td>output.curve(E24)</td><td>Energy vs. Axial Wave Vector</td><td></td></tr><tr bgcolor=\"#ffffff\"><td>output.curve(E25)</td><td>Energy vs. Axial Wave Vector</td><td></td></tr><tr bgcolor=\"#dddddd\"><td>output.curve(E26)</td><td>Energy vs. Axial Wave Vector</td><td></td></tr><tr bgcolor=\"#ffffff\"><td>output.curve(E27)</td><td>Energy vs. Axial Wave Vector</td><td></td></tr><tr bgcolor=\"#dddddd\"><td>output.curve(E28)</td><td>Energy vs. Axial Wave Vector</td><td></td></tr><tr bgcolor=\"#ffffff\"><td>output.curve(E29)</td><td>Energy vs. Axial Wave Vector</td><td></td></tr><tr bgcolor=\"#dddddd\"><td>output.curve(E30)</td><td>Energy vs. Axial Wave Vector</td><td></td></tr><tr bgcolor=\"#ffffff\"><td>output.curve(E31)</td><td>Energy vs. Axial Wave Vector</td><td></td></tr><tr bgcolor=\"#dddddd\"><td>output.curve(E32)</td><td>Energy vs. Axial Wave Vector</td><td></td></tr><tr bgcolor=\"#ffffff\"><td>output.curve(E33)</td><td>Energy vs. Axial Wave Vector</td><td></td></tr><tr bgcolor=\"#dddddd\"><td>output.curve(E34)</td><td>Energy vs. Axial Wave Vector</td><td></td></tr><tr bgcolor=\"#ffffff\"><td>output.curve(E35)</td><td>Energy vs. Axial Wave Vector</td><td></td></tr><tr bgcolor=\"#dddddd\"><td>output.curve(E36)</td><td>Energy vs. Axial Wave Vector</td><td></td></tr><tr bgcolor=\"#ffffff\"><td>output.curve(E37)</td><td>Energy vs. Axial Wave Vector</td><td></td></tr><tr bgcolor=\"#dddddd\"><td>output.curve(E38)</td><td>Energy vs. Axial Wave Vector</td><td></td></tr><tr bgcolor=\"#ffffff\"><td>output.curve(E39)</td><td>Energy vs. Axial Wave Vector</td><td></td></tr><tr bgcolor=\"#dddddd\"><td>output.curve(E40)</td><td>Energy vs. Axial Wave Vector</td><td></td></tr><tr bgcolor=\"#ffffff\"><td>output.curve(E41)</td><td>Energy vs. Axial Wave Vector</td><td></td></tr><tr bgcolor=\"#dddddd\"><td>output.curve(E42)</td><td>Energy vs. Axial Wave Vector</td><td></td></tr><tr bgcolor=\"#ffffff\"><td>output.curve(E43)</td><td>Energy vs. Axial Wave Vector</td><td></td></tr><tr bgcolor=\"#dddddd\"><td>output.curve(E44)</td><td>Energy vs. Axial Wave Vector</td><td></td></tr><tr bgcolor=\"#ffffff\"><td>output.curve(E45)</td><td>Energy vs. Axial Wave Vector</td><td></td></tr><tr bgcolor=\"#dddddd\"><td>output.curve(E46)</td><td>Energy vs. Axial Wave Vector</td><td></td></tr><tr bgcolor=\"#ffffff\"><td>output.curve(E47)</td><td>Energy vs. Axial Wave Vector</td><td></td></tr><tr bgcolor=\"#dddddd\"><td>output.curve(E48)</td><td>Energy vs. Axial Wave Vector</td><td></td></tr><tr bgcolor=\"#ffffff\"><td>output.curve(E49)</td><td>Energy vs. Axial Wave Vector</td><td></td></tr><tr bgcolor=\"#dddddd\"><td>output.curve(E50)</td><td>Energy vs. Axial Wave Vector</td><td></td></tr><tr bgcolor=\"#ffffff\"><td>output.curve(E51)</td><td>Energy vs. Axial Wave Vector</td><td></td></tr><tr bgcolor=\"#dddddd\"><td>output.curve(E52)</td><td>Energy vs. Axial Wave Vector</td><td></td></tr><tr bgcolor=\"#ffffff\"><td>output.curve(E53)</td><td>Energy vs. Axial Wave Vector</td><td></td></tr><tr bgcolor=\"#dddddd\"><td>output.curve(DOS)</td><td>Density-Of-States vs. Energy</td><td></td></tr><tr bgcolor=\"#ffffff\"><td>output.curve(EkTBM2_2)</td><td>Lowest subband (Pz tight-binding)</td><td></td></tr><tr bgcolor=\"#dddddd\"><td>output.curve(EkTBM2_3)</td><td>Lowest subband (Pz tight-binding)</td><td></td></tr></table>\n",
       "<h3>CURVE GROUPS</h3><table><tr bgcolor=\"#cccccc\"><th>Density-Of-States vs. Energy</th><tr bgcolor=\"#ffffff\"><td>output.curve(DOS)</td></tr>\n",
       "</table>\n",
       "<table><tr bgcolor=\"#cccccc\"><th>Lowest subband (Pz tight-binding)</th><tr bgcolor=\"#ffffff\"><td>output.curve(EkTBM2_2)</td></tr>\n",
       "<tr bgcolor=\"#dddddd\"><td>output.curve(EkTBM2_3)</td></tr>\n",
       "</table>\n",
       "<table><tr bgcolor=\"#cccccc\"><th>Energy vs. Axial Wave Vector</th><tr bgcolor=\"#ffffff\"><td>output.curve(E2)</td></tr>\n",
       "<tr bgcolor=\"#dddddd\"><td>output.curve(E3)</td></tr>\n",
       "<tr bgcolor=\"#ffffff\"><td>output.curve(E4)</td></tr>\n",
       "<tr bgcolor=\"#dddddd\"><td>output.curve(E5)</td></tr>\n",
       "<tr bgcolor=\"#ffffff\"><td>output.curve(E6)</td></tr>\n",
       "<tr bgcolor=\"#dddddd\"><td>output.curve(E7)</td></tr>\n",
       "<tr bgcolor=\"#ffffff\"><td>output.curve(E8)</td></tr>\n",
       "<tr bgcolor=\"#dddddd\"><td>output.curve(E9)</td></tr>\n",
       "<tr bgcolor=\"#ffffff\"><td>output.curve(E10)</td></tr>\n",
       "<tr bgcolor=\"#dddddd\"><td>output.curve(E11)</td></tr>\n",
       "<tr bgcolor=\"#ffffff\"><td>output.curve(E12)</td></tr>\n",
       "<tr bgcolor=\"#dddddd\"><td>output.curve(E13)</td></tr>\n",
       "<tr bgcolor=\"#ffffff\"><td>output.curve(E14)</td></tr>\n",
       "<tr bgcolor=\"#dddddd\"><td>output.curve(E15)</td></tr>\n",
       "<tr bgcolor=\"#ffffff\"><td>output.curve(E16)</td></tr>\n",
       "<tr bgcolor=\"#dddddd\"><td>output.curve(E17)</td></tr>\n",
       "<tr bgcolor=\"#ffffff\"><td>output.curve(E18)</td></tr>\n",
       "<tr bgcolor=\"#dddddd\"><td>output.curve(E19)</td></tr>\n",
       "<tr bgcolor=\"#ffffff\"><td>output.curve(E20)</td></tr>\n",
       "<tr bgcolor=\"#dddddd\"><td>output.curve(E21)</td></tr>\n",
       "<tr bgcolor=\"#ffffff\"><td>output.curve(E22)</td></tr>\n",
       "<tr bgcolor=\"#dddddd\"><td>output.curve(E23)</td></tr>\n",
       "<tr bgcolor=\"#ffffff\"><td>output.curve(E24)</td></tr>\n",
       "<tr bgcolor=\"#dddddd\"><td>output.curve(E25)</td></tr>\n",
       "<tr bgcolor=\"#ffffff\"><td>output.curve(E26)</td></tr>\n",
       "<tr bgcolor=\"#dddddd\"><td>output.curve(E27)</td></tr>\n",
       "<tr bgcolor=\"#ffffff\"><td>output.curve(E28)</td></tr>\n",
       "<tr bgcolor=\"#dddddd\"><td>output.curve(E29)</td></tr>\n",
       "<tr bgcolor=\"#ffffff\"><td>output.curve(E30)</td></tr>\n",
       "<tr bgcolor=\"#dddddd\"><td>output.curve(E31)</td></tr>\n",
       "<tr bgcolor=\"#ffffff\"><td>output.curve(E32)</td></tr>\n",
       "<tr bgcolor=\"#dddddd\"><td>output.curve(E33)</td></tr>\n",
       "<tr bgcolor=\"#ffffff\"><td>output.curve(E34)</td></tr>\n",
       "<tr bgcolor=\"#dddddd\"><td>output.curve(E35)</td></tr>\n",
       "<tr bgcolor=\"#ffffff\"><td>output.curve(E36)</td></tr>\n",
       "<tr bgcolor=\"#dddddd\"><td>output.curve(E37)</td></tr>\n",
       "<tr bgcolor=\"#ffffff\"><td>output.curve(E38)</td></tr>\n",
       "<tr bgcolor=\"#dddddd\"><td>output.curve(E39)</td></tr>\n",
       "<tr bgcolor=\"#ffffff\"><td>output.curve(E40)</td></tr>\n",
       "<tr bgcolor=\"#dddddd\"><td>output.curve(E41)</td></tr>\n",
       "<tr bgcolor=\"#ffffff\"><td>output.curve(E42)</td></tr>\n",
       "<tr bgcolor=\"#dddddd\"><td>output.curve(E43)</td></tr>\n",
       "<tr bgcolor=\"#ffffff\"><td>output.curve(E44)</td></tr>\n",
       "<tr bgcolor=\"#dddddd\"><td>output.curve(E45)</td></tr>\n",
       "<tr bgcolor=\"#ffffff\"><td>output.curve(E46)</td></tr>\n",
       "<tr bgcolor=\"#dddddd\"><td>output.curve(E47)</td></tr>\n",
       "<tr bgcolor=\"#ffffff\"><td>output.curve(E48)</td></tr>\n",
       "<tr bgcolor=\"#dddddd\"><td>output.curve(E49)</td></tr>\n",
       "<tr bgcolor=\"#ffffff\"><td>output.curve(E50)</td></tr>\n",
       "<tr bgcolor=\"#dddddd\"><td>output.curve(E51)</td></tr>\n",
       "<tr bgcolor=\"#ffffff\"><td>output.curve(E52)</td></tr>\n",
       "<tr bgcolor=\"#dddddd\"><td>output.curve(E53)</td></tr>\n",
       "</table>"
      ],
      "text/plain": [
       "<hublib.rappture.rappture.RapXMLInfo at 0x7f9ce567bc50>"
      ]
     },
     "execution_count": 3,
     "metadata": {},
     "output_type": "execute_result"
    }
   ],
   "source": [
    "io.info()"
   ]
  },
  {
   "cell_type": "code",
   "execution_count": 4,
   "metadata": {
    "collapsed": false,
    "deletable": true,
    "editable": true
   },
   "outputs": [
    {
     "data": {
      "application/javascript": [
       "/* Put everything inside the global mpl namespace */\n",
       "window.mpl = {};\n",
       "\n",
       "\n",
       "mpl.get_websocket_type = function() {\n",
       "    if (typeof(WebSocket) !== 'undefined') {\n",
       "        return WebSocket;\n",
       "    } else if (typeof(MozWebSocket) !== 'undefined') {\n",
       "        return MozWebSocket;\n",
       "    } else {\n",
       "        alert('Your browser does not have WebSocket support.' +\n",
       "              'Please try Chrome, Safari or Firefox ≥ 6. ' +\n",
       "              'Firefox 4 and 5 are also supported but you ' +\n",
       "              'have to enable WebSockets in about:config.');\n",
       "    };\n",
       "}\n",
       "\n",
       "mpl.figure = function(figure_id, websocket, ondownload, parent_element) {\n",
       "    this.id = figure_id;\n",
       "\n",
       "    this.ws = websocket;\n",
       "\n",
       "    this.supports_binary = (this.ws.binaryType != undefined);\n",
       "\n",
       "    if (!this.supports_binary) {\n",
       "        var warnings = document.getElementById(\"mpl-warnings\");\n",
       "        if (warnings) {\n",
       "            warnings.style.display = 'block';\n",
       "            warnings.textContent = (\n",
       "                \"This browser does not support binary websocket messages. \" +\n",
       "                    \"Performance may be slow.\");\n",
       "        }\n",
       "    }\n",
       "\n",
       "    this.imageObj = new Image();\n",
       "\n",
       "    this.context = undefined;\n",
       "    this.message = undefined;\n",
       "    this.canvas = undefined;\n",
       "    this.rubberband_canvas = undefined;\n",
       "    this.rubberband_context = undefined;\n",
       "    this.format_dropdown = undefined;\n",
       "\n",
       "    this.image_mode = 'full';\n",
       "\n",
       "    this.root = $('<div/>');\n",
       "    this._root_extra_style(this.root)\n",
       "    this.root.attr('style', 'display: inline-block');\n",
       "\n",
       "    $(parent_element).append(this.root);\n",
       "\n",
       "    this._init_header(this);\n",
       "    this._init_canvas(this);\n",
       "    this._init_toolbar(this);\n",
       "\n",
       "    var fig = this;\n",
       "\n",
       "    this.waiting = false;\n",
       "\n",
       "    this.ws.onopen =  function () {\n",
       "            fig.send_message(\"supports_binary\", {value: fig.supports_binary});\n",
       "            fig.send_message(\"send_image_mode\", {});\n",
       "            if (mpl.ratio != 1) {\n",
       "                fig.send_message(\"set_dpi_ratio\", {'dpi_ratio': mpl.ratio});\n",
       "            }\n",
       "            fig.send_message(\"refresh\", {});\n",
       "        }\n",
       "\n",
       "    this.imageObj.onload = function() {\n",
       "            if (fig.image_mode == 'full') {\n",
       "                // Full images could contain transparency (where diff images\n",
       "                // almost always do), so we need to clear the canvas so that\n",
       "                // there is no ghosting.\n",
       "                fig.context.clearRect(0, 0, fig.canvas.width, fig.canvas.height);\n",
       "            }\n",
       "            fig.context.drawImage(fig.imageObj, 0, 0);\n",
       "        };\n",
       "\n",
       "    this.imageObj.onunload = function() {\n",
       "        this.ws.close();\n",
       "    }\n",
       "\n",
       "    this.ws.onmessage = this._make_on_message_function(this);\n",
       "\n",
       "    this.ondownload = ondownload;\n",
       "}\n",
       "\n",
       "mpl.figure.prototype._init_header = function() {\n",
       "    var titlebar = $(\n",
       "        '<div class=\"ui-dialog-titlebar ui-widget-header ui-corner-all ' +\n",
       "        'ui-helper-clearfix\"/>');\n",
       "    var titletext = $(\n",
       "        '<div class=\"ui-dialog-title\" style=\"width: 100%; ' +\n",
       "        'text-align: center; padding: 3px;\"/>');\n",
       "    titlebar.append(titletext)\n",
       "    this.root.append(titlebar);\n",
       "    this.header = titletext[0];\n",
       "}\n",
       "\n",
       "\n",
       "\n",
       "mpl.figure.prototype._canvas_extra_style = function(canvas_div) {\n",
       "\n",
       "}\n",
       "\n",
       "\n",
       "mpl.figure.prototype._root_extra_style = function(canvas_div) {\n",
       "\n",
       "}\n",
       "\n",
       "mpl.figure.prototype._init_canvas = function() {\n",
       "    var fig = this;\n",
       "\n",
       "    var canvas_div = $('<div/>');\n",
       "\n",
       "    canvas_div.attr('style', 'position: relative; clear: both; outline: 0');\n",
       "\n",
       "    function canvas_keyboard_event(event) {\n",
       "        return fig.key_event(event, event['data']);\n",
       "    }\n",
       "\n",
       "    canvas_div.keydown('key_press', canvas_keyboard_event);\n",
       "    canvas_div.keyup('key_release', canvas_keyboard_event);\n",
       "    this.canvas_div = canvas_div\n",
       "    this._canvas_extra_style(canvas_div)\n",
       "    this.root.append(canvas_div);\n",
       "\n",
       "    var canvas = $('<canvas/>');\n",
       "    canvas.addClass('mpl-canvas');\n",
       "    canvas.attr('style', \"left: 0; top: 0; z-index: 0; outline: 0\")\n",
       "\n",
       "    this.canvas = canvas[0];\n",
       "    this.context = canvas[0].getContext(\"2d\");\n",
       "\n",
       "    var backingStore = this.context.backingStorePixelRatio ||\n",
       "\tthis.context.webkitBackingStorePixelRatio ||\n",
       "\tthis.context.mozBackingStorePixelRatio ||\n",
       "\tthis.context.msBackingStorePixelRatio ||\n",
       "\tthis.context.oBackingStorePixelRatio ||\n",
       "\tthis.context.backingStorePixelRatio || 1;\n",
       "\n",
       "    mpl.ratio = (window.devicePixelRatio || 1) / backingStore;\n",
       "\n",
       "    var rubberband = $('<canvas/>');\n",
       "    rubberband.attr('style', \"position: absolute; left: 0; top: 0; z-index: 1;\")\n",
       "\n",
       "    var pass_mouse_events = true;\n",
       "\n",
       "    canvas_div.resizable({\n",
       "        start: function(event, ui) {\n",
       "            pass_mouse_events = false;\n",
       "        },\n",
       "        resize: function(event, ui) {\n",
       "            fig.request_resize(ui.size.width, ui.size.height);\n",
       "        },\n",
       "        stop: function(event, ui) {\n",
       "            pass_mouse_events = true;\n",
       "            fig.request_resize(ui.size.width, ui.size.height);\n",
       "        },\n",
       "    });\n",
       "\n",
       "    function mouse_event_fn(event) {\n",
       "        if (pass_mouse_events)\n",
       "            return fig.mouse_event(event, event['data']);\n",
       "    }\n",
       "\n",
       "    rubberband.mousedown('button_press', mouse_event_fn);\n",
       "    rubberband.mouseup('button_release', mouse_event_fn);\n",
       "    // Throttle sequential mouse events to 1 every 20ms.\n",
       "    rubberband.mousemove('motion_notify', mouse_event_fn);\n",
       "\n",
       "    rubberband.mouseenter('figure_enter', mouse_event_fn);\n",
       "    rubberband.mouseleave('figure_leave', mouse_event_fn);\n",
       "\n",
       "    canvas_div.on(\"wheel\", function (event) {\n",
       "        event = event.originalEvent;\n",
       "        event['data'] = 'scroll'\n",
       "        if (event.deltaY < 0) {\n",
       "            event.step = 1;\n",
       "        } else {\n",
       "            event.step = -1;\n",
       "        }\n",
       "        mouse_event_fn(event);\n",
       "    });\n",
       "\n",
       "    canvas_div.append(canvas);\n",
       "    canvas_div.append(rubberband);\n",
       "\n",
       "    this.rubberband = rubberband;\n",
       "    this.rubberband_canvas = rubberband[0];\n",
       "    this.rubberband_context = rubberband[0].getContext(\"2d\");\n",
       "    this.rubberband_context.strokeStyle = \"#000000\";\n",
       "\n",
       "    this._resize_canvas = function(width, height) {\n",
       "        // Keep the size of the canvas, canvas container, and rubber band\n",
       "        // canvas in synch.\n",
       "        canvas_div.css('width', width)\n",
       "        canvas_div.css('height', height)\n",
       "\n",
       "        canvas.attr('width', width * mpl.ratio);\n",
       "        canvas.attr('height', height * mpl.ratio);\n",
       "        canvas.attr('style', 'width: ' + width + 'px; height: ' + height + 'px;');\n",
       "\n",
       "        rubberband.attr('width', width);\n",
       "        rubberband.attr('height', height);\n",
       "    }\n",
       "\n",
       "    // Set the figure to an initial 600x600px, this will subsequently be updated\n",
       "    // upon first draw.\n",
       "    this._resize_canvas(600, 600);\n",
       "\n",
       "    // Disable right mouse context menu.\n",
       "    $(this.rubberband_canvas).bind(\"contextmenu\",function(e){\n",
       "        return false;\n",
       "    });\n",
       "\n",
       "    function set_focus () {\n",
       "        canvas.focus();\n",
       "        canvas_div.focus();\n",
       "    }\n",
       "\n",
       "    window.setTimeout(set_focus, 100);\n",
       "}\n",
       "\n",
       "mpl.figure.prototype._init_toolbar = function() {\n",
       "    var fig = this;\n",
       "\n",
       "    var nav_element = $('<div/>')\n",
       "    nav_element.attr('style', 'width: 100%');\n",
       "    this.root.append(nav_element);\n",
       "\n",
       "    // Define a callback function for later on.\n",
       "    function toolbar_event(event) {\n",
       "        return fig.toolbar_button_onclick(event['data']);\n",
       "    }\n",
       "    function toolbar_mouse_event(event) {\n",
       "        return fig.toolbar_button_onmouseover(event['data']);\n",
       "    }\n",
       "\n",
       "    for(var toolbar_ind in mpl.toolbar_items) {\n",
       "        var name = mpl.toolbar_items[toolbar_ind][0];\n",
       "        var tooltip = mpl.toolbar_items[toolbar_ind][1];\n",
       "        var image = mpl.toolbar_items[toolbar_ind][2];\n",
       "        var method_name = mpl.toolbar_items[toolbar_ind][3];\n",
       "\n",
       "        if (!name) {\n",
       "            // put a spacer in here.\n",
       "            continue;\n",
       "        }\n",
       "        var button = $('<button/>');\n",
       "        button.addClass('ui-button ui-widget ui-state-default ui-corner-all ' +\n",
       "                        'ui-button-icon-only');\n",
       "        button.attr('role', 'button');\n",
       "        button.attr('aria-disabled', 'false');\n",
       "        button.click(method_name, toolbar_event);\n",
       "        button.mouseover(tooltip, toolbar_mouse_event);\n",
       "\n",
       "        var icon_img = $('<span/>');\n",
       "        icon_img.addClass('ui-button-icon-primary ui-icon');\n",
       "        icon_img.addClass(image);\n",
       "        icon_img.addClass('ui-corner-all');\n",
       "\n",
       "        var tooltip_span = $('<span/>');\n",
       "        tooltip_span.addClass('ui-button-text');\n",
       "        tooltip_span.html(tooltip);\n",
       "\n",
       "        button.append(icon_img);\n",
       "        button.append(tooltip_span);\n",
       "\n",
       "        nav_element.append(button);\n",
       "    }\n",
       "\n",
       "    var fmt_picker_span = $('<span/>');\n",
       "\n",
       "    var fmt_picker = $('<select/>');\n",
       "    fmt_picker.addClass('mpl-toolbar-option ui-widget ui-widget-content');\n",
       "    fmt_picker_span.append(fmt_picker);\n",
       "    nav_element.append(fmt_picker_span);\n",
       "    this.format_dropdown = fmt_picker[0];\n",
       "\n",
       "    for (var ind in mpl.extensions) {\n",
       "        var fmt = mpl.extensions[ind];\n",
       "        var option = $(\n",
       "            '<option/>', {selected: fmt === mpl.default_extension}).html(fmt);\n",
       "        fmt_picker.append(option)\n",
       "    }\n",
       "\n",
       "    // Add hover states to the ui-buttons\n",
       "    $( \".ui-button\" ).hover(\n",
       "        function() { $(this).addClass(\"ui-state-hover\");},\n",
       "        function() { $(this).removeClass(\"ui-state-hover\");}\n",
       "    );\n",
       "\n",
       "    var status_bar = $('<span class=\"mpl-message\"/>');\n",
       "    nav_element.append(status_bar);\n",
       "    this.message = status_bar[0];\n",
       "}\n",
       "\n",
       "mpl.figure.prototype.request_resize = function(x_pixels, y_pixels) {\n",
       "    // Request matplotlib to resize the figure. Matplotlib will then trigger a resize in the client,\n",
       "    // which will in turn request a refresh of the image.\n",
       "    this.send_message('resize', {'width': x_pixels, 'height': y_pixels});\n",
       "}\n",
       "\n",
       "mpl.figure.prototype.send_message = function(type, properties) {\n",
       "    properties['type'] = type;\n",
       "    properties['figure_id'] = this.id;\n",
       "    this.ws.send(JSON.stringify(properties));\n",
       "}\n",
       "\n",
       "mpl.figure.prototype.send_draw_message = function() {\n",
       "    if (!this.waiting) {\n",
       "        this.waiting = true;\n",
       "        this.ws.send(JSON.stringify({type: \"draw\", figure_id: this.id}));\n",
       "    }\n",
       "}\n",
       "\n",
       "\n",
       "mpl.figure.prototype.handle_save = function(fig, msg) {\n",
       "    var format_dropdown = fig.format_dropdown;\n",
       "    var format = format_dropdown.options[format_dropdown.selectedIndex].value;\n",
       "    fig.ondownload(fig, format);\n",
       "}\n",
       "\n",
       "\n",
       "mpl.figure.prototype.handle_resize = function(fig, msg) {\n",
       "    var size = msg['size'];\n",
       "    if (size[0] != fig.canvas.width || size[1] != fig.canvas.height) {\n",
       "        fig._resize_canvas(size[0], size[1]);\n",
       "        fig.send_message(\"refresh\", {});\n",
       "    };\n",
       "}\n",
       "\n",
       "mpl.figure.prototype.handle_rubberband = function(fig, msg) {\n",
       "    var x0 = msg['x0'] / mpl.ratio;\n",
       "    var y0 = (fig.canvas.height - msg['y0']) / mpl.ratio;\n",
       "    var x1 = msg['x1'] / mpl.ratio;\n",
       "    var y1 = (fig.canvas.height - msg['y1']) / mpl.ratio;\n",
       "    x0 = Math.floor(x0) + 0.5;\n",
       "    y0 = Math.floor(y0) + 0.5;\n",
       "    x1 = Math.floor(x1) + 0.5;\n",
       "    y1 = Math.floor(y1) + 0.5;\n",
       "    var min_x = Math.min(x0, x1);\n",
       "    var min_y = Math.min(y0, y1);\n",
       "    var width = Math.abs(x1 - x0);\n",
       "    var height = Math.abs(y1 - y0);\n",
       "\n",
       "    fig.rubberband_context.clearRect(\n",
       "        0, 0, fig.canvas.width, fig.canvas.height);\n",
       "\n",
       "    fig.rubberband_context.strokeRect(min_x, min_y, width, height);\n",
       "}\n",
       "\n",
       "mpl.figure.prototype.handle_figure_label = function(fig, msg) {\n",
       "    // Updates the figure title.\n",
       "    fig.header.textContent = msg['label'];\n",
       "}\n",
       "\n",
       "mpl.figure.prototype.handle_cursor = function(fig, msg) {\n",
       "    var cursor = msg['cursor'];\n",
       "    switch(cursor)\n",
       "    {\n",
       "    case 0:\n",
       "        cursor = 'pointer';\n",
       "        break;\n",
       "    case 1:\n",
       "        cursor = 'default';\n",
       "        break;\n",
       "    case 2:\n",
       "        cursor = 'crosshair';\n",
       "        break;\n",
       "    case 3:\n",
       "        cursor = 'move';\n",
       "        break;\n",
       "    }\n",
       "    fig.rubberband_canvas.style.cursor = cursor;\n",
       "}\n",
       "\n",
       "mpl.figure.prototype.handle_message = function(fig, msg) {\n",
       "    fig.message.textContent = msg['message'];\n",
       "}\n",
       "\n",
       "mpl.figure.prototype.handle_draw = function(fig, msg) {\n",
       "    // Request the server to send over a new figure.\n",
       "    fig.send_draw_message();\n",
       "}\n",
       "\n",
       "mpl.figure.prototype.handle_image_mode = function(fig, msg) {\n",
       "    fig.image_mode = msg['mode'];\n",
       "}\n",
       "\n",
       "mpl.figure.prototype.updated_canvas_event = function() {\n",
       "    // Called whenever the canvas gets updated.\n",
       "    this.send_message(\"ack\", {});\n",
       "}\n",
       "\n",
       "// A function to construct a web socket function for onmessage handling.\n",
       "// Called in the figure constructor.\n",
       "mpl.figure.prototype._make_on_message_function = function(fig) {\n",
       "    return function socket_on_message(evt) {\n",
       "        if (evt.data instanceof Blob) {\n",
       "            /* FIXME: We get \"Resource interpreted as Image but\n",
       "             * transferred with MIME type text/plain:\" errors on\n",
       "             * Chrome.  But how to set the MIME type?  It doesn't seem\n",
       "             * to be part of the websocket stream */\n",
       "            evt.data.type = \"image/png\";\n",
       "\n",
       "            /* Free the memory for the previous frames */\n",
       "            if (fig.imageObj.src) {\n",
       "                (window.URL || window.webkitURL).revokeObjectURL(\n",
       "                    fig.imageObj.src);\n",
       "            }\n",
       "\n",
       "            fig.imageObj.src = (window.URL || window.webkitURL).createObjectURL(\n",
       "                evt.data);\n",
       "            fig.updated_canvas_event();\n",
       "            fig.waiting = false;\n",
       "            return;\n",
       "        }\n",
       "        else if (typeof evt.data === 'string' && evt.data.slice(0, 21) == \"data:image/png;base64\") {\n",
       "            fig.imageObj.src = evt.data;\n",
       "            fig.updated_canvas_event();\n",
       "            fig.waiting = false;\n",
       "            return;\n",
       "        }\n",
       "\n",
       "        var msg = JSON.parse(evt.data);\n",
       "        var msg_type = msg['type'];\n",
       "\n",
       "        // Call the  \"handle_{type}\" callback, which takes\n",
       "        // the figure and JSON message as its only arguments.\n",
       "        try {\n",
       "            var callback = fig[\"handle_\" + msg_type];\n",
       "        } catch (e) {\n",
       "            console.log(\"No handler for the '\" + msg_type + \"' message type: \", msg);\n",
       "            return;\n",
       "        }\n",
       "\n",
       "        if (callback) {\n",
       "            try {\n",
       "                // console.log(\"Handling '\" + msg_type + \"' message: \", msg);\n",
       "                callback(fig, msg);\n",
       "            } catch (e) {\n",
       "                console.log(\"Exception inside the 'handler_\" + msg_type + \"' callback:\", e, e.stack, msg);\n",
       "            }\n",
       "        }\n",
       "    };\n",
       "}\n",
       "\n",
       "// from http://stackoverflow.com/questions/1114465/getting-mouse-location-in-canvas\n",
       "mpl.findpos = function(e) {\n",
       "    //this section is from http://www.quirksmode.org/js/events_properties.html\n",
       "    var targ;\n",
       "    if (!e)\n",
       "        e = window.event;\n",
       "    if (e.target)\n",
       "        targ = e.target;\n",
       "    else if (e.srcElement)\n",
       "        targ = e.srcElement;\n",
       "    if (targ.nodeType == 3) // defeat Safari bug\n",
       "        targ = targ.parentNode;\n",
       "\n",
       "    // jQuery normalizes the pageX and pageY\n",
       "    // pageX,Y are the mouse positions relative to the document\n",
       "    // offset() returns the position of the element relative to the document\n",
       "    var x = e.pageX - $(targ).offset().left;\n",
       "    var y = e.pageY - $(targ).offset().top;\n",
       "\n",
       "    return {\"x\": x, \"y\": y};\n",
       "};\n",
       "\n",
       "/*\n",
       " * return a copy of an object with only non-object keys\n",
       " * we need this to avoid circular references\n",
       " * http://stackoverflow.com/a/24161582/3208463\n",
       " */\n",
       "function simpleKeys (original) {\n",
       "  return Object.keys(original).reduce(function (obj, key) {\n",
       "    if (typeof original[key] !== 'object')\n",
       "        obj[key] = original[key]\n",
       "    return obj;\n",
       "  }, {});\n",
       "}\n",
       "\n",
       "mpl.figure.prototype.mouse_event = function(event, name) {\n",
       "    var canvas_pos = mpl.findpos(event)\n",
       "\n",
       "    if (name === 'button_press')\n",
       "    {\n",
       "        this.canvas.focus();\n",
       "        this.canvas_div.focus();\n",
       "    }\n",
       "\n",
       "    var x = canvas_pos.x * mpl.ratio;\n",
       "    var y = canvas_pos.y * mpl.ratio;\n",
       "\n",
       "    this.send_message(name, {x: x, y: y, button: event.button,\n",
       "                             step: event.step,\n",
       "                             guiEvent: simpleKeys(event)});\n",
       "\n",
       "    /* This prevents the web browser from automatically changing to\n",
       "     * the text insertion cursor when the button is pressed.  We want\n",
       "     * to control all of the cursor setting manually through the\n",
       "     * 'cursor' event from matplotlib */\n",
       "    event.preventDefault();\n",
       "    return false;\n",
       "}\n",
       "\n",
       "mpl.figure.prototype._key_event_extra = function(event, name) {\n",
       "    // Handle any extra behaviour associated with a key event\n",
       "}\n",
       "\n",
       "mpl.figure.prototype.key_event = function(event, name) {\n",
       "\n",
       "    // Prevent repeat events\n",
       "    if (name == 'key_press')\n",
       "    {\n",
       "        if (event.which === this._key)\n",
       "            return;\n",
       "        else\n",
       "            this._key = event.which;\n",
       "    }\n",
       "    if (name == 'key_release')\n",
       "        this._key = null;\n",
       "\n",
       "    var value = '';\n",
       "    if (event.ctrlKey && event.which != 17)\n",
       "        value += \"ctrl+\";\n",
       "    if (event.altKey && event.which != 18)\n",
       "        value += \"alt+\";\n",
       "    if (event.shiftKey && event.which != 16)\n",
       "        value += \"shift+\";\n",
       "\n",
       "    value += 'k';\n",
       "    value += event.which.toString();\n",
       "\n",
       "    this._key_event_extra(event, name);\n",
       "\n",
       "    this.send_message(name, {key: value,\n",
       "                             guiEvent: simpleKeys(event)});\n",
       "    return false;\n",
       "}\n",
       "\n",
       "mpl.figure.prototype.toolbar_button_onclick = function(name) {\n",
       "    if (name == 'download') {\n",
       "        this.handle_save(this, null);\n",
       "    } else {\n",
       "        this.send_message(\"toolbar_button\", {name: name});\n",
       "    }\n",
       "};\n",
       "\n",
       "mpl.figure.prototype.toolbar_button_onmouseover = function(tooltip) {\n",
       "    this.message.textContent = tooltip;\n",
       "};\n",
       "mpl.toolbar_items = [[\"Home\", \"Reset original view\", \"fa fa-home icon-home\", \"home\"], [\"Back\", \"Back to  previous view\", \"fa fa-arrow-left icon-arrow-left\", \"back\"], [\"Forward\", \"Forward to next view\", \"fa fa-arrow-right icon-arrow-right\", \"forward\"], [\"\", \"\", \"\", \"\"], [\"Pan\", \"Pan axes with left mouse, zoom with right\", \"fa fa-arrows icon-move\", \"pan\"], [\"Zoom\", \"Zoom to rectangle\", \"fa fa-square-o icon-check-empty\", \"zoom\"], [\"\", \"\", \"\", \"\"], [\"Download\", \"Download plot\", \"fa fa-floppy-o icon-save\", \"download\"]];\n",
       "\n",
       "mpl.extensions = [\"eps\", \"jpeg\", \"pdf\", \"png\", \"ps\", \"raw\", \"svg\", \"tif\"];\n",
       "\n",
       "mpl.default_extension = \"png\";var comm_websocket_adapter = function(comm) {\n",
       "    // Create a \"websocket\"-like object which calls the given IPython comm\n",
       "    // object with the appropriate methods. Currently this is a non binary\n",
       "    // socket, so there is still some room for performance tuning.\n",
       "    var ws = {};\n",
       "\n",
       "    ws.close = function() {\n",
       "        comm.close()\n",
       "    };\n",
       "    ws.send = function(m) {\n",
       "        //console.log('sending', m);\n",
       "        comm.send(m);\n",
       "    };\n",
       "    // Register the callback with on_msg.\n",
       "    comm.on_msg(function(msg) {\n",
       "        //console.log('receiving', msg['content']['data'], msg);\n",
       "        // Pass the mpl event to the overriden (by mpl) onmessage function.\n",
       "        ws.onmessage(msg['content']['data'])\n",
       "    });\n",
       "    return ws;\n",
       "}\n",
       "\n",
       "mpl.mpl_figure_comm = function(comm, msg) {\n",
       "    // This is the function which gets called when the mpl process\n",
       "    // starts-up an IPython Comm through the \"matplotlib\" channel.\n",
       "\n",
       "    var id = msg.content.data.id;\n",
       "    // Get hold of the div created by the display call when the Comm\n",
       "    // socket was opened in Python.\n",
       "    var element = $(\"#\" + id);\n",
       "    var ws_proxy = comm_websocket_adapter(comm)\n",
       "\n",
       "    function ondownload(figure, format) {\n",
       "        window.open(figure.imageObj.src);\n",
       "    }\n",
       "\n",
       "    var fig = new mpl.figure(id, ws_proxy,\n",
       "                           ondownload,\n",
       "                           element.get(0));\n",
       "\n",
       "    // Call onopen now - mpl needs it, as it is assuming we've passed it a real\n",
       "    // web socket which is closed, not our websocket->open comm proxy.\n",
       "    ws_proxy.onopen();\n",
       "\n",
       "    fig.parent_element = element.get(0);\n",
       "    fig.cell_info = mpl.find_output_cell(\"<div id='\" + id + \"'></div>\");\n",
       "    if (!fig.cell_info) {\n",
       "        console.error(\"Failed to find cell for figure\", id, fig);\n",
       "        return;\n",
       "    }\n",
       "\n",
       "    var output_index = fig.cell_info[2]\n",
       "    var cell = fig.cell_info[0];\n",
       "\n",
       "};\n",
       "\n",
       "mpl.figure.prototype.handle_close = function(fig, msg) {\n",
       "    var width = fig.canvas.width/mpl.ratio\n",
       "    fig.root.unbind('remove')\n",
       "\n",
       "    // Update the output cell to use the data from the current canvas.\n",
       "    fig.push_to_output();\n",
       "    var dataURL = fig.canvas.toDataURL();\n",
       "    // Re-enable the keyboard manager in IPython - without this line, in FF,\n",
       "    // the notebook keyboard shortcuts fail.\n",
       "    IPython.keyboard_manager.enable()\n",
       "    $(fig.parent_element).html('<img src=\"' + dataURL + '\" width=\"' + width + '\">');\n",
       "    fig.close_ws(fig, msg);\n",
       "}\n",
       "\n",
       "mpl.figure.prototype.close_ws = function(fig, msg){\n",
       "    fig.send_message('closing', msg);\n",
       "    // fig.ws.close()\n",
       "}\n",
       "\n",
       "mpl.figure.prototype.push_to_output = function(remove_interactive) {\n",
       "    // Turn the data on the canvas into data in the output cell.\n",
       "    var width = this.canvas.width/mpl.ratio\n",
       "    var dataURL = this.canvas.toDataURL();\n",
       "    this.cell_info[1]['text/html'] = '<img src=\"' + dataURL + '\" width=\"' + width + '\">';\n",
       "}\n",
       "\n",
       "mpl.figure.prototype.updated_canvas_event = function() {\n",
       "    // Tell IPython that the notebook contents must change.\n",
       "    IPython.notebook.set_dirty(true);\n",
       "    this.send_message(\"ack\", {});\n",
       "    var fig = this;\n",
       "    // Wait a second, then push the new image to the DOM so\n",
       "    // that it is saved nicely (might be nice to debounce this).\n",
       "    setTimeout(function () { fig.push_to_output() }, 1000);\n",
       "}\n",
       "\n",
       "mpl.figure.prototype._init_toolbar = function() {\n",
       "    var fig = this;\n",
       "\n",
       "    var nav_element = $('<div/>')\n",
       "    nav_element.attr('style', 'width: 100%');\n",
       "    this.root.append(nav_element);\n",
       "\n",
       "    // Define a callback function for later on.\n",
       "    function toolbar_event(event) {\n",
       "        return fig.toolbar_button_onclick(event['data']);\n",
       "    }\n",
       "    function toolbar_mouse_event(event) {\n",
       "        return fig.toolbar_button_onmouseover(event['data']);\n",
       "    }\n",
       "\n",
       "    for(var toolbar_ind in mpl.toolbar_items){\n",
       "        var name = mpl.toolbar_items[toolbar_ind][0];\n",
       "        var tooltip = mpl.toolbar_items[toolbar_ind][1];\n",
       "        var image = mpl.toolbar_items[toolbar_ind][2];\n",
       "        var method_name = mpl.toolbar_items[toolbar_ind][3];\n",
       "\n",
       "        if (!name) { continue; };\n",
       "\n",
       "        var button = $('<button class=\"btn btn-default\" href=\"#\" title=\"' + name + '\"><i class=\"fa ' + image + ' fa-lg\"></i></button>');\n",
       "        button.click(method_name, toolbar_event);\n",
       "        button.mouseover(tooltip, toolbar_mouse_event);\n",
       "        nav_element.append(button);\n",
       "    }\n",
       "\n",
       "    // Add the status bar.\n",
       "    var status_bar = $('<span class=\"mpl-message\" style=\"text-align:right; float: right;\"/>');\n",
       "    nav_element.append(status_bar);\n",
       "    this.message = status_bar[0];\n",
       "\n",
       "    // Add the close button to the window.\n",
       "    var buttongrp = $('<div class=\"btn-group inline pull-right\"></div>');\n",
       "    var button = $('<button class=\"btn btn-mini btn-primary\" href=\"#\" title=\"Stop Interaction\"><i class=\"fa fa-power-off icon-remove icon-large\"></i></button>');\n",
       "    button.click(function (evt) { fig.handle_close(fig, {}); } );\n",
       "    button.mouseover('Stop Interaction', toolbar_mouse_event);\n",
       "    buttongrp.append(button);\n",
       "    var titlebar = this.root.find($('.ui-dialog-titlebar'));\n",
       "    titlebar.prepend(buttongrp);\n",
       "}\n",
       "\n",
       "mpl.figure.prototype._root_extra_style = function(el){\n",
       "    var fig = this\n",
       "    el.on(\"remove\", function(){\n",
       "\tfig.close_ws(fig, {});\n",
       "    });\n",
       "}\n",
       "\n",
       "mpl.figure.prototype._canvas_extra_style = function(el){\n",
       "    // this is important to make the div 'focusable\n",
       "    el.attr('tabindex', 0)\n",
       "    // reach out to IPython and tell the keyboard manager to turn it's self\n",
       "    // off when our div gets focus\n",
       "\n",
       "    // location in version 3\n",
       "    if (IPython.notebook.keyboard_manager) {\n",
       "        IPython.notebook.keyboard_manager.register_events(el);\n",
       "    }\n",
       "    else {\n",
       "        // location in version 2\n",
       "        IPython.keyboard_manager.register_events(el);\n",
       "    }\n",
       "\n",
       "}\n",
       "\n",
       "mpl.figure.prototype._key_event_extra = function(event, name) {\n",
       "    var manager = IPython.notebook.keyboard_manager;\n",
       "    if (!manager)\n",
       "        manager = IPython.keyboard_manager;\n",
       "\n",
       "    // Check for shift+enter\n",
       "    if (event.shiftKey && event.which == 13) {\n",
       "        this.canvas_div.blur();\n",
       "        // select the cell after this one\n",
       "        var index = IPython.notebook.find_cell_index(this.cell_info[0]);\n",
       "        IPython.notebook.select(index + 1);\n",
       "    }\n",
       "}\n",
       "\n",
       "mpl.figure.prototype.handle_save = function(fig, msg) {\n",
       "    fig.ondownload(fig, null);\n",
       "}\n",
       "\n",
       "\n",
       "mpl.find_output_cell = function(html_output) {\n",
       "    // Return the cell and output element which can be found *uniquely* in the notebook.\n",
       "    // Note - this is a bit hacky, but it is done because the \"notebook_saving.Notebook\"\n",
       "    // IPython event is triggered only after the cells have been serialised, which for\n",
       "    // our purposes (turning an active figure into a static one), is too late.\n",
       "    var cells = IPython.notebook.get_cells();\n",
       "    var ncells = cells.length;\n",
       "    for (var i=0; i<ncells; i++) {\n",
       "        var cell = cells[i];\n",
       "        if (cell.cell_type === 'code'){\n",
       "            for (var j=0; j<cell.output_area.outputs.length; j++) {\n",
       "                var data = cell.output_area.outputs[j];\n",
       "                if (data.data) {\n",
       "                    // IPython >= 3 moved mimebundle to data attribute of output\n",
       "                    data = data.data;\n",
       "                }\n",
       "                if (data['text/html'] == html_output) {\n",
       "                    return [cell, data, j];\n",
       "                }\n",
       "            }\n",
       "        }\n",
       "    }\n",
       "}\n",
       "\n",
       "// Register the function which deals with the matplotlib target/channel.\n",
       "// The kernel may be null if the page has been refreshed.\n",
       "if (IPython.notebook.kernel != null) {\n",
       "    IPython.notebook.kernel.comm_manager.register_target('matplotlib', mpl.mpl_figure_comm);\n",
       "}\n"
      ],
      "text/plain": [
       "<IPython.core.display.Javascript object>"
      ]
     },
     "metadata": {},
     "output_type": "display_data"
    },
    {
     "data": {
      "text/html": [
       "<img src=\"data:image/png;base64,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\" width=\"639.9999861283738\">"
      ],
      "text/plain": [
       "<IPython.core.display.HTML object>"
      ]
     },
     "metadata": {},
     "output_type": "display_data"
    }
   ],
   "source": [
    "%matplotlib notebook\n",
    "x = io['output.curve(DOS)'].plot()"
   ]
  },
  {
   "cell_type": "code",
   "execution_count": 5,
   "metadata": {
    "collapsed": false,
    "deletable": true,
    "editable": true
   },
   "outputs": [
    {
     "name": "stdout",
     "output_type": "stream",
     "text": [
      "None\n"
     ]
    }
   ],
   "source": [
    "print(x)"
   ]
  },
  {
   "cell_type": "code",
   "execution_count": 6,
   "metadata": {
    "collapsed": false,
    "deletable": true,
    "editable": true
   },
   "outputs": [],
   "source": [
    "io['output.structure(cell)'].plot()"
   ]
  },
  {
   "cell_type": "code",
   "execution_count": 7,
   "metadata": {
    "collapsed": true,
    "deletable": true,
    "editable": true
   },
   "outputs": [],
   "source": [
    "io['output.structure(tube)'].plot()"
   ]
  },
  {
   "cell_type": "code",
   "execution_count": 8,
   "metadata": {
    "collapsed": false,
    "deletable": true,
    "editable": true
   },
   "outputs": [
    {
     "name": "stdout",
     "output_type": "stream",
     "text": [
      " \n",
      " \n",
      "************************\n",
      " Basic Input Parameters \n",
      "************************\n",
      " \n",
      "Nanotube parameters (n,m)\n",
      " 13\n",
      "0\n",
      " \n",
      "Carbon center to center distance (A)\n",
      " 1.4200\n",
      " \n",
      "Tight binding overlap integral (eV)\n",
      " 3\n",
      " \n",
      " \n",
      "*************************\n",
      " Basic Output Parameters \n",
      "*************************\n",
      " \n",
      "Nanotube diameter (nm)\n",
      " 1.0178\n",
      " \n",
      "Nanotube circumference (nm)\n",
      " 13.000\n",
      " \n",
      "Chiral angle (degrees)\n",
      "0\n",
      " \n",
      "Length of unit cell (nm)\n",
      " 0.42600\n",
      " \n",
      "Number of hexagons (unit cell)\n",
      " 26\n",
      " \n",
      " \n",
      "Boundary of Brillouin Zone (ktmax)\n",
      " 7.3746e+09\n",
      " \n",
      "Bandgap Magnitude (eV)\n",
      " 0.81678\n",
      " \n",
      "Bandgap Magnitude in units of overlap parameter (t)\n",
      " 0.27226\n",
      " \n",
      "kt at bandgap\n",
      "0\n",
      "\n"
     ]
    }
   ],
   "source": [
    "print(io['output.log'].value)"
   ]
  }
 ],
 "metadata": {
  "kernelspec": {
   "display_name": "Python2",
   "language": "python",
   "name": "python2"
  },
  "language_info": {
   "codemirror_mode": {
    "name": "ipython",
    "version": 2
   },
   "file_extension": ".py",
   "mimetype": "text/x-python",
   "name": "python",
   "nbconvert_exporter": "python",
   "pygments_lexer": "ipython2",
   "version": "2.7.13"
  },
  "widgets": {
   "state": {
    "039f05685acd4be98b19a4973d203be9": {
     "views": [
      {
       "cell_index": 6
      }
     ]
    },
    "052bea2a053b4891890fdd3b4aa2fcb4": {
     "views": [
      {
       "cell_index": 5
      }
     ]
    },
    "068342c30bbd4c74b834b6e8accefcaf": {
     "views": [
      {
       "cell_index": 6
      }
     ]
    },
    "079a74caf7784012a2f6f088aa226744": {
     "views": [
      {
       "cell_index": 6
      }
     ]
    },
    "0a98f59a133048e9bd441c4f3808250b": {
     "views": [
      {
       "cell_index": 5
      }
     ]
    },
    "1093f9b2e4374a7ea9da3cb8865e26ab": {
     "views": [
      {
       "cell_index": 6
      }
     ]
    },
    "149b133b6df445f5b031f01b8c0a77d6": {
     "views": [
      {
       "cell_index": 5
      }
     ]
    },
    "1a849c527a9f4bfd8681e0f3f353db97": {
     "views": [
      {
       "cell_index": 6
      }
     ]
    },
    "1b1c4465e8cb447dad0c60f8ea4674aa": {
     "views": [
      {
       "cell_index": 5
      }
     ]
    },
    "1dc21c8830c144948314d6cb972cc3da": {
     "views": [
      {
       "cell_index": 6
      }
     ]
    },
    "261b2cfe82d747f9a7037d0a009f6333": {
     "views": [
      {
       "cell_index": 6
      }
     ]
    },
    "34be593ce04d42158052809b17e2b559": {
     "views": [
      {
       "cell_index": 6
      }
     ]
    },
    "3cd38d1874f64d6baad688159f6f487d": {
     "views": [
      {
       "cell_index": 5
      }
     ]
    },
    "445a19c700f541459ebf0386b9f2d15e": {
     "views": [
      {
       "cell_index": 5
      }
     ]
    },
    "44d2682dc6bb4efa830d567c26cd6a03": {
     "views": [
      {
       "cell_index": 5
      }
     ]
    },
    "4bda66349a484b3e87df7c2ae67817d9": {
     "views": [
      {
       "cell_index": 5
      }
     ]
    },
    "514a11f369ff400e873896f8bfb9c7b0": {
     "views": [
      {
       "cell_index": 6
      }
     ]
    },
    "572b52b3bc334376977262940736101b": {
     "views": [
      {
       "cell_index": 6
      }
     ]
    },
    "575a8ed3a57448faabf61ef9143d1c5c": {
     "views": [
      {
       "cell_index": 5
      }
     ]
    },
    "63607e6144564fbab60d6969e29b19f3": {
     "views": [
      {
       "cell_index": 5
      }
     ]
    },
    "6831c7b061034a8b9059adda44b9b69e": {
     "views": [
      {
       "cell_index": 5
      }
     ]
    },
    "6babdf36b0a34bd5ba55cda8a999517d": {
     "views": [
      {
       "cell_index": 5
      }
     ]
    },
    "70b403ebb57e455c883c82e718bce079": {
     "views": [
      {
       "cell_index": 6
      }
     ]
    },
    "784e90668a494895987f26c652877563": {
     "views": [
      {
       "cell_index": 6
      }
     ]
    },
    "7b1811ec7e5543cba44469422d41e13f": {
     "views": [
      {
       "cell_index": 6
      }
     ]
    },
    "8d5512a2aaaf4db88cdf3bb0eeda2e39": {
     "views": [
      {
       "cell_index": 6
      }
     ]
    },
    "9682d7fed1bc45dd98e013da423a66dc": {
     "views": [
      {
       "cell_index": 5
      }
     ]
    },
    "993dcffd6f3d4b8ab8fa34b7578f17da": {
     "views": [
      {
       "cell_index": 5
      }
     ]
    },
    "9c6d3bb195164cd88450737ea8407b39": {
     "views": [
      {
       "cell_index": 6
      }
     ]
    },
    "a01064d8622c4baea3a6c355ec9c704f": {
     "views": [
      {
       "cell_index": 6
      }
     ]
    },
    "a0ac26ca42a2430c92f91a570f1057b1": {
     "views": [
      {
       "cell_index": 5
      }
     ]
    },
    "a0deffbb14e146a29feb7ee51e6c7c61": {
     "views": [
      {
       "cell_index": 6
      }
     ]
    },
    "a3c3b78b8525402db6190efbc654cc22": {
     "views": [
      {
       "cell_index": 6
      }
     ]
    },
    "a61acab0da6d4c84b27a7a41a589beca": {
     "views": [
      {
       "cell_index": 5
      }
     ]
    },
    "ae97761f6b7244bdb14797a81f68b880": {
     "views": [
      {
       "cell_index": 5
      }
     ]
    },
    "b20b6b3443e94965b2a0e5afb2177715": {
     "views": [
      {
       "cell_index": 6
      }
     ]
    },
    "b29ed9a7e7ef41cb8b3357b1555b4aa9": {
     "views": [
      {
       "cell_index": 6
      }
     ]
    },
    "b40bbf80742443cfaccb5a509a409130": {
     "views": [
      {
       "cell_index": 6
      }
     ]
    },
    "b4238e26944547d79115d58f61d5eb70": {
     "views": [
      {
       "cell_index": 5
      }
     ]
    },
    "b48ad4a23e2849ad813a35515d94f9b8": {
     "views": [
      {
       "cell_index": 5
      }
     ]
    },
    "b4e01d23cccd42d29aa12faa18e89ca5": {
     "views": [
      {
       "cell_index": 5
      }
     ]
    },
    "b70ac076ad31435a88acd7d2b2aeeccf": {
     "views": [
      {
       "cell_index": 6
      }
     ]
    },
    "b72be7adfa5f45518ae858368e767424": {
     "views": [
      {
       "cell_index": 6
      }
     ]
    },
    "bb7487b3860a429cac7af58470c72baa": {
     "views": [
      {
       "cell_index": 5
      }
     ]
    },
    "bd56520658d8467087b8a01fa31b7de1": {
     "views": [
      {
       "cell_index": 6
      }
     ]
    },
    "bdd3d38d823242da9c368eb4f694943f": {
     "views": [
      {
       "cell_index": 6
      }
     ]
    },
    "c7a4bdcca9074b7693fe9ba1cdf478bb": {
     "views": [
      {
       "cell_index": 5
      }
     ]
    },
    "cb137345c9074417b1f106c03dd5e6a3": {
     "views": [
      {
       "cell_index": 5
      }
     ]
    },
    "d6f574e26cc34b08b278aa8f1411642a": {
     "views": [
      {
       "cell_index": 5
      }
     ]
    },
    "da2e66a3fd8b43cab96c5892b51ec9b9": {
     "views": [
      {
       "cell_index": 6
      }
     ]
    },
    "e27765e94b054b5f964b52e2ae82cfc4": {
     "views": [
      {
       "cell_index": 6
      }
     ]
    },
    "e38c2e0ac9e84140a70b0710a9615de9": {
     "views": [
      {
       "cell_index": 5
      }
     ]
    },
    "e874bfa4b0bd497c9e0eb27d1f92ba57": {
     "views": [
      {
       "cell_index": 6
      }
     ]
    },
    "e8cd8a78c46e4a4ebc9defa589699cfd": {
     "views": [
      {
       "cell_index": 5
      }
     ]
    },
    "ed05f434e0754c32b4a82fab9c5ba376": {
     "views": [
      {
       "cell_index": 6
      }
     ]
    },
    "f3f926f2d0574c6db0132628bdb7df3a": {
     "views": [
      {
       "cell_index": 6
      }
     ]
    },
    "f474354b7b174b2a8e990595c7c0c426": {
     "views": [
      {
       "cell_index": 5
      }
     ]
    },
    "f78aaae287c54e07a510b1d8285a96f0": {
     "views": [
      {
       "cell_index": 5
      }
     ]
    },
    "f954216bf79f4124b3036d5e0c0844ea": {
     "views": [
      {
       "cell_index": 5
      }
     ]
    },
    "fbf9302c64b7432d88c09c6a1eae1bc6": {
     "views": [
      {
       "cell_index": 5
      }
     ]
    }
   },
   "version": "1.2.0"
  }
 },
 "nbformat": 4,
 "nbformat_minor": 0
}
