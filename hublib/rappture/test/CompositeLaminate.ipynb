{
 "cells": [
  {
   "cell_type": "markdown",
   "metadata": {},
   "source": [
    "## Composite laminate"
   ]
  },
  {
   "cell_type": "markdown",
   "metadata": {},
   "source": [
    "Starting from a list of properties for the matrix and fibers we use rules of mixtures expressions to obtain the properties of a unidirectional ply. The ply properties are then used to compute the properties of the laminate using the Complam tool in nanoHUB."
   ]
  },
  {
   "cell_type": "code",
   "execution_count": 1,
   "metadata": {
    "collapsed": false
   },
   "outputs": [
    {
     "ename": "ValueError",
     "evalue": "tool must be a toolname or path to a tool.xml file.",
     "output_type": "error",
     "traceback": [
      "\u001b[0;31m---------------------------------------------------------------------------\u001b[0m",
      "\u001b[0;31mValueError\u001b[0m                                Traceback (most recent call last)",
      "\u001b[0;32m<ipython-input-1-c6575991ab9c>\u001b[0m in \u001b[0;36m<module>\u001b[0;34m()\u001b[0m\n\u001b[1;32m      6\u001b[0m \u001b[0msys\u001b[0m\u001b[0;34m.\u001b[0m\u001b[0mpath\u001b[0m\u001b[0;34m.\u001b[0m\u001b[0minsert\u001b[0m\u001b[0;34m(\u001b[0m\u001b[0;36m0\u001b[0m\u001b[0;34m,\u001b[0m \u001b[0mos\u001b[0m\u001b[0;34m.\u001b[0m\u001b[0mpath\u001b[0m\u001b[0;34m.\u001b[0m\u001b[0mabspath\u001b[0m\u001b[0;34m(\u001b[0m\u001b[0;34m'../../..'\u001b[0m\u001b[0;34m)\u001b[0m\u001b[0;34m)\u001b[0m\u001b[0;34m\u001b[0m\u001b[0m\n\u001b[1;32m      7\u001b[0m \u001b[0;32mimport\u001b[0m \u001b[0mhublib\u001b[0m\u001b[0;34m.\u001b[0m\u001b[0mrappture\u001b[0m \u001b[0;32mas\u001b[0m \u001b[0mrappture\u001b[0m\u001b[0;34m\u001b[0m\u001b[0m\n\u001b[0;32m----> 8\u001b[0;31m \u001b[0mio\u001b[0m \u001b[0;34m=\u001b[0m \u001b[0mrappture\u001b[0m\u001b[0;34m.\u001b[0m\u001b[0mTool\u001b[0m\u001b[0;34m(\u001b[0m\u001b[0;34m\"complam\"\u001b[0m\u001b[0;34m)\u001b[0m\u001b[0;34m\u001b[0m\u001b[0m\n\u001b[0m",
      "\u001b[0;32m/home/mmh/hublib/hublib/rappture/tool.pyc\u001b[0m in \u001b[0;36m__init__\u001b[0;34m(self, tool)\u001b[0m\n\u001b[1;32m     64\u001b[0m         \u001b[0mxml\u001b[0m \u001b[0;34m=\u001b[0m \u001b[0mos\u001b[0m\u001b[0;34m.\u001b[0m\u001b[0mpath\u001b[0m\u001b[0;34m.\u001b[0m\u001b[0mabspath\u001b[0m\u001b[0;34m(\u001b[0m\u001b[0mxml\u001b[0m\u001b[0;34m)\u001b[0m\u001b[0;34m\u001b[0m\u001b[0m\n\u001b[1;32m     65\u001b[0m         \u001b[0;32mif\u001b[0m \u001b[0;32mnot\u001b[0m \u001b[0mos\u001b[0m\u001b[0;34m.\u001b[0m\u001b[0mpath\u001b[0m\u001b[0;34m.\u001b[0m\u001b[0misfile\u001b[0m\u001b[0;34m(\u001b[0m\u001b[0mxml\u001b[0m\u001b[0;34m)\u001b[0m\u001b[0;34m:\u001b[0m\u001b[0;34m\u001b[0m\u001b[0m\n\u001b[0;32m---> 66\u001b[0;31m             \u001b[0;32mraise\u001b[0m \u001b[0mValueError\u001b[0m\u001b[0;34m(\u001b[0m\u001b[0;34m\"tool must be a toolname or path to a tool.xml file.\"\u001b[0m\u001b[0;34m)\u001b[0m\u001b[0;34m\u001b[0m\u001b[0m\n\u001b[0m\u001b[1;32m     67\u001b[0m \u001b[0;34m\u001b[0m\u001b[0m\n\u001b[1;32m     68\u001b[0m         \u001b[0mself\u001b[0m\u001b[0;34m.\u001b[0m\u001b[0mbin\u001b[0m \u001b[0;34m=\u001b[0m \u001b[0mos\u001b[0m\u001b[0;34m.\u001b[0m\u001b[0mpath\u001b[0m\u001b[0;34m.\u001b[0m\u001b[0mjoin\u001b[0m\u001b[0;34m(\u001b[0m\u001b[0mdirname\u001b[0m\u001b[0;34m,\u001b[0m \u001b[0;34m'bin'\u001b[0m\u001b[0;34m)\u001b[0m\u001b[0;34m\u001b[0m\u001b[0m\n",
      "\u001b[0;31mValueError\u001b[0m: tool must be a toolname or path to a tool.xml file."
     ]
    }
   ],
   "source": [
    "import os, sys\n",
    "import numpy as np\n",
    "import matplotlib\n",
    "import matplotlib.pyplot as plt\n",
    "\n",
    "sys.path.insert(0, os.path.abspath('../../..'))\n",
    "import hublib.rappture as rappture\n",
    "io = rappture.Tool(\"complam\")"
   ]
  },
  {
   "cell_type": "code",
   "execution_count": null,
   "metadata": {
    "collapsed": false
   },
   "outputs": [],
   "source": [
    "io.inputs()"
   ]
  },
  {
   "cell_type": "markdown",
   "metadata": {},
   "source": [
    "Fiber properties: $E_1$, $E_2$, $G_{12}$, $\\nu_{12}$, $\\nu_{23}$, $\\alpha_1$, $\\alpha_2$"
   ]
  },
  {
   "cell_type": "code",
   "execution_count": null,
   "metadata": {
    "collapsed": false
   },
   "outputs": [],
   "source": [
    "AS4 = [234.0e9, 19.5e9, 93.0e9, 0.26, 0.70, -0.4e-6, 5.6e-6]\n",
    "IM6 = [276.0e9, 19.5e9, 109.0e9, 0.26, 0.70, -0.4e-6, 5.6e-6]\n",
    "IM7 = [276.0e9, 19.5e9, 109.0e9, 0.26, 0.70, -0.4e-6, 5.0e-6]\n",
    "IM8 = [303.0e9, 25.0e9, 120.0e9, 0.26, 0.70, -0.3e-6, 5.0e-6]\n",
    "PANEX = [228.0e9, 19.5e9, 80.0e9, 0.25, 0.70, -0.4e-6, 5.6e-6]\n",
    "T300 = [231.0e9, 19.5e9, 91.0e9, 0.27, 0.70, -0.6e-6, 9.0e-6]\n",
    "T40 = [283.0e9, 19.5e9, 107.0e9, 0.32, 0.70, -0.4e-6, 5.6e-6]\n",
    "T50 = [393.0e9, 19.5e9, 159.0e9, 0.24, 0.70, -0.4e-6, 5.6e-6]\n",
    "T55 = [379.0e9, 19.5e9, 142.0e9, 0.33, 0.70, -0.4e-6, 5.6e-6]\n",
    "T75 = [517.0e9, 19.5e9, 204.0e9, 0.27, 0.70, -0.4e-6, 5.6e-6]\n",
    "\n",
    "fiber = [IM6, IM7, IM8, PANEX, T300, T40, T50, T55, T75]"
   ]
  },
  {
   "cell_type": "markdown",
   "metadata": {},
   "source": [
    "Matrix properties: $E$, $\\nu$, $\\alpha$"
   ]
  },
  {
   "cell_type": "code",
   "execution_count": null,
   "metadata": {
    "collapsed": false
   },
   "outputs": [],
   "source": [
    "matrix = [[3.4E9, 0.37, 65.0E-6], \n",
    "          [4.1E9, 0.28, 65.0E-6],\n",
    "          [2.8E9, 0.32, 65.0E-6],\n",
    "          [4.4E9, 0.31, 65.0E-6],\n",
    "         [3.9E9, 0.33, 65.0E-6],\n",
    "         [3.7E9, 0.35, 65.0E-6]]"
   ]
  },
  {
   "cell_type": "markdown",
   "metadata": {},
   "source": [
    "Volume fractions and fiber and matrix"
   ]
  },
  {
   "cell_type": "code",
   "execution_count": null,
   "metadata": {
    "collapsed": true
   },
   "outputs": [],
   "source": [
    "Vf = 0.6\n",
    "Vm = 1.-Vf"
   ]
  },
  {
   "cell_type": "markdown",
   "metadata": {},
   "source": [
    "Loop over pairs of matrix/fiber and compute ply properties"
   ]
  },
  {
   "cell_type": "code",
   "execution_count": null,
   "metadata": {
    "collapsed": false
   },
   "outputs": [],
   "source": [
    "Ex = []\n",
    "nu = []\n",
    "Gxy = []\n",
    "for fiber_p in fiber:\n",
    "    for matrix_p in matrix:\n",
    "        #print(fiber_p)\n",
    "        #print(matrix_p)\n",
    "        E1 = fiber_p[0] * Vf + matrix_p[0] * Vm\n",
    "        nu12 = fiber_p[3] * Vf + matrix_p[1] * Vm\n",
    "        E2 = 1.0 / (Vf / fiber_p[1] + Vm / matrix_p[0])\n",
    "        Gm = matrix_p[0] / (2.0 * (1.0 + matrix_p[1]))\n",
    "        G12 = 1.0 / (Vf / fiber_p[2] + Vm / Gm)\n",
    "        alpha1 = (fiber_p[5] * fiber_p[0] * Vf + matrix_p[2] * matrix_p[0] * Vm) / \\\n",
    "                 (fiber_p[0] * Vf + matrix_p[0] * Vm)\n",
    "        # alpha2 = Vf * (fiber_p[6] - (matrix_p[0] / fiber_p[0]) * fiber_p[4] * \\\n",
    "        #          (matrix_p[2] - fiber_p[5]) * Vm) + Vm * \\\n",
    "        #          (matrix_p[2] + (fiber_p[0] / matrix_p[0]) * \\\n",
    "        #           matrix_p[1] * (matrix_p[2] - fiber_p[5]) * Vf)\n",
    "        alpha2 = fiber_p[6] * Vf + matrix_p[2] * Vm\n",
    "        #print E1/1e9, E2/1e9, nu12, G12/1.e9, alpha1, alpha2\n",
    "\n",
    "        # Set input values for the Complam tool\n",
    "        material = io['input.group(tabs).group(Material)']\n",
    "        material['number(E1).current'] = E1 / 1e9\n",
    "        material['number(E2).current'] = E2 / 1e9\n",
    "        material['number(nu12).current'] = nu12\n",
    "        material['number(G12).current'] = G12 / 1.0e9\n",
    "        material['number(alpha1).current'] = alpha1\n",
    "        material['number(alpha2).current'] = alpha2\n",
    "        # Run the complam tool\n",
    "        io.run()\n",
    "        # Get the output from the tool and save for plotting later\n",
    "        Ex.append(io['output.number(Ex).current'].value.magnitude)\n",
    "        nu.append(io['output.number(nu).current'].value)\n",
    "        Gxy.append(io['output.number(Gxy).current'].value.magnitude)\n",
    "print('Done running composites laminate tool')"
   ]
  },
  {
   "cell_type": "code",
   "execution_count": null,
   "metadata": {
    "collapsed": false
   },
   "outputs": [],
   "source": [
    "val = io['output.number(Gxy).current'].value\n",
    "print(val)\n",
    "print(val.magnitude)\n",
    "print(val.units)\n",
    "print(val.to('kPa'))\n",
    "print(val.to('kPa').magnitude)"
   ]
  },
  {
   "cell_type": "code",
   "execution_count": null,
   "metadata": {
    "collapsed": false
   },
   "outputs": [],
   "source": [
    "'{:~}'.format(val)"
   ]
  },
  {
   "cell_type": "markdown",
   "metadata": {},
   "source": [
    "Plot Longitudinal modulus (Ex) vs. Shear modulus (Gxy)"
   ]
  },
  {
   "cell_type": "code",
   "execution_count": null,
   "metadata": {
    "collapsed": false
   },
   "outputs": [],
   "source": [
    "%matplotlib notebook\n",
    "plt.style.use('ggplot')\n",
    "\n",
    "plt.figure(figsize=(8,5))\n",
    "plt.plot(Ex, Gxy, 'ro')\n",
    "plt.xlabel('Ex', fontsize=18)\n",
    "plt.ylabel('Gxy', fontsize=18);"
   ]
  },
  {
   "cell_type": "code",
   "execution_count": null,
   "metadata": {
    "collapsed": false
   },
   "outputs": [],
   "source": [
    "plt.figure(figsize=(8,5))\n",
    "plt.plot(Ex, nu, 'ro')\n",
    "plt.xlabel('Ex', fontsize=18)\n",
    "plt.ylabel('nu', fontsize=18);"
   ]
  },
  {
   "cell_type": "code",
   "execution_count": null,
   "metadata": {
    "collapsed": false
   },
   "outputs": [],
   "source": [
    "plt.figure(figsize=(8,5))\n",
    "plt.plot(Ex, nu, 'ro')\n",
    "\n",
    "# need to convert fiber list to array so we can extract columns\n",
    "fiber = np.array(fiber)\n",
    "plt.plot(fiber[:,0] / 1e9, fiber[:,3], 'bo')\n",
    "\n",
    "matrix = np.array(matrix)\n",
    "plt.plot(matrix[:,0] / 1e9, matrix[:,1], 'go')\n",
    "\n",
    "plt.xlabel('Ex', fontsize=18)\n",
    "plt.ylabel('nu', fontsize=18);"
   ]
  },
  {
   "cell_type": "markdown",
   "metadata": {},
   "source": [
    "<h2>Maybe it looks better with a log axis</h2>"
   ]
  },
  {
   "cell_type": "code",
   "execution_count": null,
   "metadata": {
    "collapsed": false
   },
   "outputs": [],
   "source": [
    "plt.figure(figsize=(8,5))\n",
    "plt.semilogx(Ex, nu, 'ro', label='Composite')\n",
    "\n",
    "# need to convert fiber list to array so we can extract columns\n",
    "fiber = np.array(fiber)\n",
    "plt.semilogx(fiber[:,0] / 1e9, fiber[:,3], 'bo', label=\"Fiber\")\n",
    "\n",
    "matrix = np.array(matrix)\n",
    "plt.semilogx(matrix[:,0] / 1e9, matrix[:,1], 'go', label=\"Matrix\")\n",
    "\n",
    "plt.legend()\n",
    "plt.xlabel('Ex', fontsize=18)\n",
    "plt.ylabel('nu', fontsize=18);"
   ]
  },
  {
   "cell_type": "code",
   "execution_count": null,
   "metadata": {
    "collapsed": false
   },
   "outputs": [],
   "source": [
    "os.environ['HOME']"
   ]
  },
  {
   "cell_type": "code",
   "execution_count": null,
   "metadata": {
    "collapsed": false
   },
   "outputs": [],
   "source": [
    "os.path.join(os.environ['HOME'], 'data/sessions', os.environ['SESSION'])"
   ]
  },
  {
   "cell_type": "code",
   "execution_count": null,
   "metadata": {
    "collapsed": true
   },
   "outputs": [],
   "source": []
  }
 ],
 "metadata": {
  "description": "Example showing how to run a Rappture tool from a notebook",
  "kernelspec": {
   "display_name": "Python2",
   "language": "python",
   "name": "python2"
  },
  "language_info": {
   "codemirror_mode": {
    "name": "ipython",
    "version": 2
   },
   "file_extension": ".py",
   "mimetype": "text/x-python",
   "name": "python",
   "nbconvert_exporter": "python",
   "pygments_lexer": "ipython2",
   "version": "2.7.13"
  }
 },
 "nbformat": 4,
 "nbformat_minor": 0
}
