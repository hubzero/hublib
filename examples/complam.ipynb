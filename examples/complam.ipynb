{
 "cells": [
  {
   "cell_type": "code",
   "execution_count": 1,
   "metadata": {
    "collapsed": false
   },
   "outputs": [
    {
     "name": "stdout",
     "output_type": "stream",
     "text": [
      "<hublib.ui.Number object at 0x7f742c2b9b10> <class 'hublib.ui.Number'>\n",
      "<hublib.ui.Number object at 0x7f740cac3b90> <class 'hublib.ui.Number'>\n",
      "<hublib.ui.Number object at 0x7f740cac3890> <class 'hublib.ui.Number'>\n",
      "<hublib.ui.Number object at 0x7f740cac3590> <class 'hublib.ui.Number'>\n",
      "<hublib.ui.Number object at 0x7f740caaf210> <class 'hublib.ui.Number'>\n",
      "<hublib.ui.Number object at 0x7f740c9a9210> <class 'hublib.ui.Number'>\n",
      "<hublib.ui.Number object at 0x7f740c9cd750> <class 'hublib.ui.Number'>\n",
      "<hublib.ui.String object at 0x7f740c9cd210> <class 'hublib.ui.String'>\n",
      "<hublib.ui.Number object at 0x7f740c970910> <class 'hublib.ui.Number'>\n",
      "<hublib.ui.Number object at 0x7f740c970610> <class 'hublib.ui.Number'>\n",
      "<hublib.ui.Number object at 0x7f740c970a50> <class 'hublib.ui.Number'>\n",
      "<hublib.ui.Number object at 0x7f740c995490> <class 'hublib.ui.Number'>\n",
      "<hublib.ui.Number object at 0x7f740c9cd950> <class 'hublib.ui.Number'>\n",
      "<hublib.ui.Number object at 0x7f740c928650> <class 'hublib.ui.Number'>\n",
      "<hublib.ui.Number object at 0x7f740c9951d0> <class 'hublib.ui.Number'>\n",
      "<hublib.ui.Number object at 0x7f740c94a810> <class 'hublib.ui.Number'>\n",
      "<hublib.ui.Number object at 0x7f742c2985d0> <class 'hublib.ui.Number'>\n",
      "<hublib.ui.Number object at 0x7f740c9287d0> <class 'hublib.ui.Number'>\n",
      "<hublib.ui.Number object at 0x7f740c911090> <class 'hublib.ui.Number'>\n",
      "<hublib.ui.Number object at 0x7f740c94a390> <class 'hublib.ui.Number'>\n",
      "<hublib.ui.Number object at 0x7f740c8b07d0> <class 'hublib.ui.Number'>\n",
      "<hublib.ui.Number object at 0x7f740c8cd050> <class 'hublib.ui.Number'>\n",
      "<hublib.ui.Number object at 0x7f740c911710> <class 'hublib.ui.Number'>\n",
      "<hublib.ui.String object at 0x7f740c8760d0> <class 'hublib.ui.String'>\n",
      "<hublib.ui.Number object at 0x7f740c893610> <class 'hublib.ui.Number'>\n",
      "<hublib.ui.Number object at 0x7f740c893290> <class 'hublib.ui.Number'>\n",
      "<hublib.ui.Number object at 0x7f740c893950> <class 'hublib.ui.Number'>\n",
      "<hublib.ui.Number object at 0x7f740c838190> <class 'hublib.ui.Number'>\n",
      "<hublib.ui.Number object at 0x7f740c838890> <class 'hublib.ui.Number'>\n",
      "<hublib.ui.Number object at 0x7f740c7e34d0> <class 'hublib.ui.Number'>\n",
      "<hublib.ui.Number object at 0x7f740c7e3250> <class 'hublib.ui.Number'>\n",
      "<hublib.ui.Number object at 0x7f740c80a350> <class 'hublib.ui.Number'>\n",
      "<hublib.ui.Form object at 0x7f740c8cd790> <class 'hublib.ui.Form'>\n",
      "<hublib.ui.Form object at 0x7f740c893910> <class 'hublib.ui.Form'>\n",
      "<hublib.ui.Form object at 0x7f740c80a2d0> <class 'hublib.ui.Form'>\n",
      "<hublib.ui.Form object at 0x7f740c7a3150> <class 'hublib.ui.Form'>\n",
      "<hublib.ui.Number object at 0x7f740c7a38d0> <class 'hublib.ui.Number'>\n"
     ]
    }
   ],
   "source": [
    "import hublib.tool\n",
    "from gui import *\n",
    "from gui2 import *"
   ]
  },
  {
   "cell_type": "markdown",
   "metadata": {},
   "source": [
    "# Composite Laminate Analysis\n",
    "Uses basic laminate theory to estimate effective laminate properties and residual stresses, strains and deformations due to thermal loading.\n",
    "\n",
    "https://nanohub.org/tools/complam"
   ]
  },
  {
   "cell_type": "code",
   "execution_count": 2,
   "metadata": {
    "collapsed": false,
    "scrolled": true
   },
   "outputs": [],
   "source": [
    "complam_menu"
   ]
  },
  {
   "cell_type": "code",
   "execution_count": 3,
   "metadata": {
    "collapsed": false
   },
   "outputs": [],
   "source": [
    "tf"
   ]
  },
  {
   "cell_type": "code",
   "execution_count": 4,
   "metadata": {
    "collapsed": false
   },
   "outputs": [],
   "source": [
    "complam_menu2"
   ]
  },
  {
   "cell_type": "code",
   "execution_count": 5,
   "metadata": {
    "collapsed": true
   },
   "outputs": [],
   "source": [
    "XX = ui.Dropdown(\n",
    "    name='Number',\n",
    "    description=\"Number Description\",\n",
    "    options={'One': 1, 'Two': 2, 'Three': 3},\n",
    "    value=2,\n",
    "    width='50%'\n",
    ")"
   ]
  },
  {
   "cell_type": "code",
   "execution_count": 6,
   "metadata": {
    "collapsed": false
   },
   "outputs": [
    {
     "name": "stdout",
     "output_type": "stream",
     "text": [
      "cb val=3 oldval=None no_cb=False\n",
      "cb val=1 oldval=3 no_cb=False\n",
      "cb val=3 oldval=1 no_cb=False\n"
     ]
    }
   ],
   "source": [
    "XX"
   ]
  },
  {
   "cell_type": "code",
   "execution_count": 7,
   "metadata": {
    "collapsed": false
   },
   "outputs": [
    {
     "name": "stdout",
     "output_type": "stream",
     "text": [
      "val= 3\n"
     ]
    },
    {
     "ename": "ValueError",
     "evalue": "Unknown format code '~' for object of type 'int'",
     "output_type": "error",
     "traceback": [
      "\u001b[0;31m---------------------------------------------------------------------------\u001b[0m",
      "\u001b[0;31mValueError\u001b[0m                                Traceback (most recent call last)",
      "\u001b[0;32m<ipython-input-7-b4b1660333a4>\u001b[0m in \u001b[0;36m<module>\u001b[0;34m()\u001b[0m\n\u001b[0;32m----> 1\u001b[0;31m \u001b[0mXX\u001b[0m\u001b[0;34m.\u001b[0m\u001b[0mvalue\u001b[0m\u001b[0;34m\u001b[0m\u001b[0m\n\u001b[0m",
      "\u001b[0;32m/opt/anaconda2-4.1/lib/python2.7/site-packages/hublib-0.2-py2.7.egg/hublib/ui/__init__.pyc\u001b[0m in \u001b[0;36mvalue\u001b[0;34m(self)\u001b[0m\n\u001b[1;32m    185\u001b[0m \u001b[0;34m\u001b[0m\u001b[0m\n\u001b[1;32m    186\u001b[0m         \u001b[0;32mprint\u001b[0m \u001b[0;34m\"val=\"\u001b[0m\u001b[0;34m,\u001b[0m \u001b[0mval\u001b[0m\u001b[0;34m\u001b[0m\u001b[0m\n\u001b[0;32m--> 187\u001b[0;31m         \u001b[0mval\u001b[0m \u001b[0;34m=\u001b[0m \u001b[0;34m'{:~}'\u001b[0m\u001b[0;34m.\u001b[0m\u001b[0mformat\u001b[0m\u001b[0;34m(\u001b[0m\u001b[0mval\u001b[0m\u001b[0;34m)\u001b[0m\u001b[0;34m\u001b[0m\u001b[0m\n\u001b[0m\u001b[1;32m    188\u001b[0m         \u001b[0;32mif\u001b[0m \u001b[0mval\u001b[0m \u001b[0;34m!=\u001b[0m \u001b[0mself\u001b[0m\u001b[0;34m.\u001b[0m\u001b[0moldval\u001b[0m\u001b[0;34m:\u001b[0m\u001b[0;34m\u001b[0m\u001b[0m\n\u001b[1;32m    189\u001b[0m             \u001b[0mself\u001b[0m\u001b[0;34m.\u001b[0m\u001b[0mno_cb\u001b[0m \u001b[0;34m=\u001b[0m \u001b[0mTrue\u001b[0m\u001b[0;34m\u001b[0m\u001b[0m\n",
      "\u001b[0;31mValueError\u001b[0m: Unknown format code '~' for object of type 'int'"
     ]
    }
   ],
   "source": [
    "XX.value"
   ]
  },
  {
   "cell_type": "code",
   "execution_count": null,
   "metadata": {
    "collapsed": false
   },
   "outputs": [],
   "source": [
    "%wait Run,Submitted: Please Wait"
   ]
  }
 ],
 "metadata": {
  "kernelspec": {
   "display_name": "Python2",
   "language": "python",
   "name": "python2"
  },
  "language_info": {
   "codemirror_mode": {
    "name": "ipython",
    "version": 2
   },
   "file_extension": ".py",
   "mimetype": "text/x-python",
   "name": "python",
   "nbconvert_exporter": "python",
   "pygments_lexer": "ipython2",
   "version": "2.7.12"
  },
  "widgets": {
   "state": {
    "282f395fb4c349ac886f215de9a762f2": {
     "views": [
      {
       "cell_index": 4
      }
     ]
    },
    "8ab579c3266a437db92148b6ec327981": {
     "views": [
      {
       "cell_index": 6
      }
     ]
    },
    "a7f7e647ce344d8c869c3334ca788024": {
     "views": [
      {
       "cell_index": 2
      }
     ]
    },
    "fdec0e587f824e01b0ed4a01bb003d64": {
     "views": [
      {
       "cell_index": 3
      }
     ]
    }
   },
   "version": "1.2.0"
  }
 },
 "nbformat": 4,
 "nbformat_minor": 1
}
