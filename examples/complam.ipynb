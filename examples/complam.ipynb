{
 "cells": [
  {
   "cell_type": "code",
   "execution_count": 1,
   "metadata": {
    "collapsed": false
   },
   "outputs": [],
   "source": [
    "import os, sys\n",
    "sys.path.insert(0, os.path.abspath('..'))"
   ]
  },
  {
   "cell_type": "code",
   "execution_count": 2,
   "metadata": {
    "collapsed": false
   },
   "outputs": [
    {
     "name": "stdout",
     "output_type": "stream",
     "text": [
      "parse_expr 0 GPa gigapascal\n",
      "parse_expr 500 GPa gigapascal\n",
      "parse_expr 0 GPa gigapascal\n",
      "parse_expr 500 GPa gigapascal\n",
      "parse_expr -1.0 None\n",
      "parse_expr 0.5 None\n",
      "parse_expr 0 gigapascal\n",
      "parse_expr 500 gigapascal\n",
      "parse_expr 1e-05 None\n",
      "parse_expr 0.0001 None\n",
      "parse_expr 1e-05 None\n",
      "parse_expr 0.0001 None\n",
      "parse_expr 0 meter\n",
      "parse_expr 0.01 meter\n",
      "parse_expr -10000 newton / meter\n",
      "parse_expr 10000 newton / meter\n",
      "parse_expr -10000N/m newton / meter\n",
      "parse_expr 10000 N/m newton / meter\n",
      "parse_expr -10000 newton / meter\n",
      "parse_expr 10000 newton / meter\n",
      "parse_expr -10000 newton\n",
      "parse_expr 10000 newton\n",
      "parse_expr -10000 newton\n",
      "parse_expr 10000 newton\n",
      "parse_expr -10000 newton\n",
      "parse_expr 10000 newton\n",
      "parse_expr -273.15 degC\n",
      "parse_expr 500 degC\n",
      "parse_expr -273.15 degC\n",
      "parse_expr 500 degC\n",
      "parse_expr 0 GPa gigapascal\n",
      "parse_expr 500 GPa gigapascal\n",
      "parse_expr 0 GPa gigapascal\n",
      "parse_expr 500 GPa gigapascal\n",
      "parse_expr -1.0 None\n",
      "parse_expr 0.5 None\n",
      "parse_expr 0 gigapascal\n",
      "parse_expr 500 gigapascal\n",
      "parse_expr 1e-05 None\n",
      "parse_expr 0.0001 None\n",
      "parse_expr 1e-05 None\n",
      "parse_expr 0.0001 None\n",
      "parse_expr 0 meter\n",
      "parse_expr 0.01 meter\n",
      "parse_expr -10000 newton / meter\n",
      "parse_expr 10000 newton / meter\n",
      "parse_expr -10000N/m newton / meter\n",
      "parse_expr 10000 N/m newton / meter\n",
      "parse_expr -10000 newton / meter\n",
      "parse_expr 10000 newton / meter\n",
      "parse_expr -10000 newton\n",
      "parse_expr 10000 newton\n",
      "parse_expr -10000 newton\n",
      "parse_expr 10000 newton\n",
      "parse_expr -10000 newton\n",
      "parse_expr 10000 newton\n",
      "parse_expr -273.15 degC\n",
      "parse_expr 500 degC\n",
      "parse_expr -273.15 degC\n",
      "parse_expr 500 degC\n",
      "parse_expr 0 None\n",
      "parse_expr 10 None\n"
     ]
    }
   ],
   "source": [
    "import hublib.tool\n",
    "from gui import *\n",
    "from gui2 import *"
   ]
  },
  {
   "cell_type": "markdown",
   "metadata": {},
   "source": [
    "# Composite Laminate Analysis\n",
    "Uses basic laminate theory to estimate effective laminate properties and residual stresses, strains and deformations due to thermal loading.\n",
    "\n",
    "https://nanohub.org/tools/complam"
   ]
  },
  {
   "cell_type": "code",
   "execution_count": 3,
   "metadata": {
    "collapsed": false,
    "scrolled": true
   },
   "outputs": [],
   "source": [
    "complam_menu"
   ]
  },
  {
   "cell_type": "code",
   "execution_count": 4,
   "metadata": {
    "collapsed": false
   },
   "outputs": [],
   "source": [
    "tf"
   ]
  },
  {
   "cell_type": "code",
   "execution_count": 5,
   "metadata": {
    "collapsed": false
   },
   "outputs": [],
   "source": [
    "complam_menu2"
   ]
  },
  {
   "cell_type": "code",
   "execution_count": null,
   "metadata": {
    "collapsed": false
   },
   "outputs": [],
   "source": [
    "XX = ui.Dropdown(\n",
    "    name='Number',\n",
    "    description=\"Number Description\",\n",
    "    options={'Walnuts': 1, 'Pecans': 2, 'Almonds': 3},\n",
    "    value=2,\n",
    "    width='80%'\n",
    ")"
   ]
  },
  {
   "cell_type": "code",
   "execution_count": null,
   "metadata": {
    "collapsed": false
   },
   "outputs": [],
   "source": [
    "XX"
   ]
  },
  {
   "cell_type": "code",
   "execution_count": null,
   "metadata": {
    "collapsed": false
   },
   "outputs": [],
   "source": [
    "XX.value"
   ]
  },
  {
   "cell_type": "code",
   "execution_count": null,
   "metadata": {
    "collapsed": false
   },
   "outputs": [],
   "source": [
    "x = ui.Dropdown(\n",
    "    name='Number',\n",
    "    description=\"Number Description\",\n",
    "    options=['One', 'Two', 'Three'],\n",
    "    value='Three',\n",
    "    width='80%'\n",
    ")"
   ]
  },
  {
   "cell_type": "code",
   "execution_count": null,
   "metadata": {
    "collapsed": false
   },
   "outputs": [],
   "source": [
    "x"
   ]
  },
  {
   "cell_type": "code",
   "execution_count": null,
   "metadata": {
    "collapsed": false
   },
   "outputs": [],
   "source": [
    "x.value"
   ]
  },
  {
   "cell_type": "code",
   "execution_count": null,
   "metadata": {
    "collapsed": false
   },
   "outputs": [],
   "source": [
    "from IPython.display import display\n",
    "import ipywidgets as widgets\n",
    "w = widgets.Dropdown(\n",
    "    options=['1', '2', '3', '4', '5', '6', '7', '8', '9'],\n",
    "    value='2',\n",
    "    description='Number:',\n",
    ")\n",
    "display(w)"
   ]
  },
  {
   "cell_type": "code",
   "execution_count": null,
   "metadata": {
    "collapsed": false
   },
   "outputs": [],
   "source": [
    "x.value = 'Two'"
   ]
  },
  {
   "cell_type": "code",
   "execution_count": null,
   "metadata": {
    "collapsed": true
   },
   "outputs": [],
   "source": [
    "x.enabled = True"
   ]
  },
  {
   "cell_type": "code",
   "execution_count": null,
   "metadata": {
    "collapsed": true
   },
   "outputs": [],
   "source": [
    "a = [1,2,3]"
   ]
  },
  {
   "cell_type": "code",
   "execution_count": null,
   "metadata": {
    "collapsed": false
   },
   "outputs": [],
   "source": [
    "a.insert(0, 9)"
   ]
  },
  {
   "cell_type": "markdown",
   "metadata": {},
   "source": [
    "<p style='background-color: #DCDCDC; font-size:200; padding: 5px'>FOOBAR</p>"
   ]
  },
  {
   "cell_type": "code",
   "execution_count": null,
   "metadata": {
    "collapsed": true
   },
   "outputs": [],
   "source": []
  }
 ],
 "metadata": {
  "kernelspec": {
   "display_name": "Python2",
   "language": "python",
   "name": "python2"
  },
  "language_info": {
   "codemirror_mode": {
    "name": "ipython",
    "version": 2
   },
   "file_extension": ".py",
   "mimetype": "text/x-python",
   "name": "python",
   "nbconvert_exporter": "python",
   "pygments_lexer": "ipython2",
   "version": "2.7.12"
  },
  "widgets": {
   "state": {
    "0962b4ad8a0c4feaad7f6af3dcf80202": {
     "views": [
      {
       "cell_index": 4
      }
     ]
    },
    "374a29c417b84842b0b90a8181b8183f": {
     "views": [
      {
       "cell_index": 7
      }
     ]
    },
    "4eb21e7996c24c7c861a271cd6d14123": {
     "views": [
      {
       "cell_index": 12
      }
     ]
    },
    "4f426a40084b4df99c91deaad954f198": {
     "views": [
      {
       "cell_index": 3
      }
     ]
    },
    "73206f714408427d994eb47acadc52ad": {
     "views": [
      {
       "cell_index": 10
      }
     ]
    },
    "94a8b3321da849eba0fa715f37552b8d": {
     "views": [
      {
       "cell_index": 5
      }
     ]
    }
   },
   "version": "1.2.0"
  }
 },
 "nbformat": 4,
 "nbformat_minor": 1
}
