{
 "cells": [
  {
   "cell_type": "code",
   "execution_count": 1,
   "metadata": {
    "collapsed": false
   },
   "outputs": [],
   "source": [
    "import os, sys\n",
    "sys.path.insert(0, os.path.abspath('..'))"
   ]
  },
  {
   "cell_type": "code",
   "execution_count": 2,
   "metadata": {
    "collapsed": false
   },
   "outputs": [
    {
     "name": "stdout",
     "output_type": "stream",
     "text": [
      "parse_expr 0 GPa gigapascal\n",
      "parse_expr 500 GPa gigapascal\n",
      "parse_expr 0 GPa gigapascal\n",
      "parse_expr 500 GPa gigapascal\n",
      "parse_expr -1.0 None\n",
      "parse_expr 0.5 None\n",
      "parse_expr 0 gigapascal\n",
      "parse_expr 500 gigapascal\n",
      "parse_expr 1e-05 None\n",
      "parse_expr 0.0001 None\n",
      "parse_expr 1e-05 None\n",
      "parse_expr 0.0001 None\n",
      "FORM: name:'Material'\n",
      "lval= <p   style='background-color: #DCDCDC; font-size:200; padding: 5px'>Material</p>\n",
      "<ipywidgets.widgets.widget_string.HTML object at 0x7feb0247e890>\n",
      "[<ipywidgets.widgets.widget_string.HTML object at 0x7feb0247e890>, <ipywidgets.widgets.widget_box.Box object at 0x7feb023d7e10>, <ipywidgets.widgets.widget_box.Box object at 0x7feb0247ec90>, <ipywidgets.widgets.widget_box.Box object at 0x7feb02469510>, <ipywidgets.widgets.widget_box.Box object at 0x7feb02469e90>, <ipywidgets.widgets.widget_box.Box object at 0x7feb02469b50>, <ipywidgets.widgets.widget_box.Box object at 0x7feb02469550>]\n",
      "parse_expr 0 meter\n",
      "parse_expr 0.01 meter\n",
      "FORM: name:'Layup'\n",
      "lval= <p   style='background-color: #DCDCDC; font-size:200; padding: 5px'>Layup</p>\n",
      "<ipywidgets.widgets.widget_string.HTML object at 0x7feb0239e7d0>\n",
      "[<ipywidgets.widgets.widget_string.HTML object at 0x7feb0239e7d0>, <ipywidgets.widgets.widget_box.Box object at 0x7feb0237e710>, <ipywidgets.widgets.widget_box.Box object at 0x7feb02346650>]\n",
      "parse_expr -10000 newton / meter\n",
      "parse_expr 10000 newton / meter\n",
      "parse_expr -10000N/m newton / meter\n",
      "parse_expr 10000 N/m newton / meter\n",
      "parse_expr -10000 newton / meter\n",
      "parse_expr 10000 newton / meter\n",
      "parse_expr -10000 newton\n",
      "parse_expr 10000 newton\n",
      "parse_expr -10000 newton\n",
      "parse_expr 10000 newton\n",
      "parse_expr -10000 newton\n",
      "parse_expr 10000 newton\n",
      "parse_expr -273.15 degC\n",
      "parse_expr 500 degC\n",
      "parse_expr -273.15 degC\n",
      "parse_expr 500 degC\n",
      "FORM: name:'Loading'\n",
      "lval= <p   style='background-color: #DCDCDC; font-size:200; padding: 5px'>Loading</p>\n",
      "<ipywidgets.widgets.widget_string.HTML object at 0x7feb023128d0>\n",
      "[<ipywidgets.widgets.widget_string.HTML object at 0x7feb023128d0>, <ipywidgets.widgets.widget_box.Box object at 0x7feb0239e910>, <ipywidgets.widgets.widget_box.Box object at 0x7feb02346990>, <ipywidgets.widgets.widget_box.Box object at 0x7feb02346890>, <ipywidgets.widgets.widget_box.Box object at 0x7feb02346b10>, <ipywidgets.widgets.widget_box.Box object at 0x7feb022e6390>, <ipywidgets.widgets.widget_box.Box object at 0x7feb02312290>, <ipywidgets.widgets.widget_box.Box object at 0x7feb022b3090>, <ipywidgets.widgets.widget_box.Box object at 0x7feb02312b50>]\n",
      "parse_expr 0 GPa gigapascal\n",
      "parse_expr 500 GPa gigapascal\n",
      "parse_expr 0 GPa gigapascal\n",
      "parse_expr 500 GPa gigapascal\n",
      "parse_expr -1.0 None\n",
      "parse_expr 0.5 None\n",
      "parse_expr 0 gigapascal\n",
      "parse_expr 500 gigapascal\n",
      "parse_expr 1e-05 None\n",
      "parse_expr 0.0001 None\n",
      "parse_expr 1e-05 None\n",
      "parse_expr 0.0001 None\n",
      "FORM: name:'Material'\n",
      "lval= <p   style='background-color: #DCDCDC; font-size:200; padding: 5px'>Material</p>\n",
      "<ipywidgets.widgets.widget_string.HTML object at 0x7feb022d2250>\n",
      "[<ipywidgets.widgets.widget_string.HTML object at 0x7feb022d2250>, <ipywidgets.widgets.widget_box.Box object at 0x7feb022b3ad0>, <ipywidgets.widgets.widget_box.Box object at 0x7feb022d2850>, <ipywidgets.widgets.widget_box.Box object at 0x7feb022d2b10>, <ipywidgets.widgets.widget_box.Box object at 0x7feb02245490>, <ipywidgets.widgets.widget_box.Box object at 0x7feb0229bf90>, <ipywidgets.widgets.widget_box.Box object at 0x7feb0225c490>]\n",
      "parse_expr 0 meter\n",
      "parse_expr 0.01 meter\n",
      "FORM: name:'Layup'\n",
      "lval= <p   style='background-color: #DCDCDC; font-size:200; padding: 5px'>Layup</p>\n",
      "<ipywidgets.widgets.widget_string.HTML object at 0x7feb022d20d0>\n",
      "[<ipywidgets.widgets.widget_string.HTML object at 0x7feb022d20d0>, <ipywidgets.widgets.widget_box.Box object at 0x7feb0225c9d0>, <ipywidgets.widgets.widget_box.Box object at 0x7feb0225c150>]\n",
      "parse_expr -10000 newton / meter\n",
      "parse_expr 10000 newton / meter\n",
      "parse_expr -10000N/m newton / meter\n",
      "parse_expr 10000 N/m newton / meter\n",
      "parse_expr -10000 newton / meter\n",
      "parse_expr 10000 newton / meter\n",
      "parse_expr -10000 newton\n",
      "parse_expr 10000 newton\n",
      "parse_expr -10000 newton\n",
      "parse_expr 10000 newton\n",
      "parse_expr -10000 newton\n",
      "parse_expr 10000 newton\n",
      "parse_expr -273.15 degC\n",
      "parse_expr 500 degC\n",
      "parse_expr -273.15 degC\n",
      "parse_expr 500 degC\n",
      "FORM: name:'Loading'\n",
      "lval= <p   style='background-color: #DCDCDC; font-size:200; padding: 5px'>Loading</p>\n",
      "<ipywidgets.widgets.widget_string.HTML object at 0x7feb02192210>\n",
      "[<ipywidgets.widgets.widget_string.HTML object at 0x7feb02192210>, <ipywidgets.widgets.widget_box.Box object at 0x7feb02200410>, <ipywidgets.widgets.widget_box.Box object at 0x7feb022000d0>, <ipywidgets.widgets.widget_box.Box object at 0x7feb021a6250>, <ipywidgets.widgets.widget_box.Box object at 0x7feb021a62d0>, <ipywidgets.widgets.widget_box.Box object at 0x7feb02200a90>, <ipywidgets.widgets.widget_box.Box object at 0x7feb021a6ad0>, <ipywidgets.widgets.widget_box.Box object at 0x7feb02245710>, <ipywidgets.widgets.widget_box.Box object at 0x7feb021cfb10>]\n",
      "parse_expr 0 None\n",
      "parse_expr 10 None\n",
      "FORM: name:''\n",
      "FORM: name:''\n"
     ]
    }
   ],
   "source": [
    "import hublib.tool\n",
    "from gui import *\n",
    "from gui2 import *"
   ]
  },
  {
   "cell_type": "markdown",
   "metadata": {},
   "source": [
    "# Composite Laminate Analysis\n",
    "Uses basic laminate theory to estimate effective laminate properties and residual stresses, strains and deformations due to thermal loading.\n",
    "\n",
    "https://nanohub.org/tools/complam"
   ]
  },
  {
   "cell_type": "code",
   "execution_count": 3,
   "metadata": {
    "collapsed": false,
    "scrolled": true
   },
   "outputs": [],
   "source": [
    "complam_menu"
   ]
  },
  {
   "cell_type": "code",
   "execution_count": 4,
   "metadata": {
    "collapsed": false
   },
   "outputs": [],
   "source": [
    "tf"
   ]
  },
  {
   "cell_type": "code",
   "execution_count": 5,
   "metadata": {
    "collapsed": false
   },
   "outputs": [],
   "source": [
    "mymenu"
   ]
  },
  {
   "cell_type": "code",
   "execution_count": 6,
   "metadata": {
    "collapsed": false
   },
   "outputs": [],
   "source": [
    "complam_menu2"
   ]
  },
  {
   "cell_type": "code",
   "execution_count": null,
   "metadata": {
    "collapsed": false
   },
   "outputs": [],
   "source": [
    "XX = ui.Dropdown(\n",
    "    name='Number',\n",
    "    description=\"Number Description\",\n",
    "    options={'Walnuts': 1, 'Pecans': 2, 'Almonds': 3},\n",
    "    value=2,\n",
    "    width='80%'\n",
    ")"
   ]
  },
  {
   "cell_type": "code",
   "execution_count": null,
   "metadata": {
    "collapsed": false
   },
   "outputs": [],
   "source": [
    "XX"
   ]
  },
  {
   "cell_type": "code",
   "execution_count": null,
   "metadata": {
    "collapsed": false
   },
   "outputs": [],
   "source": [
    "XX.value"
   ]
  },
  {
   "cell_type": "code",
   "execution_count": null,
   "metadata": {
    "collapsed": false
   },
   "outputs": [],
   "source": [
    "x = ui.Dropdown(\n",
    "    name='Number',\n",
    "    description=\"Number Description\",\n",
    "    options=['One', 'Two', 'Three'],\n",
    "    value='Three',\n",
    "    width='80%'\n",
    ")"
   ]
  },
  {
   "cell_type": "code",
   "execution_count": null,
   "metadata": {
    "collapsed": false
   },
   "outputs": [],
   "source": [
    "x"
   ]
  },
  {
   "cell_type": "code",
   "execution_count": null,
   "metadata": {
    "collapsed": false
   },
   "outputs": [],
   "source": [
    "x.value"
   ]
  },
  {
   "cell_type": "code",
   "execution_count": null,
   "metadata": {
    "collapsed": false
   },
   "outputs": [],
   "source": [
    "from IPython.display import display\n",
    "import ipywidgets as widgets\n",
    "w = widgets.Dropdown(\n",
    "    options=['1', '2', '3', '4', '5', '6', '7', '8', '9'],\n",
    "    value='2',\n",
    "    description='Number:',\n",
    ")\n",
    "display(w)"
   ]
  },
  {
   "cell_type": "code",
   "execution_count": null,
   "metadata": {
    "collapsed": false
   },
   "outputs": [],
   "source": [
    "x.value = 'Two'"
   ]
  },
  {
   "cell_type": "code",
   "execution_count": null,
   "metadata": {
    "collapsed": true
   },
   "outputs": [],
   "source": [
    "x.enabled = True"
   ]
  },
  {
   "cell_type": "code",
   "execution_count": null,
   "metadata": {
    "collapsed": true
   },
   "outputs": [],
   "source": [
    "a = [1,2,3]"
   ]
  },
  {
   "cell_type": "code",
   "execution_count": null,
   "metadata": {
    "collapsed": false
   },
   "outputs": [],
   "source": [
    "a.insert(0, 9)"
   ]
  },
  {
   "cell_type": "markdown",
   "metadata": {},
   "source": [
    "<p style='background-color: #DCDCDC; font-size:200; padding: 5px'>FOOBAR</p>"
   ]
  },
  {
   "cell_type": "code",
   "execution_count": 18,
   "metadata": {
    "collapsed": true
   },
   "outputs": [],
   "source": [
    "def mycb(name, val):\n",
    "    print(\"val=\", name, val)\n",
    "\n",
    "x = ui.String(\n",
    "    name=\"Name\",\n",
    "    description=\"Name of the device\",\n",
    "    value=\"Red2\",\n",
    "    cb=mycb,\n",
    "    width=\"30%\")"
   ]
  },
  {
   "cell_type": "code",
   "execution_count": 19,
   "metadata": {
    "collapsed": false
   },
   "outputs": [
    {
     "name": "stdout",
     "output_type": "stream",
     "text": [
      "('val=', 'Name', u'Red29')\n",
      "('val=', 'Name', u'Red290')\n",
      "('val=', 'Name', u'Red29')\n",
      "('val=', 'Name', u'Red2')\n",
      "('val=', 'Name', u'Red2')\n",
      "('val=', 'Name', u'Red')\n",
      "('val=', 'Name', u'Re')\n",
      "('val=', 'Name', u'R')\n",
      "('val=', 'Name', u'')\n",
      "('val=', 'Name', u'S')\n",
      "('val=', 'Name', u'Sl')\n",
      "('val=', 'Name', u'Sla')\n",
      "('val=', 'Name', u'Slat')\n",
      "('val=', 'Name', u'Slate')\n",
      "('val=', 'Name', u'Slate')\n",
      "('val=', 'Name', u'Slate')\n",
      "('val=', 'Name', u'Slate')\n"
     ]
    }
   ],
   "source": [
    "x"
   ]
  },
  {
   "cell_type": "code",
   "execution_count": 17,
   "metadata": {
    "collapsed": false
   },
   "outputs": [
    {
     "data": {
      "text/plain": [
       "u'Red2'"
      ]
     },
     "execution_count": 17,
     "metadata": {},
     "output_type": "execute_result"
    }
   ],
   "source": [
    "x.value"
   ]
  },
  {
   "cell_type": "code",
   "execution_count": 23,
   "metadata": {
    "collapsed": false
   },
   "outputs": [],
   "source": [
    "from collections import Counter\n",
    "z = Counter()"
   ]
  },
  {
   "cell_type": "code",
   "execution_count": 24,
   "metadata": {
    "collapsed": true
   },
   "outputs": [],
   "source": [
    "z['foo'] += 1"
   ]
  },
  {
   "cell_type": "code",
   "execution_count": 26,
   "metadata": {
    "collapsed": false
   },
   "outputs": [
    {
     "data": {
      "text/plain": [
       "1"
      ]
     },
     "execution_count": 26,
     "metadata": {},
     "output_type": "execute_result"
    }
   ],
   "source": [
    "z['foo']"
   ]
  }
 ],
 "metadata": {
  "kernelspec": {
   "display_name": "Python2",
   "language": "python",
   "name": "python2"
  },
  "language_info": {
   "codemirror_mode": {
    "name": "ipython",
    "version": 2
   },
   "file_extension": ".py",
   "mimetype": "text/x-python",
   "name": "python",
   "nbconvert_exporter": "python",
   "pygments_lexer": "ipython2",
   "version": "2.7.12"
  },
  "widgets": {
   "state": {
    "29ac13b4f6e8443281a3ce06cdbbdb5c": {
     "views": [
      {
       "cell_index": 8
      }
     ]
    },
    "37b1bf5244f24df08d98fc0133386fdd": {
     "views": [
      {
       "cell_index": 3
      }
     ]
    },
    "3b9fe8fd245e4ab58cce175925583773": {
     "views": [
      {
       "cell_index": 6
      }
     ]
    },
    "896d73c44eed4d5a8434dd05742bbe07": {
     "views": [
      {
       "cell_index": 13
      }
     ]
    },
    "9e88a02c9c5446768b55aed1c82ba01b": {
     "views": [
      {
       "cell_index": 4
      }
     ]
    },
    "d1f0d7a16a924a69bfd20c92b4193473": {
     "views": [
      {
       "cell_index": 20
      }
     ]
    },
    "dd48ab4379314f5bb9dc475b8d13ed54": {
     "views": [
      {
       "cell_index": 11
      }
     ]
    },
    "e835f5f85a44444bb5510a0278ca894c": {
     "views": [
      {
       "cell_index": 5
      }
     ]
    }
   },
   "version": "1.2.0"
  }
 },
 "nbformat": 4,
 "nbformat_minor": 1
}
