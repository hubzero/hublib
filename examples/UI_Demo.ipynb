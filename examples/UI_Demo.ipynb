{
 "cells": [
  {
   "cell_type": "code",
   "execution_count": 1,
   "metadata": {
    "collapsed": false
   },
   "outputs": [],
   "source": [
    "#import os,sys\n",
    "#sys.path.insert(0, os.path.abspath('..'))"
   ]
  },
  {
   "cell_type": "code",
   "execution_count": 2,
   "metadata": {
    "collapsed": false
   },
   "outputs": [],
   "source": [
    "import hublib.ui as ui"
   ]
  },
  {
   "cell_type": "code",
   "execution_count": 3,
   "metadata": {
    "collapsed": true
   },
   "outputs": [],
   "source": [
    "def mycb(name, val):\n",
    "    print(\"name:%s  value:%s\" % (name, val))"
   ]
  },
  {
   "cell_type": "code",
   "execution_count": 4,
   "metadata": {
    "collapsed": false
   },
   "outputs": [
    {
     "name": "stdout",
     "output_type": "stream",
     "text": [
      "name:E1  value:128 GPa\n",
      "name:E1  value:18 GPa\n",
      "name:E1  value:118 GPa\n"
     ]
    }
   ],
   "source": [
    "e1 = ui.Number(\n",
    "        name='E1',\n",
    "        description=\"Longitudinal Young's Modulus\",\n",
    "        units='GPa',\n",
    "        min='0 GPa',\n",
    "        max='500 GPa',\n",
    "        value='138 GPa',\n",
    "        cb=mycb\n",
    "    )\n",
    "e1"
   ]
  },
  {
   "cell_type": "code",
   "execution_count": 5,
   "metadata": {
    "collapsed": false
   },
   "outputs": [
    {
     "name": "stdout",
     "output_type": "stream",
     "text": [
      "name:E2  value:42.12\n",
      "name:E2  value:42.123\n",
      "name:E2  value:42.1234\n"
     ]
    }
   ],
   "source": [
    "e2 = ui.Number(\n",
    "        name='E2',\n",
    "        description=\"Longitudinal Young's Modulus\",\n",
    "        value=42.1,\n",
    "        width='30%',\n",
    "        cb=mycb\n",
    "    )\n",
    "e2"
   ]
  },
  {
   "cell_type": "code",
   "execution_count": 6,
   "metadata": {
    "collapsed": false
   },
   "outputs": [
    {
     "data": {
      "text/plain": [
       "138"
      ]
     },
     "execution_count": 6,
     "metadata": {},
     "output_type": "execute_result"
    }
   ],
   "source": [
    "e1.value"
   ]
  },
  {
   "cell_type": "code",
   "execution_count": 7,
   "metadata": {
    "collapsed": false
   },
   "outputs": [
    {
     "data": {
      "text/plain": [
       "'138 GPa'"
      ]
     },
     "execution_count": 7,
     "metadata": {},
     "output_type": "execute_result"
    }
   ],
   "source": [
    "e1.str"
   ]
  },
  {
   "cell_type": "code",
   "execution_count": null,
   "metadata": {
    "collapsed": true
   },
   "outputs": [],
   "source": []
  }
 ],
 "metadata": {
  "kernelspec": {
   "display_name": "Python3",
   "language": "python",
   "name": "python3"
  },
  "language_info": {
   "codemirror_mode": {
    "name": "ipython",
    "version": 3
   },
   "file_extension": ".py",
   "mimetype": "text/x-python",
   "name": "python",
   "nbconvert_exporter": "python",
   "pygments_lexer": "ipython3",
   "version": "3.5.2"
  },
  "widgets": {
   "state": {
    "7b18ea40be8f423a8fd2e3b9192b7e5e": {
     "views": [
      {
       "cell_index": 4
      }
     ]
    },
    "cff00ef5c1944f96aa09284877d2718d": {
     "views": [
      {
       "cell_index": 3
      }
     ]
    }
   },
   "version": "1.2.0"
  }
 },
 "nbformat": 4,
 "nbformat_minor": 1
}
