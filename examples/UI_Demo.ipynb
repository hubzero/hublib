{
 "cells": [
  {
   "cell_type": "code",
   "execution_count": 1,
   "metadata": {
    "collapsed": false
   },
   "outputs": [],
   "source": [
    "import hublib.ui as ui"
   ]
  },
  {
   "cell_type": "code",
   "execution_count": 2,
   "metadata": {
    "collapsed": true
   },
   "outputs": [],
   "source": [
    "e1 = ui.Number(\n",
    "        name='E1',\n",
    "        description=\"Longitudinal Young's Modulus\",\n",
    "        units='GPa',\n",
    "        min='0 GPa',\n",
    "        max='500 GPa',\n",
    "        value='138 GPa'\n",
    "    )\n",
    "e1"
   ]
  },
  {
   "cell_type": "code",
   "execution_count": 3,
   "metadata": {
    "collapsed": true
   },
   "outputs": [],
   "source": [
    "e1 = ui.Number(\n",
    "        name='E1',\n",
    "        description=\"Longitudinal Young's Modulus\",\n",
    "        units='GPa',\n",
    "        min='0 GPa',\n",
    "        max='500 GPa',\n",
    "        value='138 GPa',\n",
    "        width='30%'\n",
    "    )\n",
    "e1"
   ]
  },
  {
   "cell_type": "code",
   "execution_count": 4,
   "metadata": {
    "collapsed": false
   },
   "outputs": [
    {
     "data": {
      "text/plain": [
       "138"
      ]
     },
     "execution_count": 4,
     "metadata": {},
     "output_type": "execute_result"
    }
   ],
   "source": [
    "e1.value"
   ]
  },
  {
   "cell_type": "code",
   "execution_count": 7,
   "metadata": {
    "collapsed": false
   },
   "outputs": [
    {
     "data": {
      "text/plain": [
       "'138 GPa'"
      ]
     },
     "execution_count": 7,
     "metadata": {},
     "output_type": "execute_result"
    }
   ],
   "source": [
    "e1.str"
   ]
  }
 ],
 "metadata": {
  "kernelspec": {
   "display_name": "Python3",
   "language": "python",
   "name": "python3"
  },
  "language_info": {
   "codemirror_mode": {
    "name": "ipython",
    "version": 3
   },
   "file_extension": ".py",
   "mimetype": "text/x-python",
   "name": "python",
   "nbconvert_exporter": "python",
   "pygments_lexer": "ipython3",
   "version": "3.5.2"
  },
  "widgets": {
   "state": {
    "9393373f7d5f4a35b9988978abf9a549": {
     "views": [
      {
       "cell_index": 2
      }
     ]
    },
    "ccd0f032f3de48a5841d1294a5c08848": {
     "views": [
      {
       "cell_index": 1
      }
     ]
    }
   },
   "version": "1.2.0"
  }
 },
 "nbformat": 4,
 "nbformat_minor": 1
}
