{
 "cells": [
  {
   "cell_type": "code",
   "execution_count": 1,
   "metadata": {
    "extensions": {
     "jupyter_dashboards": {
      "version": 1,
      "views": {
       "grid_default": {
        "hidden": true
       },
       "report_default": {}
      }
     }
    }
   },
   "outputs": [
    {
     "data": {
      "application/javascript": [
       "\n",
       "requirejs.undef('filepicker');\n",
       "\n",
       "define('filepicker', [\"@jupyter-widgets/base\"], function(widgets) {\n",
       "\n",
       "    var FilePickerView = widgets.DOMWidgetView.extend({\n",
       "        render: function(){\n",
       "            this.file = document.createElement('input');\n",
       "            this.file.setAttribute('class', 'fileinput');\n",
       "            this.file.setAttribute('id', this.cid);\n",
       "            this.file.multiple = this.model.get('multiple');\n",
       "            this.file.required = true;\n",
       "            this.file.setAttribute('type', 'file');\n",
       "            this.file.setAttribute('style', 'display:none');\n",
       "\n",
       "            this.label = document.createElement('label');\n",
       "            this.label.setAttribute('for', this.cid);\n",
       "            this.label.setAttribute('style', 'border: 1px solid; border-radius: 5px; display: inline-block; padding: 6px 12px');\n",
       "\n",
       "            this.icon = document.createElement('i');\n",
       "            this.icon.setAttribute(\"class\", \"fa fa-upload\");\n",
       "\n",
       "            if (this.file.multiple) {\n",
       "                this.labelstr = \"  Upload Files\";\n",
       "            } else {\n",
       "                this.labelstr = \"  Upload File\";\n",
       "            }\n",
       "            this.label.innerHTML = this.labelstr;\n",
       "            this.label.prepend(this.icon);\n",
       "            this.el.appendChild(this.label);\n",
       "            this.el.appendChild(this.file);\n",
       "            this.listenTo(this.model, 'change:send', this._send_changed, this);\n",
       "            this.listenTo(this.model, 'change:reset', this._reset, this);\n",
       "            this.update();\n",
       "        },\n",
       "\n",
       "        events: {\n",
       "            // List of events and their handlers.\n",
       "            'change': 'handle_file_change'\n",
       "        },\n",
       "\n",
       "        _reset: function() {\n",
       "            this.label.innerHTML = this.labelstr;\n",
       "            this.label.prepend(this.icon);\n",
       "            this.file.removeAttribute(\"disabled\");\n",
       "        },\n",
       "\n",
       "        _send_changed: function() {\n",
       "            var that = this;\n",
       "            var send = this.model.get('send');\n",
       "            var fnum = send[0];\n",
       "            var offset = send[1];\n",
       "            var chunk_size=64*1024;\n",
       "            var reader;\n",
       "\n",
       "            if (fnum == -1) {\n",
       "                // ignore\n",
       "                return\n",
       "            }\n",
       "\n",
       "            if (offset == 0) {\n",
       "                this.model.set('sent', -1);\n",
       "                this.touch();\n",
       "            }\n",
       "\n",
       "            // console.log('send: ' + fnum + ' ' + offset);\n",
       "            function tob64( buffer ) {\n",
       "                var binary = '';\n",
       "                var bytes = new Uint8Array( buffer );\n",
       "                var len = bytes.byteLength;\n",
       "                for (var i = 0; i < len; i++) {\n",
       "                    binary += String.fromCharCode( bytes[ i ] );\n",
       "                }\n",
       "                return window.btoa( binary );\n",
       "            }\n",
       "\n",
       "            var reader_done = function (event) {\n",
       "                // chunk is finished.  Send to python\n",
       "                if (event.target.error == null) {\n",
       "                    var b64 = tob64(event.target.result);\n",
       "                    that.model.set('data', b64);\n",
       "                    that.model.set('sent', offset);\n",
       "                    that.touch();\n",
       "                } else {\n",
       "                    console.log(\"Read error: \" + event.target.error);\n",
       "                    that.model.set('data', '');\n",
       "                    that.model.set('sent', -2);\n",
       "                    that.touch();\n",
       "                }\n",
       "                that.touch();\n",
       "            }\n",
       "        \n",
       "            var chunk_reader = function (_offset, _f) {\n",
       "                // console.log('CR' + ' ' + _f + ' ' + _offset);\n",
       "                reader = new FileReader();\n",
       "                var chunk = _f.slice(_offset, chunk_size + _offset);            \n",
       "                reader.readAsArrayBuffer(chunk);\n",
       "                reader.onload = reader_done;\n",
       "            }\n",
       "    \n",
       "            // OK. request next chunk\n",
       "            chunk_reader(offset, this.files[fnum]);\n",
       "        },\n",
       "        \n",
       "        \n",
       "        handle_file_change: function(evt) {\n",
       "\n",
       "            var _files = evt.target.files;\n",
       "            var filenames = [];\n",
       "            var file_readers = [];\n",
       "            this.files = [];\n",
       "\n",
       "            for (var i = 0; i < _files.length; i++) {\n",
       "                var file = _files[i];\n",
       "                console.log(\"Filename: \" + file.name);\n",
       "                console.log(\"Type: \" + file.type);\n",
       "                console.log(\"Size: \" + file.size + \" bytes\");\n",
       "                this.files.push(file);\n",
       "                filenames.push([file.name, file.size]);\n",
       "            };\n",
       "            \n",
       "            // Set the filenames of the files.\n",
       "            this.model.set('filenames', filenames);\n",
       "            this.touch();\n",
       "\n",
       "            // update the label\n",
       "            if (filenames.length == 0) {\n",
       "                this.label.innerHTML = this.labelstr;\n",
       "                this.file.removeAttribute(\"disabled\");\n",
       "            } else if (filenames.length == 1) {\n",
       "                this.label.innerHTML = \"  \" + filenames[0][0];\n",
       "                this.file.setAttribute('disabled', 'true');\n",
       "            } else {\n",
       "                this.label.innerHTML = \"  \" + filenames.length + \" files selected\";\n",
       "                this.file.setAttribute('disabled', 'true');           \n",
       "            };\n",
       "            this.label.prepend(this.icon);\n",
       "        },\n",
       "    });\n",
       "\n",
       "    // Register the FilePickerView with the widget manager.\n",
       "    return {\n",
       "        FilePickerView: FilePickerView\n",
       "    };\n",
       "});\n"
      ],
      "text/plain": [
       "<IPython.core.display.Javascript object>"
      ]
     },
     "metadata": {},
     "output_type": "display_data"
    }
   ],
   "source": [
    "import os,sys\n",
    "sys.path.insert(0, os.path.abspath('..'))\n",
    "import hublib.ui as ui"
   ]
  },
  {
   "cell_type": "markdown",
   "metadata": {
    "extensions": {
     "jupyter_dashboards": {
      "version": 1,
      "views": {
       "grid_default": {
        "col": 0,
        "height": 4,
        "hidden": false,
        "row": 0,
        "width": 4
       },
       "report_default": {}
      }
     }
    }
   },
   "source": [
    "## Number (Float) Input with Units"
   ]
  },
  {
   "cell_type": "code",
   "execution_count": 2,
   "metadata": {
    "extensions": {
     "jupyter_dashboards": {
      "version": 1,
      "views": {
       "grid_default": {
        "col": 4,
        "height": 4,
        "hidden": false,
        "row": 0,
        "width": 4
       },
       "report_default": {}
      }
     }
    }
   },
   "outputs": [
    {
     "data": {
      "application/vnd.jupyter.widget-view+json": {
       "model_id": "52afe99d250a4f50b6a7330bfa95a01f",
       "version_major": 2,
       "version_minor": 0
      },
      "text/html": [
       "<p>Failed to display Jupyter Widget of type <code>Number</code>.</p>\n",
       "<p>\n",
       "  If you're reading this message in the Jupyter Notebook or JupyterLab Notebook, it may mean\n",
       "  that the widgets JavaScript is still loading. If this message persists, it\n",
       "  likely means that the widgets JavaScript library is either not installed or\n",
       "  not enabled. See the <a href=\"https://ipywidgets.readthedocs.io/en/stable/user_install.html\">Jupyter\n",
       "  Widgets Documentation</a> for setup instructions.\n",
       "</p>\n",
       "<p>\n",
       "  If you're reading this message in another frontend (for example, a static\n",
       "  rendering on GitHub or <a href=\"https://nbviewer.jupyter.org/\">NBViewer</a>),\n",
       "  it may mean that your frontend doesn't currently support widgets.\n",
       "</p>\n"
      ],
      "text/plain": [
       "Number(children=(HTML(value=u'<div data-toggle=\"popover\" title=\"Longitudinal Young\\'s Modulus\\nValues must be in units of gigapascal.\\nMin: 0.0\\tMax: 500.0\\n\" data-container=\"body\">E1</div>', layout=Layout(flex=u'2 1 auto')), BoundedFloatText(value=138.0, layout=Layout(width=u'auto'), max=500.0), HTMLMath(value=u'$\\\\mathrm{GPa}$', layout=Layout(min_width=u'6ch'))), layout=Layout(border=u'solid 1px lightgray', display=u'flex', flex_flow=u'row', justify_content=u'space-between', padding=u'5px', width=u'auto'))"
      ]
     },
     "metadata": {},
     "output_type": "display_data"
    }
   ],
   "source": [
    "e1 = ui.Number(\n",
    "        name='E1',\n",
    "        description=\"Longitudinal Young's Modulus\",\n",
    "        units='GPa',\n",
    "        min=0,\n",
    "        max=500,\n",
    "        value=138\n",
    ")\n",
    "e1"
   ]
  },
  {
   "cell_type": "code",
   "execution_count": 3,
   "metadata": {
    "extensions": {
     "jupyter_dashboards": {
      "version": 1,
      "views": {
       "grid_default": {
        "hidden": true
       },
       "report_default": {}
      }
     }
    }
   },
   "outputs": [],
   "source": [
    "def my_cb(x, y):\n",
    "    print(\"CB:\", x == e1)\n",
    "    print(\"New:\", y)\n",
    "def my_cb2(x, y):\n",
    "    print(\"CB2:\", x == e1)\n",
    "    print(\"New:\", y)"
   ]
  },
  {
   "cell_type": "markdown",
   "metadata": {
    "extensions": {
     "jupyter_dashboards": {
      "version": 1,
      "views": {
       "grid_default": {
        "col": 8,
        "height": 4,
        "hidden": false,
        "row": 0,
        "width": 4
       },
       "report_default": {}
      }
     }
    }
   },
   "source": [
    "You can control the width. But it is generally better to use Layout."
   ]
  },
  {
   "cell_type": "code",
   "execution_count": 4,
   "metadata": {
    "extensions": {
     "jupyter_dashboards": {
      "version": 1,
      "views": {
       "grid_default": {
        "col": 0,
        "height": 4,
        "hidden": false,
        "row": 4,
        "width": 4
       },
       "report_default": {}
      }
     }
    }
   },
   "outputs": [
    {
     "data": {
      "application/vnd.jupyter.widget-view+json": {
       "model_id": "91fe526530eb4d929e957defd4409f5f",
       "version_major": 2,
       "version_minor": 0
      },
      "text/html": [
       "<p>Failed to display Jupyter Widget of type <code>Number</code>.</p>\n",
       "<p>\n",
       "  If you're reading this message in the Jupyter Notebook or JupyterLab Notebook, it may mean\n",
       "  that the widgets JavaScript is still loading. If this message persists, it\n",
       "  likely means that the widgets JavaScript library is either not installed or\n",
       "  not enabled. See the <a href=\"https://ipywidgets.readthedocs.io/en/stable/user_install.html\">Jupyter\n",
       "  Widgets Documentation</a> for setup instructions.\n",
       "</p>\n",
       "<p>\n",
       "  If you're reading this message in another frontend (for example, a static\n",
       "  rendering on GitHub or <a href=\"https://nbviewer.jupyter.org/\">NBViewer</a>),\n",
       "  it may mean that your frontend doesn't currently support widgets.\n",
       "</p>\n"
      ],
      "text/plain": [
       "Number(children=(HTML(value=u'<div data-toggle=\"popover\" title=\"Longitudinal Young\\'s Modulus\\nValues must be in units of gigapascal.\\nMin: 0.0\\tMax: 500.0\\n\" data-container=\"body\">E1</div>', layout=Layout(flex=u'2 1 auto')), BoundedFloatText(value=138.0, layout=Layout(width=u'auto'), max=500.0), HTMLMath(value=u'$\\\\mathrm{GPa}$', layout=Layout(min_width=u'6ch'))), layout=Layout(border=u'solid 1px lightgray', display=u'flex', flex_flow=u'row', justify_content=u'space-between', padding=u'5px', width=u'30%'))"
      ]
     },
     "metadata": {},
     "output_type": "display_data"
    }
   ],
   "source": [
    "e2 = ui.Number(\n",
    "        name='E1',\n",
    "        description=\"Longitudinal Young's Modulus\",\n",
    "        units='GPa',\n",
    "        min=0,\n",
    "        max=500,\n",
    "        value=138,\n",
    "        cb=my_cb,\n",
    "        width='30%'\n",
    "    )\n",
    "e2"
   ]
  },
  {
   "cell_type": "code",
   "execution_count": 5,
   "metadata": {
    "extensions": {
     "jupyter_dashboards": {
      "version": 1,
      "views": {
       "grid_default": {
        "col": 4,
        "height": 4,
        "hidden": false,
        "row": 4,
        "width": 4
       },
       "report_default": {}
      }
     }
    }
   },
   "outputs": [
    {
     "name": "stdout",
     "output_type": "stream",
     "text": [
      "('CB:', False)\n",
      "('New:', 170.0)\n"
     ]
    }
   ],
   "source": [
    "e2.value=170"
   ]
  },
  {
   "cell_type": "code",
   "execution_count": 6,
   "metadata": {
    "extensions": {
     "jupyter_dashboards": {
      "version": 1,
      "views": {
       "grid_default": {
        "col": 8,
        "height": 4,
        "hidden": false,
        "row": 4,
        "width": 4
       },
       "report_default": {}
      }
     }
    }
   },
   "outputs": [],
   "source": [
    "e2.min = 150"
   ]
  },
  {
   "cell_type": "code",
   "execution_count": 7,
   "metadata": {
    "extensions": {
     "jupyter_dashboards": {
      "version": 1,
      "views": {
       "grid_default": {
        "hidden": true
       },
       "report_default": {}
      }
     }
    }
   },
   "outputs": [],
   "source": [
    "e2.cb  = my_cb2"
   ]
  },
  {
   "cell_type": "markdown",
   "metadata": {
    "extensions": {
     "jupyter_dashboards": {
      "version": 1,
      "views": {
       "grid_default": {
        "col": 0,
        "height": 4,
        "hidden": false,
        "row": 8,
        "width": 4
       },
       "report_default": {}
      }
     }
    }
   },
   "source": [
    "## Integer Input\n",
    "Integer inputs do not have units"
   ]
  },
  {
   "cell_type": "code",
   "execution_count": 8,
   "metadata": {
    "extensions": {
     "jupyter_dashboards": {
      "version": 1,
      "views": {
       "grid_default": {
        "col": 4,
        "height": 4,
        "hidden": false,
        "row": 8,
        "width": 4
       },
       "report_default": {}
      }
     }
    }
   },
   "outputs": [
    {
     "data": {
      "application/vnd.jupyter.widget-view+json": {
       "model_id": "d6cf30c151a7423ab300a652c8fcbcd8",
       "version_major": 2,
       "version_minor": 0
      },
      "text/html": [
       "<p>Failed to display Jupyter Widget of type <code>Integer</code>.</p>\n",
       "<p>\n",
       "  If you're reading this message in the Jupyter Notebook or JupyterLab Notebook, it may mean\n",
       "  that the widgets JavaScript is still loading. If this message persists, it\n",
       "  likely means that the widgets JavaScript library is either not installed or\n",
       "  not enabled. See the <a href=\"https://ipywidgets.readthedocs.io/en/stable/user_install.html\">Jupyter\n",
       "  Widgets Documentation</a> for setup instructions.\n",
       "</p>\n",
       "<p>\n",
       "  If you're reading this message in another frontend (for example, a static\n",
       "  rendering on GitHub or <a href=\"https://nbviewer.jupyter.org/\">NBViewer</a>),\n",
       "  it may mean that your frontend doesn't currently support widgets.\n",
       "</p>\n"
      ],
      "text/plain": [
       "Integer(children=(HTML(value=u'<div data-toggle=\"popover\" title=\"Number of Loops to Run\\nMin: 0\\tMax: 500\\n\" data-container=\"body\">Loops</div>', layout=Layout(flex=u'2 1 auto')), BoundedIntText(value=1, layout=Layout(width=u'auto'), max=500), HTMLMath(value=u'', layout=Layout(min_width=u'6ch'))), layout=Layout(border=u'solid 1px lightgray', display=u'flex', flex_flow=u'row', justify_content=u'space-between', padding=u'5px', width=u'auto'))"
      ]
     },
     "metadata": {},
     "output_type": "display_data"
    }
   ],
   "source": [
    "e2 = ui.Integer(\n",
    "        name='Loops',\n",
    "        desc=\"Number of Loops to Run\",\n",
    "        min=0,\n",
    "        max=500,\n",
    "        value=1\n",
    "    )\n",
    "e2"
   ]
  },
  {
   "cell_type": "markdown",
   "metadata": {
    "extensions": {
     "jupyter_dashboards": {
      "version": 1,
      "views": {
       "grid_default": {
        "col": 8,
        "height": 4,
        "hidden": false,
        "row": 8,
        "width": 4
       },
       "report_default": {}
      }
     }
    }
   },
   "source": [
    "## Checkbutton"
   ]
  },
  {
   "cell_type": "code",
   "execution_count": 9,
   "metadata": {
    "extensions": {
     "jupyter_dashboards": {
      "version": 1,
      "views": {
       "grid_default": {
        "col": 0,
        "height": 4,
        "hidden": false,
        "row": 12,
        "width": 4
       },
       "report_default": {}
      }
     }
    }
   },
   "outputs": [
    {
     "data": {
      "application/vnd.jupyter.widget-view+json": {
       "model_id": "b5ccf88b810143c6879ef764e9ea95be",
       "version_major": 2,
       "version_minor": 0
      },
      "text/html": [
       "<p>Failed to display Jupyter Widget of type <code>Checkbox</code>.</p>\n",
       "<p>\n",
       "  If you're reading this message in the Jupyter Notebook or JupyterLab Notebook, it may mean\n",
       "  that the widgets JavaScript is still loading. If this message persists, it\n",
       "  likely means that the widgets JavaScript library is either not installed or\n",
       "  not enabled. See the <a href=\"https://ipywidgets.readthedocs.io/en/stable/user_install.html\">Jupyter\n",
       "  Widgets Documentation</a> for setup instructions.\n",
       "</p>\n",
       "<p>\n",
       "  If you're reading this message in another frontend (for example, a static\n",
       "  rendering on GitHub or <a href=\"https://nbviewer.jupyter.org/\">NBViewer</a>),\n",
       "  it may mean that your frontend doesn't currently support widgets.\n",
       "</p>\n"
      ],
      "text/plain": [
       "Checkbox(children=(HTML(value=u'<div data-toggle=\"popover\" title=\"Show the Advanced Options\" data-container=\"body\">Advanced Options</div>', layout=Layout(flex=u'2 1 auto')), Checkbox(value=False, layout=Layout(width=u'initial'))), layout=Layout(border=u'solid 1px lightgray', display=u'flex', flex_flow=u'row', justify_content=u'space-between', padding=u'3px', width=u'auto'))"
      ]
     },
     "metadata": {},
     "output_type": "display_data"
    }
   ],
   "source": [
    "check = ui.Checkbox('Advanced Options', desc='Show the Advanced Options', value=False)\n",
    "check"
   ]
  },
  {
   "cell_type": "code",
   "execution_count": 10,
   "metadata": {
    "extensions": {
     "jupyter_dashboards": {
      "version": 1,
      "views": {
       "grid_default": {
        "col": 4,
        "height": 4,
        "hidden": false,
        "row": 12,
        "width": 4
       },
       "report_default": {}
      }
     }
    }
   },
   "outputs": [
    {
     "data": {
      "text/plain": [
       "False"
      ]
     },
     "execution_count": 10,
     "metadata": {},
     "output_type": "execute_result"
    }
   ],
   "source": [
    "check.value"
   ]
  },
  {
   "cell_type": "markdown",
   "metadata": {
    "extensions": {
     "jupyter_dashboards": {
      "version": 1,
      "views": {
       "grid_default": {
        "col": 8,
        "height": 4,
        "hidden": false,
        "row": 12,
        "width": 4
       },
       "report_default": {}
      }
     }
    }
   },
   "source": [
    "## Radiobutton"
   ]
  },
  {
   "cell_type": "code",
   "execution_count": 11,
   "metadata": {
    "extensions": {
     "jupyter_dashboards": {
      "version": 1,
      "views": {
       "grid_default": {
        "col": 0,
        "height": 6,
        "hidden": false,
        "row": 16,
        "width": 4
       },
       "report_default": {}
      }
     }
    }
   },
   "outputs": [
    {
     "data": {
      "application/vnd.jupyter.widget-view+json": {
       "model_id": "650f7495e29942b7b9370d5db4f8d9bb",
       "version_major": 2,
       "version_minor": 0
      },
      "text/html": [
       "<p>Failed to display Jupyter Widget of type <code>Radiobuttons</code>.</p>\n",
       "<p>\n",
       "  If you're reading this message in the Jupyter Notebook or JupyterLab Notebook, it may mean\n",
       "  that the widgets JavaScript is still loading. If this message persists, it\n",
       "  likely means that the widgets JavaScript library is either not installed or\n",
       "  not enabled. See the <a href=\"https://ipywidgets.readthedocs.io/en/stable/user_install.html\">Jupyter\n",
       "  Widgets Documentation</a> for setup instructions.\n",
       "</p>\n",
       "<p>\n",
       "  If you're reading this message in another frontend (for example, a static\n",
       "  rendering on GitHub or <a href=\"https://nbviewer.jupyter.org/\">NBViewer</a>),\n",
       "  it may mean that your frontend doesn't currently support widgets.\n",
       "</p>\n"
      ],
      "text/plain": [
       "Radiobuttons(children=(HTML(value=u'<div data-toggle=\"popover\" title=\"Type of nut to eat.\" data-container=\"body\">Nut</div>', layout=Layout(flex=u'2 1 auto')), RadioButtons(index=2, layout=Layout(width=u'initial'), options=('peanut', 'walnut', 'almond', 'pecan'), value='almond')), layout=Layout(border=u'solid 1px lightgray', display=u'flex', flex_flow=u'row', justify_content=u'space-between', padding=u'3px', width=u'auto'))"
      ]
     },
     "metadata": {},
     "output_type": "display_data"
    }
   ],
   "source": [
    "r = ui.Radiobuttons(\n",
    "            name='Nut',\n",
    "            description=\"Type of nut to eat.\",\n",
    "            value='almond',\n",
    "            options=['peanut', 'walnut', 'almond', 'pecan']\n",
    ")\n",
    "r"
   ]
  },
  {
   "cell_type": "markdown",
   "metadata": {
    "extensions": {
     "jupyter_dashboards": {
      "version": 1,
      "views": {
       "grid_default": {
        "col": 4,
        "height": 4,
        "hidden": false,
        "row": 16,
        "width": 4
       },
       "report_default": {}
      }
     }
    }
   },
   "source": [
    "## Togglebutton"
   ]
  },
  {
   "cell_type": "code",
   "execution_count": 12,
   "metadata": {
    "extensions": {
     "jupyter_dashboards": {
      "version": 1,
      "views": {
       "grid_default": {
        "col": 8,
        "height": 5,
        "hidden": false,
        "row": 16,
        "width": 4
       },
       "report_default": {}
      }
     }
    }
   },
   "outputs": [
    {
     "data": {
      "application/vnd.jupyter.widget-view+json": {
       "model_id": "7df41ea94bbc4c98930535619cb4edc5",
       "version_major": 2,
       "version_minor": 0
      },
      "text/html": [
       "<p>Failed to display Jupyter Widget of type <code>Togglebuttons</code>.</p>\n",
       "<p>\n",
       "  If you're reading this message in the Jupyter Notebook or JupyterLab Notebook, it may mean\n",
       "  that the widgets JavaScript is still loading. If this message persists, it\n",
       "  likely means that the widgets JavaScript library is either not installed or\n",
       "  not enabled. See the <a href=\"https://ipywidgets.readthedocs.io/en/stable/user_install.html\">Jupyter\n",
       "  Widgets Documentation</a> for setup instructions.\n",
       "</p>\n",
       "<p>\n",
       "  If you're reading this message in another frontend (for example, a static\n",
       "  rendering on GitHub or <a href=\"https://nbviewer.jupyter.org/\">NBViewer</a>),\n",
       "  it may mean that your frontend doesn't currently support widgets.\n",
       "</p>\n"
      ],
      "text/plain": [
       "Togglebuttons(children=(HTML(value=u'<div data-toggle=\"popover\" title=\"Type of nut to eat.\" data-container=\"body\">Nut</div>', layout=Layout(flex=u'2 1 auto')), ToggleButtons(index=2, layout=Layout(width=u'initial'), options=('peanut', 'walnut', 'almond', 'pecan'), style=ToggleButtonsStyle(button_width=u'initial'), value='almond')), layout=Layout(border=u'solid 1px lightgray', display=u'flex', flex_flow=u'row', justify_content=u'space-between', padding=u'3px', width=u'auto'))"
      ]
     },
     "metadata": {},
     "output_type": "display_data"
    }
   ],
   "source": [
    "tb = ui.Togglebuttons(\n",
    "            name='Nut',\n",
    "            description=\"Type of nut to eat.\",\n",
    "            value='almond',\n",
    "            options=['peanut', 'walnut', 'almond', 'pecan'],\n",
    "        )\n",
    "tb"
   ]
  },
  {
   "cell_type": "code",
   "execution_count": 13,
   "metadata": {
    "extensions": {
     "jupyter_dashboards": {
      "version": 1,
      "views": {
       "grid_default": {
        "col": 4,
        "height": 4,
        "hidden": false,
        "row": 20,
        "width": 4
       },
       "report_default": {}
      }
     }
    }
   },
   "outputs": [
    {
     "data": {
      "application/vnd.jupyter.widget-view+json": {
       "model_id": "44565c3029b647129bd156af0b25b8d9",
       "version_major": 2,
       "version_minor": 0
      },
      "text/html": [
       "<p>Failed to display Jupyter Widget of type <code>Dropdown</code>.</p>\n",
       "<p>\n",
       "  If you're reading this message in the Jupyter Notebook or JupyterLab Notebook, it may mean\n",
       "  that the widgets JavaScript is still loading. If this message persists, it\n",
       "  likely means that the widgets JavaScript library is either not installed or\n",
       "  not enabled. See the <a href=\"https://ipywidgets.readthedocs.io/en/stable/user_install.html\">Jupyter\n",
       "  Widgets Documentation</a> for setup instructions.\n",
       "</p>\n",
       "<p>\n",
       "  If you're reading this message in another frontend (for example, a static\n",
       "  rendering on GitHub or <a href=\"https://nbviewer.jupyter.org/\">NBViewer</a>),\n",
       "  it may mean that your frontend doesn't currently support widgets.\n",
       "</p>\n"
      ],
      "text/plain": [
       "Dropdown(children=(HTML(value=u'<div data-toggle=\"popover\" title=\"Type of nut to eat.\" data-container=\"body\">Nut</div>', layout=Layout(flex=u'2 1 auto')), Dropdown(index=2, layout=Layout(min_width=u'10ch', width=u'auto'), options=('peanut', 'walnut', 'almond', 'pecan'), value='almond')), layout=Layout(border=u'solid 1px lightgray', display=u'flex', flex_flow=u'row', justify_content=u'space-between', padding=u'3px', width=u'auto'))"
      ]
     },
     "metadata": {},
     "output_type": "display_data"
    }
   ],
   "source": [
    "dd = ui.Dropdown(\n",
    "            name='Nut',\n",
    "            description=\"Type of nut to eat.\",\n",
    "            value='almond',\n",
    "            options=['peanut', 'walnut', 'almond', 'pecan']\n",
    ")\n",
    "dd"
   ]
  },
  {
   "cell_type": "code",
   "execution_count": 14,
   "metadata": {
    "extensions": {
     "jupyter_dashboards": {
      "version": 1,
      "views": {
       "grid_default": {
        "col": 8,
        "height": 4,
        "hidden": false,
        "row": 21,
        "width": 4
       },
       "report_default": {}
      }
     }
    }
   },
   "outputs": [
    {
     "data": {
      "application/vnd.jupyter.widget-view+json": {
       "model_id": "ea518756754c46db935ce18c6ecec099",
       "version_major": 2,
       "version_minor": 0
      },
      "text/html": [
       "<p>Failed to display Jupyter Widget of type <code>String</code>.</p>\n",
       "<p>\n",
       "  If you're reading this message in the Jupyter Notebook or JupyterLab Notebook, it may mean\n",
       "  that the widgets JavaScript is still loading. If this message persists, it\n",
       "  likely means that the widgets JavaScript library is either not installed or\n",
       "  not enabled. See the <a href=\"https://ipywidgets.readthedocs.io/en/stable/user_install.html\">Jupyter\n",
       "  Widgets Documentation</a> for setup instructions.\n",
       "</p>\n",
       "<p>\n",
       "  If you're reading this message in another frontend (for example, a static\n",
       "  rendering on GitHub or <a href=\"https://nbviewer.jupyter.org/\">NBViewer</a>),\n",
       "  it may mean that your frontend doesn't currently support widgets.\n",
       "</p>\n"
      ],
      "text/plain": [
       "String(children=(HTML(value=u'<div data-toggle=\"popover\" title=\"Name (First and Last)\" data-container=\"body\">Name</div>', layout=Layout(flex=u'2 1 auto')), Text(value=u'<name>', layout=Layout(width=u'initial'))), layout=Layout(border=u'solid 1px lightgray', display=u'flex', flex_flow=u'row', justify_content=u'space-between', padding=u'3px', width=u'auto'))"
      ]
     },
     "metadata": {},
     "output_type": "display_data"
    }
   ],
   "source": [
    "xstr = ui.String(name=\"Name\", description='Name (First and Last)', value='<name>')\n",
    "xstr"
   ]
  },
  {
   "cell_type": "code",
   "execution_count": 15,
   "metadata": {
    "extensions": {
     "jupyter_dashboards": {
      "version": 1,
      "views": {
       "grid_default": {
        "col": 0,
        "height": 4,
        "hidden": false,
        "row": 22,
        "width": 4
       },
       "report_default": {}
      }
     }
    }
   },
   "outputs": [
    {
     "data": {
      "application/vnd.jupyter.widget-view+json": {
       "model_id": "83021b677a934f91a1ce7231151aeaf7",
       "version_major": 2,
       "version_minor": 0
      },
      "text/html": [
       "<p>Failed to display Jupyter Widget of type <code>Text</code>.</p>\n",
       "<p>\n",
       "  If you're reading this message in the Jupyter Notebook or JupyterLab Notebook, it may mean\n",
       "  that the widgets JavaScript is still loading. If this message persists, it\n",
       "  likely means that the widgets JavaScript library is either not installed or\n",
       "  not enabled. See the <a href=\"https://ipywidgets.readthedocs.io/en/stable/user_install.html\">Jupyter\n",
       "  Widgets Documentation</a> for setup instructions.\n",
       "</p>\n",
       "<p>\n",
       "  If you're reading this message in another frontend (for example, a static\n",
       "  rendering on GitHub or <a href=\"https://nbviewer.jupyter.org/\">NBViewer</a>),\n",
       "  it may mean that your frontend doesn't currently support widgets.\n",
       "</p>\n"
      ],
      "text/plain": [
       "Text(children=(HTML(value=u'<div data-toggle=\"popover\" title=\"Experiment Description\" data-container=\"body\">Description</div>', layout=Layout(flex=u'2 1 auto')), Textarea(value=u'', layout=Layout(width=u'initial'))), layout=Layout(border=u'solid 1px lightgray', display=u'flex', flex_flow=u'row', justify_content=u'space-between', padding=u'3px', width=u'auto'))"
      ]
     },
     "metadata": {},
     "output_type": "display_data"
    }
   ],
   "source": [
    "# FIXME. Width\n",
    "\n",
    "xtxt = ui.Text(name=\"Description\", description='Experiment Description', value='')\n",
    "xtxt"
   ]
  },
  {
   "cell_type": "markdown",
   "metadata": {
    "extensions": {
     "jupyter_dashboards": {
      "version": 1,
      "views": {
       "grid_default": {
        "col": 4,
        "height": 4,
        "hidden": false,
        "row": 24,
        "width": 4
       },
       "report_default": {}
      }
     }
    }
   },
   "source": [
    "# Grouping\n",
    "Collections of UI elements can be collected in Tabs and Forms."
   ]
  },
  {
   "cell_type": "code",
   "execution_count": 16,
   "metadata": {
    "extensions": {
     "jupyter_dashboards": {
      "version": 1,
      "views": {
       "grid_default": {
        "col": 8,
        "height": 4,
        "hidden": false,
        "row": 25,
        "width": 4
       },
       "report_default": {}
      }
     }
    }
   },
   "outputs": [
    {
     "data": {
      "application/vnd.jupyter.widget-view+json": {
       "model_id": "1641241f14194146a24d29da11a2f891",
       "version_major": 2,
       "version_minor": 0
      },
      "text/html": [
       "<p>Failed to display Jupyter Widget of type <code>Tab</code>.</p>\n",
       "<p>\n",
       "  If you're reading this message in the Jupyter Notebook or JupyterLab Notebook, it may mean\n",
       "  that the widgets JavaScript is still loading. If this message persists, it\n",
       "  likely means that the widgets JavaScript library is either not installed or\n",
       "  not enabled. See the <a href=\"https://ipywidgets.readthedocs.io/en/stable/user_install.html\">Jupyter\n",
       "  Widgets Documentation</a> for setup instructions.\n",
       "</p>\n",
       "<p>\n",
       "  If you're reading this message in another frontend (for example, a static\n",
       "  rendering on GitHub or <a href=\"https://nbviewer.jupyter.org/\">NBViewer</a>),\n",
       "  it may mean that your frontend doesn't currently support widgets.\n",
       "</p>\n"
      ],
      "text/plain": [
       "Tab(children=(Number(children=(HTML(value=u'<div data-toggle=\"popover\" title=\"Longitudinal Young\\'s Modulus\\nValues must be in units of gigapascal.\\nMin: 0.0\\tMax: 500.0\\n\" data-container=\"body\">E1</div>', layout=Layout(flex=u'2 1 auto')), BoundedFloatText(value=138.0, layout=Layout(width=u'auto'), max=500.0), HTMLMath(value=u'$\\\\mathrm{GPa}$', layout=Layout(min_width=u'6ch'))), layout=Layout(border=u'solid 1px lightgray', display=u'flex', flex_flow=u'row', justify_content=u'space-between', padding=u'5px', width=u'auto')), Togglebuttons(children=(HTML(value=u'<div data-toggle=\"popover\" title=\"Type of nut to eat.\" data-container=\"body\">Nut</div>', layout=Layout(flex=u'2 1 auto')), ToggleButtons(index=2, layout=Layout(width=u'initial'), options=('peanut', 'walnut', 'almond', 'pecan'), style=ToggleButtonsStyle(button_width=u'initial'), value='almond')), layout=Layout(border=u'solid 1px lightgray', display=u'flex', flex_flow=u'row', justify_content=u'space-between', padding=u'3px', width=u'auto')), String(children=(HTML(value=u'<div data-toggle=\"popover\" title=\"Name (First and Last)\" data-container=\"body\">Name</div>', layout=Layout(flex=u'2 1 auto')), Text(value=u'<name>', layout=Layout(width=u'initial'))), layout=Layout(border=u'solid 1px lightgray', display=u'flex', flex_flow=u'row', justify_content=u'space-between', padding=u'3px', width=u'auto'))), _titles={0: 'E1', 1: 'Nut', 2: 'Name'})"
      ]
     },
     "metadata": {},
     "output_type": "display_data"
    }
   ],
   "source": [
    "ui.Tab([e1,tb,xstr])"
   ]
  },
  {
   "cell_type": "code",
   "execution_count": 17,
   "metadata": {
    "extensions": {
     "jupyter_dashboards": {
      "version": 1,
      "views": {
       "grid_default": {
        "col": 0,
        "height": 7,
        "hidden": false,
        "row": 26,
        "width": 4
       },
       "report_default": {}
      }
     }
    }
   },
   "outputs": [
    {
     "data": {
      "application/vnd.jupyter.widget-view+json": {
       "model_id": "69491973a66c4d5bb5e2365d4acc1f07",
       "version_major": 2,
       "version_minor": 0
      },
      "text/html": [
       "<p>Failed to display Jupyter Widget of type <code>Group</code>.</p>\n",
       "<p>\n",
       "  If you're reading this message in the Jupyter Notebook or JupyterLab Notebook, it may mean\n",
       "  that the widgets JavaScript is still loading. If this message persists, it\n",
       "  likely means that the widgets JavaScript library is either not installed or\n",
       "  not enabled. See the <a href=\"https://ipywidgets.readthedocs.io/en/stable/user_install.html\">Jupyter\n",
       "  Widgets Documentation</a> for setup instructions.\n",
       "</p>\n",
       "<p>\n",
       "  If you're reading this message in another frontend (for example, a static\n",
       "  rendering on GitHub or <a href=\"https://nbviewer.jupyter.org/\">NBViewer</a>),\n",
       "  it may mean that your frontend doesn't currently support widgets.\n",
       "</p>\n"
      ],
      "text/plain": [
       "Group(children=(Number(children=(HTML(value=u'<div data-toggle=\"popover\" title=\"Longitudinal Young\\'s Modulus\\nValues must be in units of gigapascal.\\nMin: 0.0\\tMax: 500.0\\n\" data-container=\"body\">E1</div>', layout=Layout(flex=u'2 1 auto')), BoundedFloatText(value=138.0, layout=Layout(width=u'auto'), max=500.0), HTMLMath(value=u'$\\\\mathrm{GPa}$', layout=Layout(min_width=u'6ch'))), layout=Layout(border=u'solid 1px lightgray', display=u'flex', flex_flow=u'row', justify_content=u'space-between', padding=u'5px', width=u'auto')), Togglebuttons(children=(HTML(value=u'<div data-toggle=\"popover\" title=\"Type of nut to eat.\" data-container=\"body\">Nut</div>', layout=Layout(flex=u'2 1 auto')), ToggleButtons(index=2, layout=Layout(width=u'initial'), options=('peanut', 'walnut', 'almond', 'pecan'), style=ToggleButtonsStyle(button_width=u'initial'), value='almond')), layout=Layout(border=u'solid 1px lightgray', display=u'flex', flex_flow=u'row', justify_content=u'space-between', padding=u'3px', width=u'auto')), String(children=(HTML(value=u'<div data-toggle=\"popover\" title=\"Name (First and Last)\" data-container=\"body\">Name</div>', layout=Layout(flex=u'2 1 auto')), Text(value=u'<name>', layout=Layout(width=u'initial'))), layout=Layout(border=u'solid 1px lightgray', display=u'flex', flex_flow=u'row', justify_content=u'space-between', padding=u'3px', width=u'auto'))), layout=Layout(align_items=u'stretch', display=u'flex', flex_flow=u'column', width=u'auto'))"
      ]
     },
     "metadata": {},
     "output_type": "display_data"
    }
   ],
   "source": [
    "ui.Form([e1,tb,xstr])"
   ]
  },
  {
   "cell_type": "code",
   "execution_count": 18,
   "metadata": {
    "extensions": {
     "jupyter_dashboards": {
      "version": 1,
      "views": {
       "grid_default": {
        "col": 4,
        "height": 9,
        "hidden": false,
        "row": 28,
        "width": 4
       },
       "report_default": {}
      }
     }
    }
   },
   "outputs": [
    {
     "data": {
      "application/vnd.jupyter.widget-view+json": {
       "model_id": "bb79d501ed4144208dc67771d8526d64",
       "version_major": 2,
       "version_minor": 0
      },
      "text/html": [
       "<p>Failed to display Jupyter Widget of type <code>Group</code>.</p>\n",
       "<p>\n",
       "  If you're reading this message in the Jupyter Notebook or JupyterLab Notebook, it may mean\n",
       "  that the widgets JavaScript is still loading. If this message persists, it\n",
       "  likely means that the widgets JavaScript library is either not installed or\n",
       "  not enabled. See the <a href=\"https://ipywidgets.readthedocs.io/en/stable/user_install.html\">Jupyter\n",
       "  Widgets Documentation</a> for setup instructions.\n",
       "</p>\n",
       "<p>\n",
       "  If you're reading this message in another frontend (for example, a static\n",
       "  rendering on GitHub or <a href=\"https://nbviewer.jupyter.org/\">NBViewer</a>),\n",
       "  it may mean that your frontend doesn't currently support widgets.\n",
       "</p>\n"
      ],
      "text/plain": [
       "Group(children=(HTML(value=u\"<p   style='background-color: #DCDCDC; font-size: 150%; padding: 5px'>My Parameters</p>\", layout=Layout(flex=u'2 1 auto')), Number(children=(HTML(value=u'<div data-toggle=\"popover\" title=\"Longitudinal Young\\'s Modulus\\nValues must be in units of gigapascal.\\nMin: 0.0\\tMax: 500.0\\n\" data-container=\"body\">E1</div>', layout=Layout(flex=u'2 1 auto')), BoundedFloatText(value=138.0, layout=Layout(width=u'auto'), max=500.0), HTMLMath(value=u'$\\\\mathrm{GPa}$', layout=Layout(min_width=u'6ch'))), layout=Layout(border=u'solid 1px lightgray', display=u'flex', flex_flow=u'row', justify_content=u'space-between', padding=u'5px', width=u'auto')), Togglebuttons(children=(HTML(value=u'<div data-toggle=\"popover\" title=\"Type of nut to eat.\" data-container=\"body\">Nut</div>', layout=Layout(flex=u'2 1 auto')), ToggleButtons(index=2, layout=Layout(width=u'initial'), options=('peanut', 'walnut', 'almond', 'pecan'), style=ToggleButtonsStyle(button_width=u'initial'), value='almond')), layout=Layout(border=u'solid 1px lightgray', display=u'flex', flex_flow=u'row', justify_content=u'space-between', padding=u'3px', width=u'auto')), String(children=(HTML(value=u'<div data-toggle=\"popover\" title=\"Name (First and Last)\" data-container=\"body\">Name</div>', layout=Layout(flex=u'2 1 auto')), Text(value=u'<name>', layout=Layout(width=u'initial'))), layout=Layout(border=u'solid 1px lightgray', display=u'flex', flex_flow=u'row', justify_content=u'space-between', padding=u'3px', width=u'auto'))), layout=Layout(align_items=u'stretch', display=u'flex', flex_flow=u'column', width=u'auto'))"
      ]
     },
     "metadata": {},
     "output_type": "display_data"
    }
   ],
   "source": [
    "f1 = ui.Form([e1,tb,xstr], name='My Parameters')\n",
    "f1"
   ]
  },
  {
   "cell_type": "code",
   "execution_count": 19,
   "metadata": {
    "extensions": {
     "jupyter_dashboards": {
      "version": 1,
      "views": {
       "grid_default": {
        "col": 8,
        "height": 6,
        "hidden": false,
        "row": 29,
        "width": 4
       },
       "report_default": {}
      }
     }
    }
   },
   "outputs": [
    {
     "data": {
      "application/vnd.jupyter.widget-view+json": {
       "model_id": "a068972e7f804e688514a849eb81ce8a",
       "version_major": 2,
       "version_minor": 0
      },
      "text/html": [
       "<p>Failed to display Jupyter Widget of type <code>Group</code>.</p>\n",
       "<p>\n",
       "  If you're reading this message in the Jupyter Notebook or JupyterLab Notebook, it may mean\n",
       "  that the widgets JavaScript is still loading. If this message persists, it\n",
       "  likely means that the widgets JavaScript library is either not installed or\n",
       "  not enabled. See the <a href=\"https://ipywidgets.readthedocs.io/en/stable/user_install.html\">Jupyter\n",
       "  Widgets Documentation</a> for setup instructions.\n",
       "</p>\n",
       "<p>\n",
       "  If you're reading this message in another frontend (for example, a static\n",
       "  rendering on GitHub or <a href=\"https://nbviewer.jupyter.org/\">NBViewer</a>),\n",
       "  it may mean that your frontend doesn't currently support widgets.\n",
       "</p>\n"
      ],
      "text/plain": [
       "Group(children=(HTML(value=u\"<p   style='background-color: #DCDCDC; font-size: 150%; padding: 5px'>More Parameters</p>\", layout=Layout(flex=u'2 1 auto')), Checkbox(children=(HTML(value=u'<div data-toggle=\"popover\" title=\"Show the Advanced Options\" data-container=\"body\">Advanced Options</div>', layout=Layout(flex=u'2 1 auto')), Checkbox(value=False, layout=Layout(width=u'initial'))), layout=Layout(border=u'solid 1px lightgray', display=u'flex', flex_flow=u'row', justify_content=u'space-between', padding=u'3px', width=u'auto')), Dropdown(children=(HTML(value=u'<div data-toggle=\"popover\" title=\"Type of nut to eat.\" data-container=\"body\">Nut</div>', layout=Layout(flex=u'2 1 auto')), Dropdown(index=2, layout=Layout(min_width=u'10ch', width=u'auto'), options=('peanut', 'walnut', 'almond', 'pecan'), value='almond')), layout=Layout(border=u'solid 1px lightgray', display=u'flex', flex_flow=u'row', justify_content=u'space-between', padding=u'3px', width=u'auto')), Text(children=(HTML(value=u'<div data-toggle=\"popover\" title=\"Experiment Description\" data-container=\"body\">Description</div>', layout=Layout(flex=u'2 1 auto')), Textarea(value=u'', layout=Layout(width=u'initial'))), layout=Layout(border=u'solid 1px lightgray', display=u'flex', flex_flow=u'row', justify_content=u'space-between', padding=u'3px', width=u'auto'))), layout=Layout(align_items=u'stretch', display=u'flex', flex_flow=u'column', width=u'50%'))"
      ]
     },
     "metadata": {},
     "output_type": "display_data"
    }
   ],
   "source": [
    "f2 = ui.Form([check, dd, xtxt], name='More Parameters', width='50%')\n",
    "f2"
   ]
  },
  {
   "cell_type": "code",
   "execution_count": 20,
   "metadata": {
    "extensions": {
     "jupyter_dashboards": {
      "version": 1,
      "views": {
       "grid_default": {
        "col": 0,
        "height": 11,
        "hidden": false,
        "row": 33,
        "width": 4
       },
       "report_default": {}
      }
     }
    }
   },
   "outputs": [
    {
     "data": {
      "application/vnd.jupyter.widget-view+json": {
       "model_id": "cef82018cd3642f0ac26a8bd9e3d6f21",
       "version_major": 2,
       "version_minor": 0
      },
      "text/html": [
       "<p>Failed to display Jupyter Widget of type <code>Tab</code>.</p>\n",
       "<p>\n",
       "  If you're reading this message in the Jupyter Notebook or JupyterLab Notebook, it may mean\n",
       "  that the widgets JavaScript is still loading. If this message persists, it\n",
       "  likely means that the widgets JavaScript library is either not installed or\n",
       "  not enabled. See the <a href=\"https://ipywidgets.readthedocs.io/en/stable/user_install.html\">Jupyter\n",
       "  Widgets Documentation</a> for setup instructions.\n",
       "</p>\n",
       "<p>\n",
       "  If you're reading this message in another frontend (for example, a static\n",
       "  rendering on GitHub or <a href=\"https://nbviewer.jupyter.org/\">NBViewer</a>),\n",
       "  it may mean that your frontend doesn't currently support widgets.\n",
       "</p>\n"
      ],
      "text/plain": [
       "Tab(children=(Group(children=(HTML(value=u\"<p   style='background-color: #DCDCDC; font-size: 150%; padding: 5px'>My Parameters</p>\", layout=Layout(flex=u'2 1 auto')), Number(children=(HTML(value=u'<div data-toggle=\"popover\" title=\"Longitudinal Young\\'s Modulus\\nValues must be in units of gigapascal.\\nMin: 0.0\\tMax: 500.0\\n\" data-container=\"body\">E1</div>', layout=Layout(flex=u'2 1 auto')), BoundedFloatText(value=138.0, layout=Layout(width=u'auto'), max=500.0), HTMLMath(value=u'$\\\\mathrm{GPa}$', layout=Layout(min_width=u'6ch'))), layout=Layout(border=u'solid 1px lightgray', display=u'flex', flex_flow=u'row', justify_content=u'space-between', padding=u'5px', width=u'auto')), Togglebuttons(children=(HTML(value=u'<div data-toggle=\"popover\" title=\"Type of nut to eat.\" data-container=\"body\">Nut</div>', layout=Layout(flex=u'2 1 auto')), ToggleButtons(index=2, layout=Layout(width=u'initial'), options=('peanut', 'walnut', 'almond', 'pecan'), style=ToggleButtonsStyle(button_width=u'initial'), value='almond')), layout=Layout(border=u'solid 1px lightgray', display=u'flex', flex_flow=u'row', justify_content=u'space-between', padding=u'3px', width=u'auto')), String(children=(HTML(value=u'<div data-toggle=\"popover\" title=\"Name (First and Last)\" data-container=\"body\">Name</div>', layout=Layout(flex=u'2 1 auto')), Text(value=u'<name>', layout=Layout(width=u'initial'))), layout=Layout(border=u'solid 1px lightgray', display=u'flex', flex_flow=u'row', justify_content=u'space-between', padding=u'3px', width=u'auto'))), layout=Layout(align_items=u'stretch', display=u'flex', flex_flow=u'column', width=u'auto')), Group(children=(HTML(value=u\"<p   style='background-color: #DCDCDC; font-size: 150%; padding: 5px'>More Parameters</p>\", layout=Layout(flex=u'2 1 auto')), Checkbox(children=(HTML(value=u'<div data-toggle=\"popover\" title=\"Show the Advanced Options\" data-container=\"body\">Advanced Options</div>', layout=Layout(flex=u'2 1 auto')), Checkbox(value=False, layout=Layout(width=u'initial'))), layout=Layout(border=u'solid 1px lightgray', display=u'flex', flex_flow=u'row', justify_content=u'space-between', padding=u'3px', width=u'auto')), Dropdown(children=(HTML(value=u'<div data-toggle=\"popover\" title=\"Type of nut to eat.\" data-container=\"body\">Nut</div>', layout=Layout(flex=u'2 1 auto')), Dropdown(index=2, layout=Layout(min_width=u'10ch', width=u'auto'), options=('peanut', 'walnut', 'almond', 'pecan'), value='almond')), layout=Layout(border=u'solid 1px lightgray', display=u'flex', flex_flow=u'row', justify_content=u'space-between', padding=u'3px', width=u'auto')), Text(children=(HTML(value=u'<div data-toggle=\"popover\" title=\"Experiment Description\" data-container=\"body\">Description</div>', layout=Layout(flex=u'2 1 auto')), Textarea(value=u'', layout=Layout(width=u'initial'))), layout=Layout(border=u'solid 1px lightgray', display=u'flex', flex_flow=u'row', justify_content=u'space-between', padding=u'3px', width=u'auto'))), layout=Layout(align_items=u'stretch', display=u'flex', flex_flow=u'column', width=u'50%'))), _titles={0: 'My Parameters', 1: 'More Parameters'})"
      ]
     },
     "metadata": {},
     "output_type": "display_data"
    }
   ],
   "source": [
    "ui.Tab([f1,f2])\n",
    "\n",
    "# FIXME: What about a Form without a title?  Box?  Group? or Form(name='')"
   ]
  },
  {
   "cell_type": "code",
   "execution_count": 21,
   "metadata": {
    "extensions": {
     "jupyter_dashboards": {
      "version": 1,
      "views": {
       "grid_default": {
        "col": 8,
        "height": 14,
        "hidden": false,
        "row": 35,
        "width": 4
       },
       "report_default": {}
      }
     }
    }
   },
   "outputs": [
    {
     "data": {
      "application/vnd.jupyter.widget-view+json": {
       "model_id": "59c2fd67b9f44b69963a221ccf940b73",
       "version_major": 2,
       "version_minor": 0
      },
      "text/html": [
       "<p>Failed to display Jupyter Widget of type <code>Group</code>.</p>\n",
       "<p>\n",
       "  If you're reading this message in the Jupyter Notebook or JupyterLab Notebook, it may mean\n",
       "  that the widgets JavaScript is still loading. If this message persists, it\n",
       "  likely means that the widgets JavaScript library is either not installed or\n",
       "  not enabled. See the <a href=\"https://ipywidgets.readthedocs.io/en/stable/user_install.html\">Jupyter\n",
       "  Widgets Documentation</a> for setup instructions.\n",
       "</p>\n",
       "<p>\n",
       "  If you're reading this message in another frontend (for example, a static\n",
       "  rendering on GitHub or <a href=\"https://nbviewer.jupyter.org/\">NBViewer</a>),\n",
       "  it may mean that your frontend doesn't currently support widgets.\n",
       "</p>\n"
      ],
      "text/plain": [
       "Group(children=(Group(children=(HTML(value=u\"<p   style='background-color: #DCDCDC; font-size: 150%; padding: 5px'>My Parameters</p>\", layout=Layout(flex=u'2 1 auto')), Number(children=(HTML(value=u'<div data-toggle=\"popover\" title=\"Longitudinal Young\\'s Modulus\\nValues must be in units of gigapascal.\\nMin: 0.0\\tMax: 500.0\\n\" data-container=\"body\">E1</div>', layout=Layout(flex=u'2 1 auto')), BoundedFloatText(value=138.0, layout=Layout(width=u'auto'), max=500.0), HTMLMath(value=u'$\\\\mathrm{GPa}$', layout=Layout(min_width=u'6ch'))), layout=Layout(border=u'solid 1px lightgray', display=u'flex', flex_flow=u'row', justify_content=u'space-between', padding=u'5px', width=u'auto')), Togglebuttons(children=(HTML(value=u'<div data-toggle=\"popover\" title=\"Type of nut to eat.\" data-container=\"body\">Nut</div>', layout=Layout(flex=u'2 1 auto')), ToggleButtons(index=2, layout=Layout(width=u'initial'), options=('peanut', 'walnut', 'almond', 'pecan'), style=ToggleButtonsStyle(button_width=u'initial'), value='almond')), layout=Layout(border=u'solid 1px lightgray', display=u'flex', flex_flow=u'row', justify_content=u'space-between', padding=u'3px', width=u'auto')), String(children=(HTML(value=u'<div data-toggle=\"popover\" title=\"Name (First and Last)\" data-container=\"body\">Name</div>', layout=Layout(flex=u'2 1 auto')), Text(value=u'<name>', layout=Layout(width=u'initial'))), layout=Layout(border=u'solid 1px lightgray', display=u'flex', flex_flow=u'row', justify_content=u'space-between', padding=u'3px', width=u'auto'))), layout=Layout(align_items=u'stretch', display=u'flex', flex_flow=u'column', width=u'auto')), Group(children=(HTML(value=u\"<p   style='background-color: #DCDCDC; font-size: 150%; padding: 5px'>More Parameters</p>\", layout=Layout(flex=u'2 1 auto')), Checkbox(children=(HTML(value=u'<div data-toggle=\"popover\" title=\"Show the Advanced Options\" data-container=\"body\">Advanced Options</div>', layout=Layout(flex=u'2 1 auto')), Checkbox(value=False, layout=Layout(width=u'initial'))), layout=Layout(border=u'solid 1px lightgray', display=u'flex', flex_flow=u'row', justify_content=u'space-between', padding=u'3px', width=u'auto')), Dropdown(children=(HTML(value=u'<div data-toggle=\"popover\" title=\"Type of nut to eat.\" data-container=\"body\">Nut</div>', layout=Layout(flex=u'2 1 auto')), Dropdown(index=2, layout=Layout(min_width=u'10ch', width=u'auto'), options=('peanut', 'walnut', 'almond', 'pecan'), value='almond')), layout=Layout(border=u'solid 1px lightgray', display=u'flex', flex_flow=u'row', justify_content=u'space-between', padding=u'3px', width=u'auto')), Text(children=(HTML(value=u'<div data-toggle=\"popover\" title=\"Experiment Description\" data-container=\"body\">Description</div>', layout=Layout(flex=u'2 1 auto')), Textarea(value=u'', layout=Layout(width=u'initial'))), layout=Layout(border=u'solid 1px lightgray', display=u'flex', flex_flow=u'row', justify_content=u'space-between', padding=u'3px', width=u'auto'))), layout=Layout(align_items=u'stretch', display=u'flex', flex_flow=u'column', width=u'50%'))), layout=Layout(align_items=u'stretch', display=u'flex', flex_flow=u'column', width=u'auto'))"
      ]
     },
     "metadata": {},
     "output_type": "display_data"
    }
   ],
   "source": [
    "# FIXME: What about colors for forms? everything?\n",
    "ff = ui.Form([f1,f2])\n",
    "ff"
   ]
  },
  {
   "cell_type": "code",
   "execution_count": 22,
   "metadata": {
    "extensions": {
     "jupyter_dashboards": {
      "version": 1,
      "views": {
       "grid_default": {
        "col": 4,
        "height": 9,
        "hidden": false,
        "row": 37,
        "width": 4
       },
       "report_default": {}
      }
     }
    }
   },
   "outputs": [
    {
     "data": {
      "application/vnd.jupyter.widget-view+json": {
       "model_id": "e41ec397d1264a5fa89fd995917a6362",
       "version_major": 2,
       "version_minor": 0
      },
      "text/html": [
       "<p>Failed to display Jupyter Widget of type <code>Tab</code>.</p>\n",
       "<p>\n",
       "  If you're reading this message in the Jupyter Notebook or JupyterLab Notebook, it may mean\n",
       "  that the widgets JavaScript is still loading. If this message persists, it\n",
       "  likely means that the widgets JavaScript library is either not installed or\n",
       "  not enabled. See the <a href=\"https://ipywidgets.readthedocs.io/en/stable/user_install.html\">Jupyter\n",
       "  Widgets Documentation</a> for setup instructions.\n",
       "</p>\n",
       "<p>\n",
       "  If you're reading this message in another frontend (for example, a static\n",
       "  rendering on GitHub or <a href=\"https://nbviewer.jupyter.org/\">NBViewer</a>),\n",
       "  it may mean that your frontend doesn't currently support widgets.\n",
       "</p>\n"
      ],
      "text/plain": [
       "Tab(children=(Group(children=(Number(children=(HTML(value=u'<div data-toggle=\"popover\" title=\"Longitudinal Young\\'s Modulus\\nValues must be in units of gigapascal.\\nMin: 0.0\\tMax: 500.0\\n\" data-container=\"body\">E1</div>', layout=Layout(flex=u'2 1 auto')), BoundedFloatText(value=138.0, layout=Layout(width=u'auto'), max=500.0), HTMLMath(value=u'$\\\\mathrm{GPa}$', layout=Layout(min_width=u'6ch'))), layout=Layout(border=u'solid 1px lightgray', display=u'flex', flex_flow=u'row', justify_content=u'space-between', padding=u'5px', width=u'auto')), Togglebuttons(children=(HTML(value=u'<div data-toggle=\"popover\" title=\"Type of nut to eat.\" data-container=\"body\">Nut</div>', layout=Layout(flex=u'2 1 auto')), ToggleButtons(index=2, layout=Layout(width=u'initial'), options=('peanut', 'walnut', 'almond', 'pecan'), style=ToggleButtonsStyle(button_width=u'initial'), value='almond')), layout=Layout(border=u'solid 1px lightgray', display=u'flex', flex_flow=u'row', justify_content=u'space-between', padding=u'3px', width=u'auto')), String(children=(HTML(value=u'<div data-toggle=\"popover\" title=\"Name (First and Last)\" data-container=\"body\">Name</div>', layout=Layout(flex=u'2 1 auto')), Text(value=u'<name>', layout=Layout(width=u'initial'))), layout=Layout(border=u'solid 1px lightgray', display=u'flex', flex_flow=u'row', justify_content=u'space-between', padding=u'3px', width=u'auto'))), layout=Layout(align_items=u'stretch', display=u'flex', flex_flow=u'column', width=u'auto')), Group(children=(Checkbox(children=(HTML(value=u'<div data-toggle=\"popover\" title=\"Show the Advanced Options\" data-container=\"body\">Advanced Options</div>', layout=Layout(flex=u'2 1 auto')), Checkbox(value=False, layout=Layout(width=u'initial'))), layout=Layout(border=u'solid 1px lightgray', display=u'flex', flex_flow=u'row', justify_content=u'space-between', padding=u'3px', width=u'auto')), Dropdown(children=(HTML(value=u'<div data-toggle=\"popover\" title=\"Type of nut to eat.\" data-container=\"body\">Nut</div>', layout=Layout(flex=u'2 1 auto')), Dropdown(index=2, layout=Layout(min_width=u'10ch', width=u'auto'), options=('peanut', 'walnut', 'almond', 'pecan'), value='almond')), layout=Layout(border=u'solid 1px lightgray', display=u'flex', flex_flow=u'row', justify_content=u'space-between', padding=u'3px', width=u'auto')), Text(children=(HTML(value=u'<div data-toggle=\"popover\" title=\"Experiment Description\" data-container=\"body\">Description</div>', layout=Layout(flex=u'2 1 auto')), Textarea(value=u'', layout=Layout(width=u'initial'))), layout=Layout(border=u'solid 1px lightgray', display=u'flex', flex_flow=u'row', justify_content=u'space-between', padding=u'3px', width=u'auto'))), layout=Layout(align_items=u'stretch', display=u'flex', flex_flow=u'column', width=u'auto'))), _titles={0: 'My Parameters', 1: 'More Parameters'})"
      ]
     },
     "metadata": {},
     "output_type": "display_data"
    }
   ],
   "source": [
    "f1 = ui.Form([e1,tb,xstr])\n",
    "f2 = ui.Form([check, dd, xtxt])\n",
    "ui.Tab([f1,f2], titles=['My Parameters', 'More Parameters'])\n"
   ]
  },
  {
   "cell_type": "markdown",
   "metadata": {
    "extensions": {
     "jupyter_dashboards": {
      "version": 1,
      "views": {
       "grid_default": {
        "col": 0,
        "height": 4,
        "hidden": false,
        "row": 44,
        "width": 4
       },
       "report_default": {}
      }
     }
    }
   },
   "source": [
    "## Disable UI Elements\n",
    "You can disable individual elements or all the elements in a Form or Tab."
   ]
  },
  {
   "cell_type": "code",
   "execution_count": 23,
   "metadata": {
    "extensions": {
     "jupyter_dashboards": {
      "version": 1,
      "views": {
       "grid_default": {
        "hidden": true
       },
       "report_default": {}
      }
     }
    }
   },
   "outputs": [],
   "source": [
    "ff.disabled = True"
   ]
  },
  {
   "cell_type": "code",
   "execution_count": 24,
   "metadata": {
    "extensions": {
     "jupyter_dashboards": {
      "version": 1,
      "views": {
       "grid_default": {
        "hidden": true
       },
       "report_default": {}
      }
     }
    }
   },
   "outputs": [],
   "source": [
    "ff.disabled = False"
   ]
  },
  {
   "cell_type": "markdown",
   "metadata": {
    "extensions": {
     "jupyter_dashboards": {
      "version": 1,
      "views": {
       "grid_default": {
        "col": 4,
        "height": 4,
        "hidden": false,
        "row": 46,
        "width": 4
       },
       "report_default": {}
      }
     }
    }
   },
   "source": [
    "## Visibility\n",
    "\n",
    "You can make elements visible or invisible."
   ]
  },
  {
   "cell_type": "code",
   "execution_count": 25,
   "metadata": {
    "extensions": {
     "jupyter_dashboards": {
      "version": 1,
      "views": {
       "grid_default": {
        "hidden": true
       },
       "report_default": {}
      }
     }
    }
   },
   "outputs": [],
   "source": [
    "#tb.visible = False"
   ]
  },
  {
   "cell_type": "code",
   "execution_count": 26,
   "metadata": {
    "extensions": {
     "jupyter_dashboards": {
      "version": 1,
      "views": {
       "grid_default": {
        "hidden": true
       },
       "report_default": {}
      }
     }
    }
   },
   "outputs": [],
   "source": [
    "#tb.visible = True"
   ]
  },
  {
   "cell_type": "markdown",
   "metadata": {
    "extensions": {
     "jupyter_dashboards": {
      "version": 1,
      "views": {
       "grid_default": {
        "col": 0,
        "height": 4,
        "hidden": false,
        "row": 48,
        "width": 4
       },
       "report_default": {}
      }
     }
    }
   },
   "source": [
    "## Callbacks\n",
    "\n",
    "Each non-grouping UI element can callback a function you provide when the value changes."
   ]
  },
  {
   "cell_type": "code",
   "execution_count": 27,
   "metadata": {
    "extensions": {
     "jupyter_dashboards": {
      "version": 1,
      "views": {
       "grid_default": {
        "col": 8,
        "height": 5,
        "hidden": false,
        "row": 49,
        "width": 4
       },
       "report_default": {}
      }
     }
    }
   },
   "outputs": [
    {
     "data": {
      "application/vnd.jupyter.widget-view+json": {
       "model_id": "0b80d113a9614a0bb029dfb8c9c2aad3",
       "version_major": 2,
       "version_minor": 0
      },
      "text/html": [
       "<p>Failed to display Jupyter Widget of type <code>Togglebuttons</code>.</p>\n",
       "<p>\n",
       "  If you're reading this message in the Jupyter Notebook or JupyterLab Notebook, it may mean\n",
       "  that the widgets JavaScript is still loading. If this message persists, it\n",
       "  likely means that the widgets JavaScript library is either not installed or\n",
       "  not enabled. See the <a href=\"https://ipywidgets.readthedocs.io/en/stable/user_install.html\">Jupyter\n",
       "  Widgets Documentation</a> for setup instructions.\n",
       "</p>\n",
       "<p>\n",
       "  If you're reading this message in another frontend (for example, a static\n",
       "  rendering on GitHub or <a href=\"https://nbviewer.jupyter.org/\">NBViewer</a>),\n",
       "  it may mean that your frontend doesn't currently support widgets.\n",
       "</p>\n"
      ],
      "text/plain": [
       "Togglebuttons(children=(HTML(value=u'<div data-toggle=\"popover\" title=\"Type of nut to eat.\" data-container=\"body\">Nut</div>', layout=Layout(flex=u'2 1 auto')), ToggleButtons(index=2, layout=Layout(width=u'initial'), options=('peanut', 'walnut', 'almond', 'pecan'), style=ToggleButtonsStyle(button_width=u'initial'), value='almond')), layout=Layout(border=u'solid 1px lightgray', display=u'flex', flex_flow=u'row', justify_content=u'space-between', padding=u'3px', width=u'50%'))"
      ]
     },
     "metadata": {},
     "output_type": "display_data"
    }
   ],
   "source": [
    "def something_changed(name, value):\n",
    "    print(\"%s changed to %s\" % (name, value))\n",
    "\n",
    "tbc = ui.Togglebuttons(\n",
    "            name='Nut',\n",
    "            description=\"Type of nut to eat.\",\n",
    "            value='almond',\n",
    "            options=['peanut', 'walnut', 'almond', 'pecan'],\n",
    "            cb=something_changed,\n",
    "            width='50%'\n",
    "        )\n",
    "tbc"
   ]
  },
  {
   "cell_type": "markdown",
   "metadata": {
    "extensions": {
     "jupyter_dashboards": {
      "version": 1,
      "views": {
       "grid_default": {
        "col": 0,
        "height": 5,
        "hidden": false,
        "row": 54,
        "width": 12
       },
       "report_default": {}
      }
     }
    }
   },
   "source": [
    "# Interactive UI\n",
    "\n",
    "We can use callbacks to modify the UI dynamically.\n",
    "\n",
    "### Disabling Elements"
   ]
  },
  {
   "cell_type": "code",
   "execution_count": 28,
   "metadata": {
    "extensions": {
     "jupyter_dashboards": {
      "version": 1,
      "views": {
       "grid_default": {
        "col": 0,
        "height": 11,
        "hidden": false,
        "row": 59,
        "width": 4
       },
       "report_default": {}
      }
     }
    }
   },
   "outputs": [
    {
     "data": {
      "application/vnd.jupyter.widget-view+json": {
       "model_id": "356a7950fa78477f8f04acdd49e89612",
       "version_major": 2,
       "version_minor": 0
      },
      "text/html": [
       "<p>Failed to display Jupyter Widget of type <code>Group</code>.</p>\n",
       "<p>\n",
       "  If you're reading this message in the Jupyter Notebook or JupyterLab Notebook, it may mean\n",
       "  that the widgets JavaScript is still loading. If this message persists, it\n",
       "  likely means that the widgets JavaScript library is either not installed or\n",
       "  not enabled. See the <a href=\"https://ipywidgets.readthedocs.io/en/stable/user_install.html\">Jupyter\n",
       "  Widgets Documentation</a> for setup instructions.\n",
       "</p>\n",
       "<p>\n",
       "  If you're reading this message in another frontend (for example, a static\n",
       "  rendering on GitHub or <a href=\"https://nbviewer.jupyter.org/\">NBViewer</a>),\n",
       "  it may mean that your frontend doesn't currently support widgets.\n",
       "</p>\n"
      ],
      "text/plain": [
       "Group(children=(Checkbox(children=(HTML(value=u'<div data-toggle=\"popover\" title=\"Show the Advanced Options\" data-container=\"body\">Advanced Options</div>', layout=Layout(flex=u'2 1 auto')), Checkbox(value=False, layout=Layout(width=u'initial'))), layout=Layout(border=u'solid 1px lightgray', display=u'flex', flex_flow=u'row', justify_content=u'space-between', padding=u'3px', width=u'auto')), Togglebuttons(children=(HTML(value=u'<div data-toggle=\"popover\" title=\"Type of nut to eat.\" data-container=\"body\">Nut</div>', layout=Layout(flex=u'2 1 auto')), ToggleButtons(index=2, layout=Layout(width=u'initial'), options=('peanut', 'walnut', 'almond', 'pecan'), style=ToggleButtonsStyle(button_width=u'initial'), value='almond')), layout=Layout(border=u'solid 1px lightgray', display=u'flex', flex_flow=u'row', justify_content=u'space-between', padding=u'3px', width=u'auto')), Togglebuttons(children=(HTML(value=u'<div data-toggle=\"popover\" title=\"Nut Options\" data-container=\"body\">Options</div>', layout=Layout(flex=u'2 1 auto')), ToggleButtons(disabled=True, layout=Layout(width=u'initial'), options=('None', 'Toasted', 'Roasted', 'Glazed', 'Salted'), style=ToggleButtonsStyle(button_width=u'initial'), value='None')), layout=Layout(border=u'solid 1px lightgray', display=u'flex', flex_flow=u'row', justify_content=u'space-between', padding=u'3px', width=u'auto'))), layout=Layout(align_items=u'stretch', display=u'flex', flex_flow=u'column', width=u'auto'))"
      ]
     },
     "metadata": {},
     "output_type": "display_data"
    }
   ],
   "source": [
    "def set_advanced(name, val):\n",
    "    opt.disabled = not val\n",
    "\n",
    "adv_check = ui.Checkbox('Advanced Options', desc='Show the Advanced Options', value=False, cb=set_advanced)\n",
    "\n",
    "opt = ui.Togglebuttons(\n",
    "            name='Options',\n",
    "            description=\"Nut Options\",\n",
    "            value='None',\n",
    "            options=['None', 'Toasted', 'Roasted', 'Glazed', 'Salted'],\n",
    "            disabled=True,  # initial state\n",
    "        )\n",
    "ui.Form([adv_check, tb, opt])"
   ]
  },
  {
   "cell_type": "markdown",
   "metadata": {
    "collapsed": true,
    "extensions": {
     "jupyter_dashboards": {
      "version": 1,
      "views": {
       "grid_default": {
        "col": 4,
        "height": 4,
        "hidden": false,
        "row": 50,
        "width": 4
       },
       "report_default": {}
      }
     }
    }
   },
   "source": [
    "### Hiding Elements Dynamically"
   ]
  },
  {
   "cell_type": "code",
   "execution_count": 29,
   "metadata": {
    "extensions": {
     "jupyter_dashboards": {
      "version": 1,
      "views": {
       "grid_default": {
        "col": 4,
        "height": 11,
        "hidden": false,
        "row": 59,
        "width": 4
       },
       "report_default": {}
      }
     }
    }
   },
   "outputs": [
    {
     "data": {
      "application/vnd.jupyter.widget-view+json": {
       "model_id": "4fde5ae82ef0401c8e65dd4fa82d8ebc",
       "version_major": 2,
       "version_minor": 0
      },
      "text/html": [
       "<p>Failed to display Jupyter Widget of type <code>Group</code>.</p>\n",
       "<p>\n",
       "  If you're reading this message in the Jupyter Notebook or JupyterLab Notebook, it may mean\n",
       "  that the widgets JavaScript is still loading. If this message persists, it\n",
       "  likely means that the widgets JavaScript library is either not installed or\n",
       "  not enabled. See the <a href=\"https://ipywidgets.readthedocs.io/en/stable/user_install.html\">Jupyter\n",
       "  Widgets Documentation</a> for setup instructions.\n",
       "</p>\n",
       "<p>\n",
       "  If you're reading this message in another frontend (for example, a static\n",
       "  rendering on GitHub or <a href=\"https://nbviewer.jupyter.org/\">NBViewer</a>),\n",
       "  it may mean that your frontend doesn't currently support widgets.\n",
       "</p>\n"
      ],
      "text/plain": [
       "Group(children=(Checkbox(children=(HTML(value=u'<div data-toggle=\"popover\" title=\"Show the Advanced Options\" data-container=\"body\">Advanced Options</div>', layout=Layout(flex=u'2 1 auto')), Checkbox(value=False, layout=Layout(width=u'initial'))), layout=Layout(border=u'solid 1px lightgray', display=u'flex', flex_flow=u'row', justify_content=u'space-between', padding=u'3px', width=u'50%')), Togglebuttons(children=(HTML(value=u'<div data-toggle=\"popover\" title=\"Type of nut to eat.\" data-container=\"body\">Nut</div>', layout=Layout(flex=u'2 1 auto')), ToggleButtons(index=2, layout=Layout(width=u'initial'), options=('peanut', 'walnut', 'almond', 'pecan'), style=ToggleButtonsStyle(button_width=u'initial'), value='almond')), layout=Layout(border=u'solid 1px lightgray', display=u'flex', flex_flow=u'row', justify_content=u'space-between', padding=u'3px', width=u'auto')), Togglebuttons(children=(HTML(value=u'<div data-toggle=\"popover\" title=\"Nut Options\" data-container=\"body\">Options</div>', layout=Layout(flex=u'2 1 auto')), ToggleButtons(disabled=True, layout=Layout(visibility=u'hidden', width=u'initial'), options=('None', 'Toasted', 'Roasted', 'Glazed', 'Salted'), style=ToggleButtonsStyle(button_width=u'initial'), value='None')), layout=Layout(border=u'solid 1px lightgray', display=u'flex', flex_flow=u'row', justify_content=u'space-between', padding=u'3px', visibility=u'hidden', width=u'auto'))), layout=Layout(align_items=u'stretch', display=u'flex', flex_flow=u'column', width=u'auto'))"
      ]
     },
     "metadata": {},
     "output_type": "display_data"
    }
   ],
   "source": [
    "def show_advanced(name, val):\n",
    "    opt.visible = val\n",
    "\n",
    "adv_check = ui.Checkbox('Advanced Options', desc='Show the Advanced Options', value=False, width='50%', cb=show_advanced)\n",
    "opt.visible = False\n",
    "ui.Form([adv_check, tb, opt])"
   ]
  },
  {
   "cell_type": "markdown",
   "metadata": {
    "extensions": {
     "jupyter_dashboards": {
      "version": 1,
      "views": {
       "grid_default": {
        "col": 8,
        "height": 4,
        "hidden": false,
        "row": 59,
        "width": 4
       },
       "report_default": {}
      }
     }
    }
   },
   "source": [
    "# A More Complicated Example"
   ]
  },
  {
   "cell_type": "code",
   "execution_count": 30,
   "metadata": {
    "extensions": {
     "jupyter_dashboards": {
      "version": 1,
      "views": {
       "grid_default": {
        "col": 8,
        "height": 12,
        "hidden": false,
        "row": 63,
        "width": 4
       },
       "report_default": {}
      }
     }
    }
   },
   "outputs": [
    {
     "data": {
      "application/vnd.jupyter.widget-view+json": {
       "model_id": "7dba26fd625b412b93cd5d9474129695",
       "version_major": 2,
       "version_minor": 0
      },
      "text/html": [
       "<p>Failed to display Jupyter Widget of type <code>Group</code>.</p>\n",
       "<p>\n",
       "  If you're reading this message in the Jupyter Notebook or JupyterLab Notebook, it may mean\n",
       "  that the widgets JavaScript is still loading. If this message persists, it\n",
       "  likely means that the widgets JavaScript library is either not installed or\n",
       "  not enabled. See the <a href=\"https://ipywidgets.readthedocs.io/en/stable/user_install.html\">Jupyter\n",
       "  Widgets Documentation</a> for setup instructions.\n",
       "</p>\n",
       "<p>\n",
       "  If you're reading this message in another frontend (for example, a static\n",
       "  rendering on GitHub or <a href=\"https://nbviewer.jupyter.org/\">NBViewer</a>),\n",
       "  it may mean that your frontend doesn't currently support widgets.\n",
       "</p>\n"
      ],
      "text/plain": [
       "Group(children=(HTML(value=u'<p  data-toggle=\"popover\" title=\"Not a day of the week!\" style=\\'background-color: #DCDCDC; font-size: 150%; padding: 5px\\'>Sundae</p>', layout=Layout(flex=u'2 1 auto')), Dropdown(children=(HTML(value=u'<div data-toggle=\"popover\" title=\"Ice Cream Flavor.\" data-container=\"body\">Ice Cream</div>', layout=Layout(flex=u'2 1 auto')), Dropdown(layout=Layout(min_width=u'14ch', width=u'auto'), options=('Vanilla', 'Strawberry', 'Chocolate', 'Pistachio'), value='Vanilla')), layout=Layout(border=u'solid 1px lightgray', display=u'flex', flex_flow=u'row', justify_content=u'space-between', padding=u'3px', width=u'auto')), Radiobuttons(children=(HTML(value=u'<div data-toggle=\"popover\" title=\"Ice Cream Topping\" data-container=\"body\">Topping</div>', layout=Layout(flex=u'2 1 auto')), RadioButtons(layout=Layout(width=u'initial'), options=('None', 'Fudge', 'Caramel', 'Marshmallow'), value='None')), layout=Layout(border=u'solid 1px lightgray', display=u'flex', flex_flow=u'row', justify_content=u'space-between', padding=u'3px', width=u'auto')), Togglebuttons(children=(HTML(value=u'<div data-toggle=\"popover\" title=\"Brownie on the bottom?\" data-container=\"body\">Brownie</div>', layout=Layout(flex=u'2 1 auto')), ToggleButtons(layout=Layout(width=u'initial'), options=('No', 'Yes'), style=ToggleButtonsStyle(button_width=u'initial'), value='No')), layout=Layout(border=u'solid 1px lightgray', display=u'flex', flex_flow=u'row', justify_content=u'space-between', padding=u'3px', width=u'auto')), Checkbox(children=(HTML(value=u'<div data-toggle=\"popover\" title=\"Cherry on Top?\" data-container=\"body\">Cherry</div>', layout=Layout(flex=u'2 1 auto')), Checkbox(value=False, layout=Layout(width=u'initial'))), layout=Layout(border=u'solid 1px lightgray', display=u'flex', flex_flow=u'row', justify_content=u'space-between', padding=u'3px', width=u'auto'))), layout=Layout(align_items=u'stretch', display=u'flex', flex_flow=u'column', width=u'50%'))"
      ]
     },
     "metadata": {},
     "output_type": "display_data"
    }
   ],
   "source": [
    "ice_cream = ui.Dropdown(\n",
    "            name='Ice Cream',\n",
    "            description=\"Ice Cream Flavor.\",\n",
    "            value='Vanilla',\n",
    "            options=['Vanilla', 'Strawberry', 'Chocolate', 'Pistachio'],\n",
    "        )\n",
    "topping = ui.Radiobuttons(\n",
    "            name='Topping',\n",
    "            description=\"Ice Cream Topping\",\n",
    "            value='None',\n",
    "            options=['None', 'Fudge', 'Caramel', 'Marshmallow'],\n",
    "        )\n",
    "cherry = ui.Checkbox('Cherry', desc='Cherry on Top?', value=False)\n",
    "brownie = ui.Togglebuttons('Brownie', desc=\"Brownie on the bottom?\", value='No', options=['No', 'Yes'])\n",
    "sundae = ui.Group([ice_cream, topping, brownie, cherry], name='Sundae', desc='Not a day of the week!', width='50%')\n",
    "sundae"
   ]
  },
  {
   "cell_type": "code",
   "execution_count": null,
   "metadata": {
    "extensions": {
     "jupyter_dashboards": {
      "version": 1,
      "views": {
       "grid_default": {
        "col": 8,
        "height": 4,
        "hidden": false,
        "row": 75,
        "width": 4
       },
       "report_default": {}
      }
     }
    }
   },
   "outputs": [],
   "source": []
  },
  {
   "cell_type": "code",
   "execution_count": 31,
   "metadata": {
    "extensions": {
     "jupyter_dashboards": {
      "version": 1,
      "views": {
       "grid_default": {
        "col": 0,
        "height": 6,
        "hidden": false,
        "row": 70,
        "width": 4
       },
       "report_default": {}
      }
     }
    }
   },
   "outputs": [
    {
     "data": {
      "application/vnd.jupyter.widget-view+json": {
       "model_id": "f4f1faa8834b4b559b18cffffa3b9bfc",
       "version_major": 2,
       "version_minor": 0
      },
      "text/html": [
       "<p>Failed to display Jupyter Widget of type <code>Group</code>.</p>\n",
       "<p>\n",
       "  If you're reading this message in the Jupyter Notebook or JupyterLab Notebook, it may mean\n",
       "  that the widgets JavaScript is still loading. If this message persists, it\n",
       "  likely means that the widgets JavaScript library is either not installed or\n",
       "  not enabled. See the <a href=\"https://ipywidgets.readthedocs.io/en/stable/user_install.html\">Jupyter\n",
       "  Widgets Documentation</a> for setup instructions.\n",
       "</p>\n",
       "<p>\n",
       "  If you're reading this message in another frontend (for example, a static\n",
       "  rendering on GitHub or <a href=\"https://nbviewer.jupyter.org/\">NBViewer</a>),\n",
       "  it may mean that your frontend doesn't currently support widgets.\n",
       "</p>\n"
      ],
      "text/plain": [
       "Group(children=(Dropdown(children=(HTML(value=u'<div data-toggle=\"popover\" title=\"Pizza Crust\" data-container=\"body\">Crust</div>', layout=Layout(flex=u'2 1 auto')), Dropdown(layout=Layout(min_width=u'15ch', width=u'auto'), options=('Thin', 'Hand-Tossed', 'Pan', 'Gluten-Free'), value='Thin')), layout=Layout(border=u'solid 1px lightgray', display=u'flex', flex_flow=u'row', justify_content=u'space-between', padding=u'3px', width=u'auto')), Dropdown(children=(HTML(value=u'<div data-toggle=\"popover\" title=\"Sauce Type\" data-container=\"body\">Sauce</div>', layout=Layout(flex=u'2 1 auto')), Dropdown(layout=Layout(min_width=u'11ch', width=u'auto'), options=('Regular', 'Robust', 'Pesto'), value='Regular')), layout=Layout(border=u'solid 1px lightgray', display=u'flex', flex_flow=u'row', justify_content=u'space-between', padding=u'3px', width=u'auto')), Checkbox(children=(HTML(value=u'<div data-toggle=\"popover\" title=\"\" data-container=\"body\">Extra Cheese</div>', layout=Layout(flex=u'2 1 auto')), Checkbox(value=False, layout=Layout(width=u'initial'))), layout=Layout(border=u'solid 1px lightgray', display=u'flex', flex_flow=u'row', justify_content=u'space-between', padding=u'3px', width=u'auto'))), layout=Layout(align_items=u'stretch', display=u'flex', flex_flow=u'column', width=u'50%'))"
      ]
     },
     "metadata": {},
     "output_type": "display_data"
    }
   ],
   "source": [
    "crust = ui.Dropdown(\n",
    "            name='Crust',\n",
    "            description=\"Pizza Crust\",\n",
    "            value='Thin',\n",
    "            options=['Thin', 'Hand-Tossed', 'Pan', 'Gluten-Free'],\n",
    "        )\n",
    "sauce = ui.Dropdown(\n",
    "            name='Sauce',\n",
    "            description=\"Sauce Type\",\n",
    "            value='Regular',\n",
    "            options=['Regular', 'Robust', 'Pesto'],\n",
    "        )\n",
    "cheese = ui.Checkbox('Extra Cheese', value=False)\n",
    "pizza = ui.Form([crust, sauce, cheese], name='', width='50%') # collapsible\n",
    "pizza\n"
   ]
  },
  {
   "cell_type": "code",
   "execution_count": 32,
   "metadata": {
    "extensions": {
     "jupyter_dashboards": {
      "version": 1,
      "views": {
       "grid_default": {
        "col": 4,
        "height": 8,
        "hidden": false,
        "row": 70,
        "width": 4
       },
       "report_default": {}
      }
     }
    }
   },
   "outputs": [
    {
     "data": {
      "application/vnd.jupyter.widget-view+json": {
       "model_id": "46a2cd8a4d9f44eb8e8d7e5d1fda25d6",
       "version_major": 2,
       "version_minor": 0
      },
      "text/html": [
       "<p>Failed to display Jupyter Widget of type <code>Tab</code>.</p>\n",
       "<p>\n",
       "  If you're reading this message in the Jupyter Notebook or JupyterLab Notebook, it may mean\n",
       "  that the widgets JavaScript is still loading. If this message persists, it\n",
       "  likely means that the widgets JavaScript library is either not installed or\n",
       "  not enabled. See the <a href=\"https://ipywidgets.readthedocs.io/en/stable/user_install.html\">Jupyter\n",
       "  Widgets Documentation</a> for setup instructions.\n",
       "</p>\n",
       "<p>\n",
       "  If you're reading this message in another frontend (for example, a static\n",
       "  rendering on GitHub or <a href=\"https://nbviewer.jupyter.org/\">NBViewer</a>),\n",
       "  it may mean that your frontend doesn't currently support widgets.\n",
       "</p>\n"
      ],
      "text/plain": [
       "Tab(children=(Group(children=(Dropdown(children=(HTML(value=u'<div data-toggle=\"popover\" title=\"Pizza Crust\" data-container=\"body\">Crust</div>', layout=Layout(flex=u'2 1 auto')), Dropdown(layout=Layout(min_width=u'15ch', width=u'auto'), options=('Thin', 'Hand-Tossed', 'Pan', 'Gluten-Free'), value='Thin')), layout=Layout(border=u'solid 1px lightgray', display=u'flex', flex_flow=u'row', justify_content=u'space-between', padding=u'3px', width=u'auto')), Dropdown(children=(HTML(value=u'<div data-toggle=\"popover\" title=\"Sauce Type\" data-container=\"body\">Sauce</div>', layout=Layout(flex=u'2 1 auto')), Dropdown(layout=Layout(min_width=u'11ch', width=u'auto'), options=('Regular', 'Robust', 'Pesto'), value='Regular')), layout=Layout(border=u'solid 1px lightgray', display=u'flex', flex_flow=u'row', justify_content=u'space-between', padding=u'3px', width=u'auto')), Checkbox(children=(HTML(value=u'<div data-toggle=\"popover\" title=\"\" data-container=\"body\">Extra Cheese</div>', layout=Layout(flex=u'2 1 auto')), Checkbox(value=False, layout=Layout(width=u'initial'))), layout=Layout(border=u'solid 1px lightgray', display=u'flex', flex_flow=u'row', justify_content=u'space-between', padding=u'3px', width=u'auto'))), layout=Layout(align_items=u'stretch', display=u'flex', flex_flow=u'column', width=u'50%')), Group(children=(HTML(value=u'<p  data-toggle=\"popover\" title=\"Not a day of the week!\" style=\\'background-color: #DCDCDC; font-size: 150%; padding: 5px\\'>Sundae</p>', layout=Layout(flex=u'2 1 auto')), Dropdown(children=(HTML(value=u'<div data-toggle=\"popover\" title=\"Ice Cream Flavor.\" data-container=\"body\">Ice Cream</div>', layout=Layout(flex=u'2 1 auto')), Dropdown(layout=Layout(min_width=u'14ch', width=u'auto'), options=('Vanilla', 'Strawberry', 'Chocolate', 'Pistachio'), value='Vanilla')), layout=Layout(border=u'solid 1px lightgray', display=u'flex', flex_flow=u'row', justify_content=u'space-between', padding=u'3px', width=u'auto')), Radiobuttons(children=(HTML(value=u'<div data-toggle=\"popover\" title=\"Ice Cream Topping\" data-container=\"body\">Topping</div>', layout=Layout(flex=u'2 1 auto')), RadioButtons(layout=Layout(width=u'initial'), options=('None', 'Fudge', 'Caramel', 'Marshmallow'), value='None')), layout=Layout(border=u'solid 1px lightgray', display=u'flex', flex_flow=u'row', justify_content=u'space-between', padding=u'3px', width=u'auto')), Togglebuttons(children=(HTML(value=u'<div data-toggle=\"popover\" title=\"Brownie on the bottom?\" data-container=\"body\">Brownie</div>', layout=Layout(flex=u'2 1 auto')), ToggleButtons(layout=Layout(width=u'initial'), options=('No', 'Yes'), style=ToggleButtonsStyle(button_width=u'initial'), value='No')), layout=Layout(border=u'solid 1px lightgray', display=u'flex', flex_flow=u'row', justify_content=u'space-between', padding=u'3px', width=u'auto')), Checkbox(children=(HTML(value=u'<div data-toggle=\"popover\" title=\"Cherry on Top?\" data-container=\"body\">Cherry</div>', layout=Layout(flex=u'2 1 auto')), Checkbox(value=False, layout=Layout(width=u'initial'))), layout=Layout(border=u'solid 1px lightgray', display=u'flex', flex_flow=u'row', justify_content=u'space-between', padding=u'3px', width=u'auto'))), layout=Layout(align_items=u'stretch', display=u'flex', flex_flow=u'column', width=u'50%'))), _titles={0: '', 1: 'Sundae'})"
      ]
     },
     "metadata": {},
     "output_type": "display_data"
    }
   ],
   "source": [
    "ui.Tab([pizza, sundae])"
   ]
  },
  {
   "cell_type": "code",
   "execution_count": 33,
   "metadata": {
    "extensions": {
     "jupyter_dashboards": {
      "version": 1,
      "views": {
       "grid_default": {
        "col": 0,
        "height": 8,
        "hidden": false,
        "row": 76,
        "width": 4
       },
       "report_default": {}
      }
     }
    }
   },
   "outputs": [
    {
     "data": {
      "application/vnd.jupyter.widget-view+json": {
       "model_id": "3680a34a70f6486eae9052d541cccf7f",
       "version_major": 2,
       "version_minor": 0
      },
      "text/html": [
       "<p>Failed to display Jupyter Widget of type <code>HBox</code>.</p>\n",
       "<p>\n",
       "  If you're reading this message in the Jupyter Notebook or JupyterLab Notebook, it may mean\n",
       "  that the widgets JavaScript is still loading. If this message persists, it\n",
       "  likely means that the widgets JavaScript library is either not installed or\n",
       "  not enabled. See the <a href=\"https://ipywidgets.readthedocs.io/en/stable/user_install.html\">Jupyter\n",
       "  Widgets Documentation</a> for setup instructions.\n",
       "</p>\n",
       "<p>\n",
       "  If you're reading this message in another frontend (for example, a static\n",
       "  rendering on GitHub or <a href=\"https://nbviewer.jupyter.org/\">NBViewer</a>),\n",
       "  it may mean that your frontend doesn't currently support widgets.\n",
       "</p>\n"
      ],
      "text/plain": [
       "HBox(children=(Group(children=(HTML(value=u'<p  data-toggle=\"popover\" title=\"Not a day of the week!\" style=\\'background-color: #DCDCDC; font-size: 150%; padding: 5px\\'>Sundae</p>', layout=Layout(flex=u'2 1 auto')), Dropdown(children=(HTML(value=u'<div data-toggle=\"popover\" title=\"Ice Cream Flavor.\" data-container=\"body\">Ice Cream</div>', layout=Layout(flex=u'2 1 auto')), Dropdown(layout=Layout(min_width=u'14ch', width=u'auto'), options=('Vanilla', 'Strawberry', 'Chocolate', 'Pistachio'), value='Vanilla')), layout=Layout(border=u'solid 1px lightgray', display=u'flex', flex_flow=u'row', justify_content=u'space-between', padding=u'3px', width=u'auto')), Radiobuttons(children=(HTML(value=u'<div data-toggle=\"popover\" title=\"Ice Cream Topping\" data-container=\"body\">Topping</div>', layout=Layout(flex=u'2 1 auto')), RadioButtons(layout=Layout(width=u'initial'), options=('None', 'Fudge', 'Caramel', 'Marshmallow'), value='None')), layout=Layout(border=u'solid 1px lightgray', display=u'flex', flex_flow=u'row', justify_content=u'space-between', padding=u'3px', width=u'auto')), Togglebuttons(children=(HTML(value=u'<div data-toggle=\"popover\" title=\"Brownie on the bottom?\" data-container=\"body\">Brownie</div>', layout=Layout(flex=u'2 1 auto')), ToggleButtons(layout=Layout(width=u'initial'), options=('No', 'Yes'), style=ToggleButtonsStyle(button_width=u'initial'), value='No')), layout=Layout(border=u'solid 1px lightgray', display=u'flex', flex_flow=u'row', justify_content=u'space-between', padding=u'3px', width=u'auto')), Checkbox(children=(HTML(value=u'<div data-toggle=\"popover\" title=\"Cherry on Top?\" data-container=\"body\">Cherry</div>', layout=Layout(flex=u'2 1 auto')), Checkbox(value=False, layout=Layout(width=u'initial'))), layout=Layout(border=u'solid 1px lightgray', display=u'flex', flex_flow=u'row', justify_content=u'space-between', padding=u'3px', width=u'auto'))), layout=Layout(align_items=u'stretch', display=u'flex', flex_flow=u'column', padding=u'0 10px 0 0', width=u'100%')), Group(children=(Dropdown(children=(HTML(value=u'<div data-toggle=\"popover\" title=\"Pizza Crust\" data-container=\"body\">Crust</div>', layout=Layout(flex=u'2 1 auto')), Dropdown(layout=Layout(min_width=u'15ch', width=u'auto'), options=('Thin', 'Hand-Tossed', 'Pan', 'Gluten-Free'), value='Thin')), layout=Layout(border=u'solid 1px lightgray', display=u'flex', flex_flow=u'row', justify_content=u'space-between', padding=u'3px', width=u'auto')), Dropdown(children=(HTML(value=u'<div data-toggle=\"popover\" title=\"Sauce Type\" data-container=\"body\">Sauce</div>', layout=Layout(flex=u'2 1 auto')), Dropdown(layout=Layout(min_width=u'11ch', width=u'auto'), options=('Regular', 'Robust', 'Pesto'), value='Regular')), layout=Layout(border=u'solid 1px lightgray', display=u'flex', flex_flow=u'row', justify_content=u'space-between', padding=u'3px', width=u'auto')), Checkbox(children=(HTML(value=u'<div data-toggle=\"popover\" title=\"\" data-container=\"body\">Extra Cheese</div>', layout=Layout(flex=u'2 1 auto')), Checkbox(value=False, layout=Layout(width=u'initial'))), layout=Layout(border=u'solid 1px lightgray', display=u'flex', flex_flow=u'row', justify_content=u'space-between', padding=u'3px', width=u'auto'))), layout=Layout(align_items=u'stretch', display=u'flex', flex_flow=u'column', width=u'50%'))))"
      ]
     },
     "metadata": {},
     "output_type": "display_data"
    }
   ],
   "source": [
    "# HBox to do multicolumns\n",
    "# Accordion (collapsible form)\n",
    "# Form -> Group??\n",
    "import ipywidgets as widgets\n",
    "layoutL=widgets.Layout(\n",
    "            display='flex',\n",
    "            flex_flow='column',\n",
    "            align_items='stretch',\n",
    "            width='100%',\n",
    "            padding='0 10px 0 0'\n",
    "        )\n",
    "layoutR=widgets.Layout(\n",
    "            display='flex',\n",
    "            flex_flow='column',\n",
    "            align_items='stretch',\n",
    "            width='50%',\n",
    "#             padding='0 0 0 5px'\n",
    "        )\n",
    "sundae.layout = layoutL\n",
    "pizza.layout = layoutR\n",
    "widgets.HBox([sundae, pizza])\n"
   ]
  },
  {
   "cell_type": "markdown",
   "metadata": {
    "extensions": {
     "jupyter_dashboards": {
      "version": 1,
      "views": {
       "grid_default": {
        "col": 0,
        "height": 4,
        "hidden": false,
        "row": 84,
        "width": 12
       },
       "report_default": {}
      }
     }
    }
   },
   "source": [
    "# maybe smart layout? check widths and adjust size accordingly\n",
    "Use width% or\n",
    "widgets.HBox([sundae, pizza], size=[2,1])\n"
   ]
  },
  {
   "cell_type": "code",
   "execution_count": 34,
   "metadata": {
    "extensions": {
     "jupyter_dashboards": {
      "version": 1,
      "views": {
       "grid_default": {
        "col": 4,
        "height": 4,
        "hidden": false,
        "row": 78,
        "width": 4
       },
       "report_default": {}
      }
     }
    }
   },
   "outputs": [
    {
     "data": {
      "text/plain": [
       "u'50%'"
      ]
     },
     "execution_count": 34,
     "metadata": {},
     "output_type": "execute_result"
    }
   ],
   "source": [
    "pizza.layout.width"
   ]
  },
  {
   "cell_type": "code",
   "execution_count": 35,
   "metadata": {
    "extensions": {
     "jupyter_dashboards": {
      "version": 1,
      "views": {
       "grid_default": {
        "col": 8,
        "height": 4,
        "hidden": false,
        "row": 79,
        "width": 4
       },
       "report_default": {}
      }
     }
    }
   },
   "outputs": [
    {
     "data": {
      "application/vnd.jupyter.widget-view+json": {
       "model_id": "f8fc7841f32b4494a7ff041135d3424f",
       "version_major": 2,
       "version_minor": 0
      },
      "text/html": [
       "<p>Failed to display Jupyter Widget of type <code>Accordion</code>.</p>\n",
       "<p>\n",
       "  If you're reading this message in the Jupyter Notebook or JupyterLab Notebook, it may mean\n",
       "  that the widgets JavaScript is still loading. If this message persists, it\n",
       "  likely means that the widgets JavaScript library is either not installed or\n",
       "  not enabled. See the <a href=\"https://ipywidgets.readthedocs.io/en/stable/user_install.html\">Jupyter\n",
       "  Widgets Documentation</a> for setup instructions.\n",
       "</p>\n",
       "<p>\n",
       "  If you're reading this message in another frontend (for example, a static\n",
       "  rendering on GitHub or <a href=\"https://nbviewer.jupyter.org/\">NBViewer</a>),\n",
       "  it may mean that your frontend doesn't currently support widgets.\n",
       "</p>\n"
      ],
      "text/plain": [
       "Accordion(children=(Group(children=(Dropdown(children=(HTML(value=u'<div data-toggle=\"popover\" title=\"Pizza Crust\" data-container=\"body\">Crust</div>', layout=Layout(flex=u'2 1 auto')), Dropdown(layout=Layout(min_width=u'15ch', width=u'auto'), options=('Thin', 'Hand-Tossed', 'Pan', 'Gluten-Free'), value='Thin')), layout=Layout(border=u'solid 1px lightgray', display=u'flex', flex_flow=u'row', justify_content=u'space-between', padding=u'3px', width=u'auto')), Dropdown(children=(HTML(value=u'<div data-toggle=\"popover\" title=\"Sauce Type\" data-container=\"body\">Sauce</div>', layout=Layout(flex=u'2 1 auto')), Dropdown(layout=Layout(min_width=u'11ch', width=u'auto'), options=('Regular', 'Robust', 'Pesto'), value='Regular')), layout=Layout(border=u'solid 1px lightgray', display=u'flex', flex_flow=u'row', justify_content=u'space-between', padding=u'3px', width=u'auto')), Checkbox(children=(HTML(value=u'<div data-toggle=\"popover\" title=\"\" data-container=\"body\">Extra Cheese</div>', layout=Layout(flex=u'2 1 auto')), Checkbox(value=False, layout=Layout(width=u'initial'))), layout=Layout(border=u'solid 1px lightgray', display=u'flex', flex_flow=u'row', justify_content=u'space-between', padding=u'3px', width=u'auto'))), layout=Layout(align_items=u'stretch', display=u'flex', flex_flow=u'column', width=u'50%')), Group(children=(HTML(value=u'<p  data-toggle=\"popover\" title=\"Not a day of the week!\" style=\\'background-color: #DCDCDC; font-size: 150%; padding: 5px\\'>Sundae</p>', layout=Layout(flex=u'2 1 auto')), Dropdown(children=(HTML(value=u'<div data-toggle=\"popover\" title=\"Ice Cream Flavor.\" data-container=\"body\">Ice Cream</div>', layout=Layout(flex=u'2 1 auto')), Dropdown(layout=Layout(min_width=u'14ch', width=u'auto'), options=('Vanilla', 'Strawberry', 'Chocolate', 'Pistachio'), value='Vanilla')), layout=Layout(border=u'solid 1px lightgray', display=u'flex', flex_flow=u'row', justify_content=u'space-between', padding=u'3px', width=u'auto')), Radiobuttons(children=(HTML(value=u'<div data-toggle=\"popover\" title=\"Ice Cream Topping\" data-container=\"body\">Topping</div>', layout=Layout(flex=u'2 1 auto')), RadioButtons(layout=Layout(width=u'initial'), options=('None', 'Fudge', 'Caramel', 'Marshmallow'), value='None')), layout=Layout(border=u'solid 1px lightgray', display=u'flex', flex_flow=u'row', justify_content=u'space-between', padding=u'3px', width=u'auto')), Togglebuttons(children=(HTML(value=u'<div data-toggle=\"popover\" title=\"Brownie on the bottom?\" data-container=\"body\">Brownie</div>', layout=Layout(flex=u'2 1 auto')), ToggleButtons(layout=Layout(width=u'initial'), options=('No', 'Yes'), style=ToggleButtonsStyle(button_width=u'initial'), value='No')), layout=Layout(border=u'solid 1px lightgray', display=u'flex', flex_flow=u'row', justify_content=u'space-between', padding=u'3px', width=u'auto')), Checkbox(children=(HTML(value=u'<div data-toggle=\"popover\" title=\"Cherry on Top?\" data-container=\"body\">Cherry</div>', layout=Layout(flex=u'2 1 auto')), Checkbox(value=False, layout=Layout(width=u'initial'))), layout=Layout(border=u'solid 1px lightgray', display=u'flex', flex_flow=u'row', justify_content=u'space-between', padding=u'3px', width=u'auto'))), layout=Layout(align_items=u'stretch', display=u'flex', flex_flow=u'column', padding=u'0 10px 0 0', width=u'100%'))), _titles={u'1': 'Sundae', u'0': 'Pizza'})"
      ]
     },
     "metadata": {},
     "output_type": "display_data"
    }
   ],
   "source": [
    "accordion = widgets.Accordion(children=[pizza, sundae])\n",
    "accordion.set_title(0, 'Pizza')\n",
    "accordion.set_title(1, 'Sundae')\n",
    "accordion"
   ]
  },
  {
   "cell_type": "code",
   "execution_count": 36,
   "metadata": {
    "extensions": {
     "jupyter_dashboards": {
      "version": 1,
      "views": {
       "grid_default": {
        "hidden": true
       },
       "report_default": {}
      }
     }
    }
   },
   "outputs": [],
   "source": [
    "accordion.selected_index=None\n"
   ]
  },
  {
   "cell_type": "code",
   "execution_count": 37,
   "metadata": {
    "extensions": {
     "jupyter_dashboards": {
      "version": 1,
      "views": {
       "grid_default": {
        "col": 0,
        "height": 4,
        "hidden": false,
        "row": 88,
        "width": 4
       },
       "report_default": {}
      }
     }
    }
   },
   "outputs": [
    {
     "data": {
      "text/plain": [
       "['world', 'martin', 'hunt']"
      ]
     },
     "execution_count": 37,
     "metadata": {},
     "output_type": "execute_result"
    }
   ],
   "source": [
    "a = ['hello', 'world', 'martin', 'hunt']\n",
    "a[1:]"
   ]
  },
  {
   "cell_type": "code",
   "execution_count": 38,
   "metadata": {
    "extensions": {
     "jupyter_dashboards": {
      "version": 1,
      "views": {
       "grid_default": {
        "hidden": true
       },
       "report_default": {}
      }
     }
    }
   },
   "outputs": [
    {
     "ename": "AttributeError",
     "evalue": "'list' object has no attribute 'appendleft'",
     "output_type": "error",
     "traceback": [
      "\u001b[0;31m---------------------------------------------------------------------------\u001b[0m",
      "\u001b[0;31mAttributeError\u001b[0m                            Traceback (most recent call last)",
      "\u001b[0;32m<ipython-input-38-ff4166901048>\u001b[0m in \u001b[0;36m<module>\u001b[0;34m()\u001b[0m\n\u001b[0;32m----> 1\u001b[0;31m \u001b[0ma\u001b[0m\u001b[0;34m.\u001b[0m\u001b[0mappendleft\u001b[0m\u001b[0;34m(\u001b[0m\u001b[0;34m'123'\u001b[0m\u001b[0;34m)\u001b[0m\u001b[0;34m\u001b[0m\u001b[0m\n\u001b[0m\u001b[1;32m      2\u001b[0m \u001b[0ma\u001b[0m\u001b[0;34m\u001b[0m\u001b[0m\n",
      "\u001b[0;31mAttributeError\u001b[0m: 'list' object has no attribute 'appendleft'"
     ]
    }
   ],
   "source": [
    "a.appendleft('123')\n",
    "a"
   ]
  },
  {
   "cell_type": "code",
   "execution_count": null,
   "metadata": {
    "extensions": {
     "jupyter_dashboards": {
      "version": 1,
      "views": {
       "grid_default": {
        "hidden": true
       },
       "report_default": {}
      }
     }
    }
   },
   "outputs": [],
   "source": []
  }
 ],
 "metadata": {
  "extensions": {
   "jupyter_dashboards": {
    "activeView": "grid_default",
    "version": 1,
    "views": {
     "grid_default": {
      "cellMargin": 10,
      "defaultCellHeight": 20,
      "maxColumns": 12,
      "name": "grid",
      "type": "grid"
     },
     "report_default": {
      "name": "report",
      "type": "report"
     }
    }
   }
  },
  "kernelspec": {
   "display_name": "Python2",
   "language": "python",
   "name": "python2"
  },
  "language_info": {
   "codemirror_mode": {
    "name": "ipython",
    "version": 2
   },
   "file_extension": ".py",
   "mimetype": "text/x-python",
   "name": "python",
   "nbconvert_exporter": "python",
   "pygments_lexer": "ipython2",
   "version": "2.7.14"
  },
  "widgets": {
   "state": {
    "0d31088cb6fd42b592f0c1c9292ef3d2": {
     "views": [
      {
       "cell_index": 23
      }
     ]
    },
    "15c2dbe1dd594108b0aa9f5659ea67ac": {
     "views": [
      {
       "cell_index": 11
      }
     ]
    },
    "210972ff394f4a6a8456bc7468ba01e6": {
     "views": [
      {
       "cell_index": 24
      }
     ]
    },
    "25d3735758334bc3a96a2327172b8adb": {
     "views": [
      {
       "cell_index": 27
      }
     ]
    },
    "3545792f4c1b428c8736c9cc9866ae7b": {
     "views": [
      {
       "cell_index": 40
      }
     ]
    },
    "4bf7e7d68ebc4a859a74a3453d44da79": {
     "views": [
      {
       "cell_index": 22
      }
     ]
    },
    "50bcc61671cf454faf7e409aa1f41a5c": {
     "views": [
      {
       "cell_index": 36
      }
     ]
    },
    "6149a6f5cd914bfabfe361bce5dd564f": {
     "views": [
      {
       "cell_index": 20
      }
     ]
    },
    "6155358fb0004fa4bd31cf2db196616c": {
     "views": [
      {
       "cell_index": 5
      }
     ]
    },
    "65013a8730734fe4995ca4769a67d60a": {
     "views": [
      {
       "cell_index": 43
      }
     ]
    },
    "650c5153128b4b4ab5d98c4c2e322c38": {
     "views": [
      {
       "cell_index": 19
      }
     ]
    },
    "6c05daec25a94ed5b908c13c2405da9b": {
     "views": [
      {
       "cell_index": 38
      }
     ]
    },
    "a031fa03f2094ac8a90f0d7115758d7a": {
     "views": [
      {
       "cell_index": 44
      }
     ]
    },
    "afbad63223c0407695d618c21cc683a5": {
     "views": [
      {
       "cell_index": 42
      }
     ]
    },
    "b566c6edc92248e4962cbcba085a0e69": {
     "views": [
      {
       "cell_index": 17
      }
     ]
    },
    "b7d795373e0249baa46dcf505bb72314": {
     "views": [
      {
       "cell_index": 9
      }
     ]
    },
    "bf7e9b1b86e1465ab147d5f87ee21d77": {
     "views": [
      {
       "cell_index": 26
      }
     ]
    },
    "d7a506c1f2f2412a8d039af98a531f3e": {
     "views": [
      {
       "cell_index": 25
      }
     ]
    },
    "d8f4322158c145e0831e4ed6367eaf0e": {
     "views": [
      {
       "cell_index": 14
      }
     ]
    },
    "de0ecd1c5cba4341a24072101fb0a372": {
     "views": [
      {
       "cell_index": 16
      }
     ]
    },
    "e352613f58414fefbcfa32749a27a9ab": {
     "views": [
      {
       "cell_index": 3
      }
     ]
    },
    "e6f7e5449c244f1fb9eeb0c18c193744": {
     "views": [
      {
       "cell_index": 28
      }
     ]
    },
    "f376c4671b164f81b8d819c05d0c7b86": {
     "views": [
      {
       "cell_index": 18
      }
     ]
    }
   },
   "version": "1.2.0"
  }
 },
 "nbformat": 4,
 "nbformat_minor": 1
}
