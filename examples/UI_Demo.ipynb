{
 "cells": [
  {
   "cell_type": "code",
   "execution_count": null,
   "metadata": {
    "extensions": {
     "jupyter_dashboards": {
      "version": 1,
      "views": {
       "grid_default": {
        "hidden": true
       },
       "report_default": {}
      }
     }
    }
   },
   "outputs": [],
   "source": [
    "import os,sys\n",
    "sys.path.insert(0, os.path.abspath('..'))\n",
    "import hublib.ui as ui"
   ]
  },
  {
   "cell_type": "markdown",
   "metadata": {
    "extensions": {
     "jupyter_dashboards": {
      "version": 1,
      "views": {
       "grid_default": {
        "col": 0,
        "height": 4,
        "hidden": false,
        "row": 0,
        "width": 4
       },
       "report_default": {}
      }
     }
    }
   },
   "source": [
    "## Number (Float) Input with Units"
   ]
  },
  {
   "cell_type": "code",
   "execution_count": null,
   "metadata": {
    "extensions": {
     "jupyter_dashboards": {
      "version": 1,
      "views": {
       "grid_default": {
        "col": 4,
        "height": 4,
        "hidden": false,
        "row": 0,
        "width": 4
       },
       "report_default": {}
      }
     }
    }
   },
   "outputs": [],
   "source": [
    "e1 = ui.Number(\n",
    "        name='E1',\n",
    "        description=\"Longitudinal Young's Modulus\",\n",
    "        units='GPa',\n",
    "        min='0 GPa',\n",
    "        max='500 GPa',\n",
    "        value='138 GPa'\n",
    "    )\n",
    "e1"
   ]
  },
  {
   "cell_type": "markdown",
   "metadata": {
    "extensions": {
     "jupyter_dashboards": {
      "version": 1,
      "views": {
       "grid_default": {
        "col": 8,
        "height": 4,
        "hidden": false,
        "row": 0,
        "width": 4
       },
       "report_default": {}
      }
     }
    }
   },
   "source": [
    "You can control the width."
   ]
  },
  {
   "cell_type": "code",
   "execution_count": null,
   "metadata": {
    "extensions": {
     "jupyter_dashboards": {
      "version": 1,
      "views": {
       "grid_default": {
        "col": 0,
        "height": 4,
        "hidden": false,
        "row": 4,
        "width": 4
       },
       "report_default": {}
      }
     }
    }
   },
   "outputs": [],
   "source": [
    "e1 = ui.Number(\n",
    "        name='E1',\n",
    "        description=\"Longitudinal Young's Modulus\",\n",
    "        units='GPa',\n",
    "        min='0 GPa',\n",
    "        max='500 GPa',\n",
    "        value='138 GPa',\n",
    "        width='30%'\n",
    "    )\n",
    "e1"
   ]
  },
  {
   "cell_type": "code",
   "execution_count": null,
   "metadata": {
    "extensions": {
     "jupyter_dashboards": {
      "version": 1,
      "views": {
       "grid_default": {
        "col": 4,
        "height": 4,
        "hidden": false,
        "row": 4,
        "width": 4
       },
       "report_default": {}
      }
     }
    }
   },
   "outputs": [],
   "source": [
    "e1.value"
   ]
  },
  {
   "cell_type": "code",
   "execution_count": null,
   "metadata": {
    "extensions": {
     "jupyter_dashboards": {
      "version": 1,
      "views": {
       "grid_default": {
        "col": 8,
        "height": 4,
        "hidden": false,
        "row": 4,
        "width": 4
       },
       "report_default": {}
      }
     }
    }
   },
   "outputs": [],
   "source": [
    "e1.str"
   ]
  },
  {
   "cell_type": "markdown",
   "metadata": {
    "extensions": {
     "jupyter_dashboards": {
      "version": 1,
      "views": {
       "grid_default": {
        "col": 0,
        "height": 4,
        "hidden": false,
        "row": 8,
        "width": 4
       },
       "report_default": {}
      }
     }
    }
   },
   "source": [
    "## Integer Input\n",
    "Integer inputs do not have units"
   ]
  },
  {
   "cell_type": "code",
   "execution_count": null,
   "metadata": {
    "extensions": {
     "jupyter_dashboards": {
      "version": 1,
      "views": {
       "grid_default": {
        "col": 4,
        "height": 4,
        "hidden": false,
        "row": 8,
        "width": 4
       },
       "report_default": {}
      }
     }
    }
   },
   "outputs": [],
   "source": [
    "e1 = ui.Integer(\n",
    "        name='Loops',\n",
    "        description=\"Number of Loops to Run\",\n",
    "        min=0,\n",
    "        max=500,\n",
    "        value=1\n",
    "    )\n",
    "e1"
   ]
  },
  {
   "cell_type": "markdown",
   "metadata": {
    "extensions": {
     "jupyter_dashboards": {
      "version": 1,
      "views": {
       "grid_default": {
        "col": 8,
        "height": 4,
        "hidden": false,
        "row": 8,
        "width": 4
       },
       "report_default": {}
      }
     }
    }
   },
   "source": [
    "## Checkbutton"
   ]
  },
  {
   "cell_type": "code",
   "execution_count": null,
   "metadata": {
    "extensions": {
     "jupyter_dashboards": {
      "version": 1,
      "views": {
       "grid_default": {
        "col": 0,
        "height": 4,
        "hidden": false,
        "row": 12,
        "width": 4
       },
       "report_default": {}
      }
     }
    }
   },
   "outputs": [],
   "source": [
    "check = ui.Checkbox('Advanced Options', 'Show the Advanced Options', value=False, width='50%')\n",
    "check"
   ]
  },
  {
   "cell_type": "code",
   "execution_count": null,
   "metadata": {
    "extensions": {
     "jupyter_dashboards": {
      "version": 1,
      "views": {
       "grid_default": {
        "col": 4,
        "height": 4,
        "hidden": false,
        "row": 12,
        "width": 4
       },
       "report_default": {}
      }
     }
    }
   },
   "outputs": [],
   "source": [
    "check.value"
   ]
  },
  {
   "cell_type": "markdown",
   "metadata": {
    "extensions": {
     "jupyter_dashboards": {
      "version": 1,
      "views": {
       "grid_default": {
        "col": 8,
        "height": 4,
        "hidden": false,
        "row": 12,
        "width": 4
       },
       "report_default": {}
      }
     }
    }
   },
   "source": [
    "## Radiobutton"
   ]
  },
  {
   "cell_type": "code",
   "execution_count": null,
   "metadata": {
    "extensions": {
     "jupyter_dashboards": {
      "version": 1,
      "views": {
       "grid_default": {
        "col": 0,
        "height": 6,
        "hidden": false,
        "row": 16,
        "width": 4
       },
       "report_default": {}
      }
     }
    }
   },
   "outputs": [],
   "source": [
    "r = ui.Radiobuttons(\n",
    "            name='Nut',\n",
    "            description=\"Type of nut to eat.\",\n",
    "            value='almond',\n",
    "            options=['peanut', 'walnut', 'almond', 'pecan'],\n",
    "            width='20%'\n",
    "        )\n",
    "r"
   ]
  },
  {
   "cell_type": "markdown",
   "metadata": {
    "extensions": {
     "jupyter_dashboards": {
      "version": 1,
      "views": {
       "grid_default": {
        "col": 4,
        "height": 4,
        "hidden": false,
        "row": 16,
        "width": 4
       },
       "report_default": {}
      }
     }
    }
   },
   "source": [
    "## Togglebutton"
   ]
  },
  {
   "cell_type": "code",
   "execution_count": null,
   "metadata": {
    "extensions": {
     "jupyter_dashboards": {
      "version": 1,
      "views": {
       "grid_default": {
        "col": 8,
        "height": 5,
        "hidden": false,
        "row": 16,
        "width": 4
       },
       "report_default": {}
      }
     }
    }
   },
   "outputs": [],
   "source": [
    "tb = ui.Togglebuttons(\n",
    "            name='Nut',\n",
    "            description=\"Type of nut to eat.\",\n",
    "            value='almond',\n",
    "            options=['peanut', 'walnut', 'almond', 'pecan'],\n",
    "            width='50%'\n",
    "        )\n",
    "tb"
   ]
  },
  {
   "cell_type": "code",
   "execution_count": null,
   "metadata": {
    "extensions": {
     "jupyter_dashboards": {
      "version": 1,
      "views": {
       "grid_default": {
        "col": 4,
        "height": 4,
        "hidden": false,
        "row": 20,
        "width": 4
       },
       "report_default": {}
      }
     }
    }
   },
   "outputs": [],
   "source": [
    "dd = ui.Dropdown(\n",
    "            name='Nut',\n",
    "            description=\"Type of nut to eat.\",\n",
    "            value='almond',\n",
    "            options=['peanut', 'walnut', 'almond', 'pecan'],\n",
    "            width='30%'\n",
    "        )\n",
    "dd"
   ]
  },
  {
   "cell_type": "code",
   "execution_count": null,
   "metadata": {},
   "outputs": [],
   "source": [
    "import ipywidgets as widgets\n",
    "widgets.Tab(children=[tb.w, dd.w])"
   ]
  },
  {
   "cell_type": "code",
   "execution_count": null,
   "metadata": {
    "extensions": {
     "jupyter_dashboards": {
      "version": 1,
      "views": {
       "grid_default": {
        "col": 8,
        "height": 4,
        "hidden": false,
        "row": 21,
        "width": 4
       },
       "report_default": {}
      }
     }
    }
   },
   "outputs": [],
   "source": [
    "xstr = ui.String(name=\"Name\", description='Name (First and Last)', value='<name>')\n",
    "xstr"
   ]
  },
  {
   "cell_type": "code",
   "execution_count": null,
   "metadata": {
    "extensions": {
     "jupyter_dashboards": {
      "version": 1,
      "views": {
       "grid_default": {
        "col": 0,
        "height": 4,
        "hidden": false,
        "row": 22,
        "width": 4
       },
       "report_default": {}
      }
     }
    }
   },
   "outputs": [],
   "source": [
    "xtxt = ui.Text(name=\"Description\", description='Experiment Description', value='')\n",
    "xtxt"
   ]
  },
  {
   "cell_type": "markdown",
   "metadata": {
    "extensions": {
     "jupyter_dashboards": {
      "version": 1,
      "views": {
       "grid_default": {
        "col": 4,
        "height": 4,
        "hidden": false,
        "row": 24,
        "width": 4
       },
       "report_default": {}
      }
     }
    }
   },
   "source": [
    "# Grouping\n",
    "Collections of UI elements can be collected in Tabs and Forms."
   ]
  },
  {
   "cell_type": "code",
   "execution_count": null,
   "metadata": {
    "extensions": {
     "jupyter_dashboards": {
      "version": 1,
      "views": {
       "grid_default": {
        "col": 8,
        "height": 4,
        "hidden": false,
        "row": 25,
        "width": 4
       },
       "report_default": {}
      }
     }
    }
   },
   "outputs": [],
   "source": [
    "ui.Tab([e1,tb,xstr])"
   ]
  },
  {
   "cell_type": "code",
   "execution_count": null,
   "metadata": {
    "extensions": {
     "jupyter_dashboards": {
      "version": 1,
      "views": {
       "grid_default": {
        "col": 0,
        "height": 7,
        "hidden": false,
        "row": 26,
        "width": 4
       },
       "report_default": {}
      }
     }
    }
   },
   "outputs": [],
   "source": [
    "ui.Form([e1,tb,xstr])"
   ]
  },
  {
   "cell_type": "code",
   "execution_count": null,
   "metadata": {
    "extensions": {
     "jupyter_dashboards": {
      "version": 1,
      "views": {
       "grid_default": {
        "col": 4,
        "height": 9,
        "hidden": false,
        "row": 28,
        "width": 4
       },
       "report_default": {}
      }
     }
    }
   },
   "outputs": [],
   "source": [
    "f1 = ui.Form([e1,tb,xstr], name='My Parameters')\n",
    "f1"
   ]
  },
  {
   "cell_type": "code",
   "execution_count": null,
   "metadata": {
    "extensions": {
     "jupyter_dashboards": {
      "version": 1,
      "views": {
       "grid_default": {
        "col": 8,
        "height": 6,
        "hidden": false,
        "row": 29,
        "width": 4
       },
       "report_default": {}
      }
     }
    }
   },
   "outputs": [],
   "source": [
    "f2 = ui.Form([check, dd, xtxt], name='More Parameters')\n",
    "f2"
   ]
  },
  {
   "cell_type": "code",
   "execution_count": null,
   "metadata": {
    "extensions": {
     "jupyter_dashboards": {
      "version": 1,
      "views": {
       "grid_default": {
        "col": 0,
        "height": 11,
        "hidden": false,
        "row": 33,
        "width": 4
       },
       "report_default": {}
      }
     }
    }
   },
   "outputs": [],
   "source": [
    "ui.Tab([f1,f2])"
   ]
  },
  {
   "cell_type": "code",
   "execution_count": null,
   "metadata": {
    "extensions": {
     "jupyter_dashboards": {
      "version": 1,
      "views": {
       "grid_default": {
        "col": 8,
        "height": 14,
        "hidden": false,
        "row": 35,
        "width": 4
       },
       "report_default": {}
      }
     }
    }
   },
   "outputs": [],
   "source": [
    "ff = ui.Form([f1,f2])\n",
    "ff"
   ]
  },
  {
   "cell_type": "code",
   "execution_count": null,
   "metadata": {
    "extensions": {
     "jupyter_dashboards": {
      "version": 1,
      "views": {
       "grid_default": {
        "col": 4,
        "height": 9,
        "hidden": false,
        "row": 37,
        "width": 4
       },
       "report_default": {}
      }
     }
    }
   },
   "outputs": [],
   "source": [
    "f1 = ui.Form([e1,tb,xstr])\n",
    "f2 = ui.Form([check, dd, xtxt])\n",
    "ui.Tab([f1,f2], titles=['My Parameters', 'More Parameters'])\n"
   ]
  },
  {
   "cell_type": "markdown",
   "metadata": {
    "extensions": {
     "jupyter_dashboards": {
      "version": 1,
      "views": {
       "grid_default": {
        "col": 0,
        "height": 4,
        "hidden": false,
        "row": 44,
        "width": 4
       },
       "report_default": {}
      }
     }
    }
   },
   "source": [
    "## Disable UI Elements\n",
    "You can disable individual elements or all the elements in a Form or Tab."
   ]
  },
  {
   "cell_type": "code",
   "execution_count": null,
   "metadata": {
    "collapsed": true,
    "extensions": {
     "jupyter_dashboards": {
      "version": 1,
      "views": {
       "grid_default": {
        "hidden": true
       },
       "report_default": {}
      }
     }
    }
   },
   "outputs": [],
   "source": [
    "ff.disabled = True"
   ]
  },
  {
   "cell_type": "code",
   "execution_count": null,
   "metadata": {
    "collapsed": true,
    "extensions": {
     "jupyter_dashboards": {
      "version": 1,
      "views": {
       "grid_default": {
        "hidden": true
       },
       "report_default": {}
      }
     }
    }
   },
   "outputs": [],
   "source": [
    "ff.disabled = False"
   ]
  },
  {
   "cell_type": "markdown",
   "metadata": {
    "extensions": {
     "jupyter_dashboards": {
      "version": 1,
      "views": {
       "grid_default": {
        "col": 4,
        "height": 4,
        "hidden": false,
        "row": 46,
        "width": 4
       },
       "report_default": {}
      }
     }
    }
   },
   "source": [
    "## Visibility\n",
    "\n",
    "You can make elements visible or invisible."
   ]
  },
  {
   "cell_type": "code",
   "execution_count": null,
   "metadata": {
    "collapsed": true,
    "extensions": {
     "jupyter_dashboards": {
      "version": 1,
      "views": {
       "grid_default": {
        "hidden": true
       },
       "report_default": {}
      }
     }
    }
   },
   "outputs": [],
   "source": [
    "tb.visible = False"
   ]
  },
  {
   "cell_type": "code",
   "execution_count": null,
   "metadata": {
    "collapsed": true,
    "extensions": {
     "jupyter_dashboards": {
      "version": 1,
      "views": {
       "grid_default": {
        "hidden": true
       },
       "report_default": {}
      }
     }
    }
   },
   "outputs": [],
   "source": [
    "tb.visible = True"
   ]
  },
  {
   "cell_type": "markdown",
   "metadata": {
    "extensions": {
     "jupyter_dashboards": {
      "version": 1,
      "views": {
       "grid_default": {
        "col": 0,
        "height": 4,
        "hidden": false,
        "row": 48,
        "width": 4
       },
       "report_default": {}
      }
     }
    }
   },
   "source": [
    "## Callbacks\n",
    "\n",
    "Each non-grouping UI element can callback a function you provide when the value changes."
   ]
  },
  {
   "cell_type": "code",
   "execution_count": null,
   "metadata": {
    "extensions": {
     "jupyter_dashboards": {
      "version": 1,
      "views": {
       "grid_default": {
        "col": 8,
        "height": 5,
        "hidden": false,
        "row": 49,
        "width": 4
       },
       "report_default": {}
      }
     }
    }
   },
   "outputs": [],
   "source": [
    "def something_changed(name, value):\n",
    "    print(\"%s changed to %s\" % (name, value))\n",
    "\n",
    "tbc = ui.Togglebuttons(\n",
    "            name='Nut',\n",
    "            description=\"Type of nut to eat.\",\n",
    "            value='almond',\n",
    "            options=['peanut', 'walnut', 'almond', 'pecan'],\n",
    "            cb=something_changed,\n",
    "            width='50%'\n",
    "        )\n",
    "tbc"
   ]
  },
  {
   "cell_type": "markdown",
   "metadata": {
    "extensions": {
     "jupyter_dashboards": {
      "version": 1,
      "views": {
       "grid_default": {
        "col": 0,
        "height": 5,
        "hidden": false,
        "row": 54,
        "width": 12
       },
       "report_default": {}
      }
     }
    }
   },
   "source": [
    "# Interactive UI\n",
    "\n",
    "We can use callbacks to modify the UI dynamically.\n",
    "\n",
    "### Disabling Elements"
   ]
  },
  {
   "cell_type": "code",
   "execution_count": null,
   "metadata": {
    "extensions": {
     "jupyter_dashboards": {
      "version": 1,
      "views": {
       "grid_default": {
        "col": 0,
        "height": 11,
        "hidden": false,
        "row": 59,
        "width": 4
       },
       "report_default": {}
      }
     }
    }
   },
   "outputs": [],
   "source": [
    "def set_advanced(name, val):\n",
    "    opt.disabled = not val\n",
    "\n",
    "adv_check = ui.Checkbox('Advanced Options', 'Show the Advanced Options', value=False, width='50%', cb=set_advanced)\n",
    "\n",
    "opt = ui.Togglebuttons(\n",
    "            name='Options',\n",
    "            description=\"Nut Options\",\n",
    "            value='None',\n",
    "            options=['None', 'Toasted', 'Roasted', 'Glazed', 'Salted'],\n",
    "            width='50%',\n",
    "            disabled=True,  # initial state\n",
    "        )\n",
    "ui.Form([adv_check, tb, opt])"
   ]
  },
  {
   "cell_type": "markdown",
   "metadata": {
    "collapsed": true,
    "extensions": {
     "jupyter_dashboards": {
      "version": 1,
      "views": {
       "grid_default": {
        "col": 4,
        "height": 4,
        "hidden": false,
        "row": 50,
        "width": 4
       },
       "report_default": {}
      }
     }
    }
   },
   "source": [
    "### Hiding Elements Dynamically"
   ]
  },
  {
   "cell_type": "code",
   "execution_count": null,
   "metadata": {
    "extensions": {
     "jupyter_dashboards": {
      "version": 1,
      "views": {
       "grid_default": {
        "col": 4,
        "height": 11,
        "hidden": false,
        "row": 59,
        "width": 4
       },
       "report_default": {}
      }
     }
    }
   },
   "outputs": [],
   "source": [
    "def show_advanced(name, val):\n",
    "    opt.visible = val\n",
    "\n",
    "adv_check = ui.Checkbox('Advanced Options', 'Show the Advanced Options', value=False, width='50%', cb=show_advanced)\n",
    "opt.visible = False\n",
    "ui.Form([adv_check, tb, opt])"
   ]
  },
  {
   "cell_type": "markdown",
   "metadata": {
    "extensions": {
     "jupyter_dashboards": {
      "version": 1,
      "views": {
       "grid_default": {
        "col": 8,
        "height": 4,
        "hidden": false,
        "row": 59,
        "width": 4
       },
       "report_default": {}
      }
     }
    }
   },
   "source": [
    "# A More Complicated Example"
   ]
  },
  {
   "cell_type": "code",
   "execution_count": null,
   "metadata": {
    "extensions": {
     "jupyter_dashboards": {
      "version": 1,
      "views": {
       "grid_default": {
        "col": 8,
        "height": 12,
        "hidden": false,
        "row": 63,
        "width": 4
       },
       "report_default": {}
      }
     }
    }
   },
   "outputs": [],
   "source": [
    "width='30%'\n",
    "ice_cream = ui.Dropdown(\n",
    "            name='Ice Cream',\n",
    "            description=\"Ice Cream Flavor.\",\n",
    "            value='Vanilla',\n",
    "            options=['Vanilla', 'Strawberry', 'Chocolate', 'Pistachio'],\n",
    "            width=width\n",
    "        )\n",
    "topping = ui.Radiobuttons(\n",
    "            name='Topping',\n",
    "            description=\"Ice Cream Topping\",\n",
    "            value='None',\n",
    "            options=['None', 'Fudge', 'Caramel', 'Marshmallow'],\n",
    "            width=width\n",
    "        )\n",
    "cherry = ui.Checkbox('Cherry', 'Cherry on Top?', value=False, width=width)\n",
    "brownie = ui.Togglebuttons('Brownie', \"Brownie on the bottom?\", value='No', options=['No', 'Yes'], width=width)\n",
    "sundae = ui.Form([ice_cream, topping, brownie, cherry], name='Sundae')\n",
    "sundae"
   ]
  },
  {
   "cell_type": "code",
   "execution_count": null,
   "metadata": {
    "extensions": {
     "jupyter_dashboards": {
      "version": 1,
      "views": {
       "grid_default": {
        "col": 0,
        "height": 6,
        "hidden": false,
        "row": 70,
        "width": 4
       },
       "report_default": {}
      }
     }
    }
   },
   "outputs": [],
   "source": [
    "crust = ui.Dropdown(\n",
    "            name='Crust',\n",
    "            description=\"Pizza Crust\",\n",
    "            value='Thin',\n",
    "            options=['Thin', 'Hand-Tossed', 'Pan', 'Gluten-Free'],\n",
    "            width=width\n",
    "        )\n",
    "sauce = ui.Dropdown(\n",
    "            name='Sauce',\n",
    "            description=\"Sauce Type\",\n",
    "            value='Regular',\n",
    "            options=['Regular', 'Robust', 'Pesto'],\n",
    "            width=width\n",
    "        )\n",
    "cheese = ui.Checkbox('Extra Cheese', '', value=False, width=width)\n",
    "pizza = ui.Form([crust, sauce, cheese], name='Pizza')\n",
    "pizza\n"
   ]
  },
  {
   "cell_type": "code",
   "execution_count": null,
   "metadata": {
    "extensions": {
     "jupyter_dashboards": {
      "version": 1,
      "views": {
       "grid_default": {
        "col": 4,
        "height": 8,
        "hidden": false,
        "row": 70,
        "width": 4
       },
       "report_default": {}
      }
     }
    }
   },
   "outputs": [],
   "source": [
    "ui.Tab([pizza, sundae])"
   ]
  }
 ],
 "metadata": {
  "extensions": {
   "jupyter_dashboards": {
    "activeView": "grid_default",
    "version": 1,
    "views": {
     "grid_default": {
      "cellMargin": 10,
      "defaultCellHeight": 20,
      "maxColumns": 12,
      "name": "grid",
      "type": "grid"
     },
     "report_default": {
      "name": "report",
      "type": "report"
     }
    }
   }
  },
  "kernelspec": {
   "display_name": "Python2",
   "language": "python",
   "name": "python2"
  },
  "language_info": {
   "codemirror_mode": {
    "name": "ipython",
    "version": 2
   },
   "file_extension": ".py",
   "mimetype": "text/x-python",
   "name": "python",
   "nbconvert_exporter": "python",
   "pygments_lexer": "ipython2",
   "version": "2.7.13"
  },
  "widgets": {
   "state": {
    "0d31088cb6fd42b592f0c1c9292ef3d2": {
     "views": [
      {
       "cell_index": 23
      }
     ]
    },
    "15c2dbe1dd594108b0aa9f5659ea67ac": {
     "views": [
      {
       "cell_index": 11
      }
     ]
    },
    "210972ff394f4a6a8456bc7468ba01e6": {
     "views": [
      {
       "cell_index": 24
      }
     ]
    },
    "25d3735758334bc3a96a2327172b8adb": {
     "views": [
      {
       "cell_index": 27
      }
     ]
    },
    "3545792f4c1b428c8736c9cc9866ae7b": {
     "views": [
      {
       "cell_index": 40
      }
     ]
    },
    "4bf7e7d68ebc4a859a74a3453d44da79": {
     "views": [
      {
       "cell_index": 22
      }
     ]
    },
    "50bcc61671cf454faf7e409aa1f41a5c": {
     "views": [
      {
       "cell_index": 36
      }
     ]
    },
    "6149a6f5cd914bfabfe361bce5dd564f": {
     "views": [
      {
       "cell_index": 20
      }
     ]
    },
    "6155358fb0004fa4bd31cf2db196616c": {
     "views": [
      {
       "cell_index": 5
      }
     ]
    },
    "65013a8730734fe4995ca4769a67d60a": {
     "views": [
      {
       "cell_index": 43
      }
     ]
    },
    "650c5153128b4b4ab5d98c4c2e322c38": {
     "views": [
      {
       "cell_index": 19
      }
     ]
    },
    "6c05daec25a94ed5b908c13c2405da9b": {
     "views": [
      {
       "cell_index": 38
      }
     ]
    },
    "a031fa03f2094ac8a90f0d7115758d7a": {
     "views": [
      {
       "cell_index": 44
      }
     ]
    },
    "afbad63223c0407695d618c21cc683a5": {
     "views": [
      {
       "cell_index": 42
      }
     ]
    },
    "b566c6edc92248e4962cbcba085a0e69": {
     "views": [
      {
       "cell_index": 17
      }
     ]
    },
    "b7d795373e0249baa46dcf505bb72314": {
     "views": [
      {
       "cell_index": 9
      }
     ]
    },
    "bf7e9b1b86e1465ab147d5f87ee21d77": {
     "views": [
      {
       "cell_index": 26
      }
     ]
    },
    "d7a506c1f2f2412a8d039af98a531f3e": {
     "views": [
      {
       "cell_index": 25
      }
     ]
    },
    "d8f4322158c145e0831e4ed6367eaf0e": {
     "views": [
      {
       "cell_index": 14
      }
     ]
    },
    "de0ecd1c5cba4341a24072101fb0a372": {
     "views": [
      {
       "cell_index": 16
      }
     ]
    },
    "e352613f58414fefbcfa32749a27a9ab": {
     "views": [
      {
       "cell_index": 3
      }
     ]
    },
    "e6f7e5449c244f1fb9eeb0c18c193744": {
     "views": [
      {
       "cell_index": 28
      }
     ]
    },
    "f376c4671b164f81b8d819c05d0c7b86": {
     "views": [
      {
       "cell_index": 18
      }
     ]
    }
   },
   "version": "1.2.0"
  }
 },
 "nbformat": 4,
 "nbformat_minor": 1
}
