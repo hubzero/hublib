{
 "cells": [
  {
   "cell_type": "code",
   "execution_count": null,
   "metadata": {},
   "outputs": [],
   "source": [
    "import os,sys\n",
    "sys.path.insert(0, os.path.abspath('..'))\n",
    "from hublib.ui import FileUpload"
   ]
  },
  {
   "cell_type": "code",
   "execution_count": null,
   "metadata": {
    "collapsed": true
   },
   "outputs": [],
   "source": [
    "# Create a callback function that will be called when files are uploaded\n",
    "def mycb(name, val):\n",
    "    print(\"CB %s (length = %s bytes)\" % (name, len(val)))"
   ]
  },
  {
   "cell_type": "markdown",
   "metadata": {},
   "source": [
    "## Single File Uploads"
   ]
  },
  {
   "cell_type": "code",
   "execution_count": null,
   "metadata": {},
   "outputs": [],
   "source": [
    "# this will allow you to select a single file to be uploaded\n",
    "f = FileUpload(\"Really Interesting File\", \n",
    "               \"This is a description that appears when the mouse hovers over the name.\", \n",
    "                cb=mycb)\n",
    "f"
   ]
  },
  {
   "cell_type": "code",
   "execution_count": null,
   "metadata": {},
   "outputs": [],
   "source": [
    "# we can get a list of filenames to be uploaded\n",
    "f.list()"
   ]
  },
  {
   "cell_type": "code",
   "execution_count": null,
   "metadata": {},
   "outputs": [],
   "source": [
    "# you can also get the sizes\n",
    "f.list(sizes=True)"
   ]
  },
  {
   "cell_type": "code",
   "execution_count": null,
   "metadata": {},
   "outputs": [],
   "source": [
    "# for single file uploads, you can get the name simply\n",
    "f.name()"
   ]
  },
  {
   "cell_type": "markdown",
   "metadata": {},
   "source": [
    "You must save the data"
   ]
  },
  {
   "cell_type": "code",
   "execution_count": null,
   "metadata": {},
   "outputs": [],
   "source": [
    "# for simple files\n",
    "f.data()"
   ]
  },
  {
   "cell_type": "code",
   "execution_count": null,
   "metadata": {},
   "outputs": [],
   "source": [
    "# f.save() - saves using the same name as the uploaded file\n",
    "# f.save(name) - saves as a new name\n",
    "f.save('tmpfile')\n",
    "# check it\n",
    "!cat tmpfile"
   ]
  },
  {
   "cell_type": "markdown",
   "metadata": {},
   "source": [
    "## Multiple File Uploads"
   ]
  },
  {
   "cell_type": "code",
   "execution_count": null,
   "metadata": {},
   "outputs": [],
   "source": [
    "# This will allow you to select a multiple files to be uploaded.\n",
    "f = FileUpload(\"Really Interesting File\", \n",
    "               \"This is a description that appears when the mouse hovers over the name.\", \n",
    "                cb=mycb, multiple=True)\n",
    "f"
   ]
  },
  {
   "cell_type": "code",
   "execution_count": null,
   "metadata": {},
   "outputs": [],
   "source": [
    "f.list()"
   ]
  },
  {
   "cell_type": "code",
   "execution_count": null,
   "metadata": {},
   "outputs": [],
   "source": [
    "f.name(1)"
   ]
  },
  {
   "cell_type": "code",
   "execution_count": null,
   "metadata": {},
   "outputs": [],
   "source": [
    "f.data(1)"
   ]
  },
  {
   "cell_type": "code",
   "execution_count": null,
   "metadata": {},
   "outputs": [],
   "source": [
    "f.save('tmpfile0', 0)\n",
    "f.save('tmpfile1', 1)\n",
    "!cat tmpfile1"
   ]
  },
  {
   "cell_type": "markdown",
   "metadata": {},
   "source": [
    "## Size Limitations\n",
    "\n",
    "Because the files are uploaded into memory before being written, there are limits to their size.  Trying to upload too\n",
    "large a file could crash your browser or the python kernel.  The default limit is 1MB (1048576 bytes).\n",
    "You can set your own limit."
   ]
  },
  {
   "cell_type": "code",
   "execution_count": null,
   "metadata": {},
   "outputs": [],
   "source": [
    "# set a per-file limit of 1000 bytes.\n",
    "f = FileUpload(\"Some Files\", \n",
    "                \"\",\n",
    "                cb=mycb, \n",
    "                multiple=True, \n",
    "                maxsize=1000)\n",
    "f"
   ]
  },
  {
   "cell_type": "markdown",
   "metadata": {
    "collapsed": true
   },
   "source": [
    "## Basic Widget without Label\n",
    "Just display the \".input\" part of the widget."
   ]
  },
  {
   "cell_type": "code",
   "execution_count": null,
   "metadata": {},
   "outputs": [],
   "source": [
    "fb = FileUpload(\"Some Files\", \n",
    "                \"\",\n",
    "                cb=mycb, \n",
    "                multiple=True)\n",
    "fb.input"
   ]
  },
  {
   "cell_type": "code",
   "execution_count": null,
   "metadata": {},
   "outputs": [],
   "source": [
    "fb.name()"
   ]
  },
  {
   "cell_type": "markdown",
   "metadata": {},
   "source": [
    "## ipywidgets compatibility"
   ]
  },
  {
   "cell_type": "code",
   "execution_count": null,
   "metadata": {},
   "outputs": [],
   "source": [
    "from ipywidgets import HBox, Button\n",
    "\n",
    "b = Button(description='Button1')\n",
    "\n",
    "HBox([b, fb.w])"
   ]
  },
  {
   "cell_type": "code",
   "execution_count": null,
   "metadata": {},
   "outputs": [],
   "source": [
    "HBox([b, fb.input])"
   ]
  }
 ],
 "metadata": {
  "kernelspec": {
   "display_name": "Python2",
   "language": "python",
   "name": "python2"
  },
  "language_info": {
   "codemirror_mode": {
    "name": "ipython",
    "version": 2
   },
   "file_extension": ".py",
   "mimetype": "text/x-python",
   "name": "python",
   "nbconvert_exporter": "python",
   "pygments_lexer": "ipython2",
   "version": "2.7.13"
  },
  "widgets": {
   "state": {
    "2ca89d35882b4b0f9c535346180e03c4": {
     "views": [
      {
       "cell_index": 19
      }
     ]
    },
    "7f79c5f5342949da93cb7081173359c5": {
     "views": [
      {
       "cell_index": 17
      }
     ]
    },
    "9e82072e17614e70ba7519e7329097f6": {
     "views": [
      {
       "cell_index": 3
      }
     ]
    },
    "e1626facbf6f420ba272652ce52c8b70": {
     "views": [
      {
       "cell_index": 11
      }
     ]
    }
   },
   "version": "1.2.0"
  }
 },
 "nbformat": 4,
 "nbformat_minor": 1
}
