{
 "cells": [
  {
   "cell_type": "code",
   "execution_count": null,
   "metadata": {},
   "outputs": [],
   "source": [
    "import os,sys\n",
    "sys.path.insert(0, os.path.abspath('..'))\n",
    "from hublib.ui import FileUpload"
   ]
  },
  {
   "cell_type": "code",
   "execution_count": null,
   "metadata": {},
   "outputs": [],
   "source": [
    "# called when all files finish uploading\n",
    "def done_cb(w, name):\n",
    "    # Do something with the files here...\n",
    "    # We just print their names\n",
    "    print(\"%s uploaded\" % name)\n",
    "    \n",
    "    # reset clears and re-enables the widget for more uploads\n",
    "    # You may want to do this somewhere else, depending on your GUI\n",
    "    w.reset()"
   ]
  },
  {
   "cell_type": "markdown",
   "metadata": {},
   "source": [
    "## Single File Uploads"
   ]
  },
  {
   "cell_type": "code",
   "execution_count": null,
   "metadata": {},
   "outputs": [],
   "source": [
    "# this will allow you to select a single file to be uploaded\n",
    "f = FileUpload(\"Really Interesting File\", \n",
    "               \"This is a description that appears when the mouse hovers over the name.\",\n",
    "               dir='tmpdir',\n",
    "               cb=done_cb,\n",
    "               maxsize='10M')\n",
    "f"
   ]
  },
  {
   "cell_type": "markdown",
   "metadata": {},
   "source": [
    "The list of files was sent to the callback, but you can also get the list with the **list()** method"
   ]
  },
  {
   "cell_type": "code",
   "execution_count": null,
   "metadata": {},
   "outputs": [],
   "source": [
    "f.list()"
   ]
  },
  {
   "cell_type": "code",
   "execution_count": null,
   "metadata": {},
   "outputs": [],
   "source": [
    "# check it\n",
    "!ls -l tmpdir"
   ]
  },
  {
   "cell_type": "code",
   "execution_count": null,
   "metadata": {},
   "outputs": [],
   "source": [
    "!rm -rf tmpdir"
   ]
  },
  {
   "cell_type": "markdown",
   "metadata": {},
   "source": [
    "## Multiple File Uploads"
   ]
  },
  {
   "cell_type": "code",
   "execution_count": null,
   "metadata": {
    "scrolled": false
   },
   "outputs": [],
   "source": [
    "# This will allow you to select a multiple files to be uploaded.\n",
    "fm = FileUpload(\"Really Interesting Files\", \n",
    "               \"This is a description that appears when the mouse hovers over the name.\", \n",
    "                cb=done_cb, maxnum=3, maxsize='10M')\n",
    "fm"
   ]
  },
  {
   "cell_type": "code",
   "execution_count": null,
   "metadata": {},
   "outputs": [],
   "source": [
    "# The default directory is 'tmpdir'.  Lets check it\n",
    "!ls -l tmpdir"
   ]
  },
  {
   "cell_type": "code",
   "execution_count": null,
   "metadata": {},
   "outputs": [],
   "source": [
    "fm.list()"
   ]
  },
  {
   "cell_type": "markdown",
   "metadata": {
    "collapsed": true
   },
   "source": [
    "## Basic Widget without Label\n",
    "Just display the \".input\" part of the widget."
   ]
  },
  {
   "cell_type": "code",
   "execution_count": null,
   "metadata": {
    "scrolled": false
   },
   "outputs": [],
   "source": [
    "fb = FileUpload(\"Some Files\", \n",
    "                \"\",\n",
    "                maxsize='1G',\n",
    "                cb=done_cb,\n",
    "                maxnum=10,\n",
    "                basic=True)\n",
    "fb"
   ]
  },
  {
   "cell_type": "markdown",
   "metadata": {},
   "source": [
    "## ipywidgets compatibility"
   ]
  },
  {
   "cell_type": "code",
   "execution_count": null,
   "metadata": {},
   "outputs": [],
   "source": [
    "from ipywidgets import VBox, Button\n",
    "\n",
    "b = Button(description='Button1')\n",
    "fx = FileUpload(\"Some Files\", \n",
    "                \"\",\n",
    "                maxsize='1G',\n",
    "                cb=done_cb,\n",
    "                maxnum=10,\n",
    "                basic=True)\n",
    "VBox([b, fx.w])"
   ]
  }
 ],
 "metadata": {
  "kernelspec": {
   "display_name": "Python2",
   "language": "python",
   "name": "python2"
  },
  "language_info": {
   "codemirror_mode": {
    "name": "ipython",
    "version": 2
   },
   "file_extension": ".py",
   "mimetype": "text/x-python",
   "name": "python",
   "nbconvert_exporter": "python",
   "pygments_lexer": "ipython2",
   "version": "2.7.14"
  },
  "widgets": {
   "state": {
    "2ca89d35882b4b0f9c535346180e03c4": {
     "views": [
      {
       "cell_index": 19
      }
     ]
    },
    "7f79c5f5342949da93cb7081173359c5": {
     "views": [
      {
       "cell_index": 17
      }
     ]
    },
    "9e82072e17614e70ba7519e7329097f6": {
     "views": [
      {
       "cell_index": 3
      }
     ]
    },
    "e1626facbf6f420ba272652ce52c8b70": {
     "views": [
      {
       "cell_index": 11
      }
     ]
    }
   },
   "version": "1.2.0"
  }
 },
 "nbformat": 4,
 "nbformat_minor": 1
}
