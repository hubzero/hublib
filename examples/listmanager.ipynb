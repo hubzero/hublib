{
 "cells": [
  {
   "cell_type": "markdown",
   "metadata": {},
   "source": [
    "# List Manager"
   ]
  },
  {
   "cell_type": "code",
   "execution_count": 1,
   "metadata": {
    "collapsed": true,
    "scrolled": true
   },
   "outputs": [],
   "source": [
    "import os,sys\n",
    "sys.path.insert(0, os.path.abspath('..'))\n",
    "from hublib.ui import ListManager\n",
    "from IPython.display import display"
   ]
  },
  {
   "cell_type": "code",
   "execution_count": 2,
   "metadata": {
    "collapsed": true
   },
   "outputs": [],
   "source": [
    "def LMCB(name, val):\n",
    "    print(\"LMCB\", name, val)"
   ]
  },
  {
   "cell_type": "code",
   "execution_count": 3,
   "metadata": {
    "collapsed": true
   },
   "outputs": [],
   "source": [
    "initial_list = ['Subaru Outback', 'Ford Fusion']"
   ]
  },
  {
   "cell_type": "code",
   "execution_count": 4,
   "metadata": {},
   "outputs": [
    {
     "data": {
      "application/javascript": [
       "\n",
       "requirejs.undef('listmanager');\n",
       "\n",
       "define('listmanager', [\"jupyter-js-widgets\"], function(widgets) {\n",
       "\n",
       "    var ListManagerView = widgets.DOMWidgetView.extend({\n",
       "        render: function(){\n",
       "            this.div = document.createElement('div');\n",
       "            this.div.setAttribute('class', 'lmheader');\n",
       "            this.input = document.createElement('input')\n",
       "            this.input.setAttribute('type', 'text');\n",
       "            this.input.setAttribute('placeholder', this.model.get('list_text'));\n",
       "            this.input.setAttribute('style', 'border: none; float: left; width: 90%; padding: 10px');\n",
       "            this.span = document.createElement('span')\n",
       "\n",
       "            if (this.model.get('button_text') === ''){\n",
       "                this.span.setAttribute('class', 'lmaddIcon fa fa-plus fa-1g');\n",
       "            } else {\n",
       "                this.span.innerHTML = this.model.get('button_text');\n",
       "                this.span.setAttribute('class', 'lmaddBtn');\n",
       "            }\n",
       "\n",
       "            this.div.appendChild(this.input);\n",
       "            this.div.appendChild(this.span);\n",
       "            this.el.appendChild(this.div);\n",
       "            this.ul = document.createElement('ul');\n",
       "            this.ul.setAttribute('class', 'lmUL');\n",
       "            this.el.appendChild(this.ul);\n",
       "\n",
       "            // set initial values\n",
       "            var vals =  this.model.get('value');\n",
       "            for (var i = 0; i < vals.length; i++){\n",
       "                this.add_list_element(vals[i]);\n",
       "            }\n",
       "\n",
       "            this.listenTo(this.model, 'change:value', this.value_changed, this);\n",
       "        },\n",
       "\n",
       "        update: function() {\n",
       "            return ListManagerView.__super__.update.apply(this);\n",
       "        },\n",
       "\n",
       "        events: {\n",
       "            // List of events and their handlers.\n",
       "            'change': 'handle_lm_change',\n",
       "        },\n",
       "\n",
       "        value_changed: function() {\n",
       "\n",
       "            // remove the old list\n",
       "            this.ul.innerHTML = '';\n",
       "\n",
       "            var vals =  this.model.get('value');\n",
       "            for (var i = 0; i < vals.length; i++){\n",
       "                this.add_list_element(vals[i]);\n",
       "            }\n",
       "        },\n",
       "\n",
       "        add_list_element: function(val) {\n",
       "            if (val === '') {\n",
       "                return\n",
       "            }\n",
       "            var li = document.createElement(\"li\");\n",
       "            var t = document.createTextNode(val);\n",
       "            li.setAttribute('class', 'lmValue');\n",
       "            li.appendChild(t);\n",
       "\n",
       "            // clear name from input box\n",
       "            this.input.value = \"\";\n",
       "\n",
       "            var span = document.createElement(\"SPAN\");\n",
       "            var txt = document.createTextNode(\"×\");\n",
       "            span.className = \"close\";\n",
       "            span.appendChild(txt);\n",
       "            li.appendChild(span);\n",
       "            this.ul.appendChild(li);\n",
       "\n",
       "            var that = this;\n",
       "            span.onclick = function() {\n",
       "                var div = this.parentElement;\n",
       "                div.style.display = \"none\";\n",
       "                that.update_lm_list();\n",
       "            }\n",
       "\n",
       "        },\n",
       "\n",
       "        update_lm_list: function() {\n",
       "            var lm_list = [];\n",
       "            var children = this.ul.childNodes;\n",
       "            for (var i = 0; i < children.length; i++) {\n",
       "                var item = children[i];\n",
       "                if (item.style.display != \"none\") {\n",
       "                    lm_list.push(item.textContent.slice(0,-1));\n",
       "                }\n",
       "            }\n",
       "\n",
       "            this.model.set('value', lm_list);\n",
       "            this.touch();\n",
       "        },\n",
       "\n",
       "        handle_lm_change: function(evt) {\n",
       "            // console.log(\"LM CHANGE\", evt.target.value);\n",
       "            this.add_list_element(evt.target.value);\n",
       "            this.update_lm_list();\n",
       "        },\n",
       "    });\n",
       "\n",
       "    // Register the ListManagerView with the widget manager.\n",
       "    return {\n",
       "        ListManagerView: ListManagerView\n",
       "    };\n",
       "});\n"
      ],
      "text/plain": [
       "<IPython.core.display.Javascript object>"
      ]
     },
     "metadata": {},
     "output_type": "display_data"
    },
    {
     "data": {
      "text/html": [
       "\n",
       "<style type=\"text/css\">\n",
       "\n",
       ".lmheader {\n",
       "    border: solid;\n",
       "    display: table;\n",
       "    width: 100%;\n",
       "}\n",
       "\n",
       ".lmheader:after {\n",
       "    content: \"\";\n",
       "    display: table;\n",
       "    clear: both;\n",
       "}\n",
       "\n",
       ".lmaddBtn {\n",
       "    padding: 10px;\n",
       "    background: #d9d9d9;\n",
       "    color: #555;\n",
       "    float: right;\n",
       "    text-align: center;\n",
       "    cursor: pointer;\n",
       "    transition: 0.3s;\n",
       "}\n",
       "\n",
       ".lmaddIcon {\n",
       "    padding: 10px;\n",
       "    background: #d9d9d9;\n",
       "    color: #555;\n",
       "    float: right;\n",
       "    text-align: center;\n",
       "    cursor: pointer;\n",
       "    transition: 0.3s;\n",
       "}\n",
       "\n",
       ".lmaddBtn:hover {\n",
       "    background-color: #bbb;\n",
       "}\n",
       ".lmaddIcon:hover {\n",
       "    background-color: #bbb;\n",
       "}\n",
       "\n",
       "/* Remove margins and padding from the list */\n",
       ".lmUL {\n",
       "    margin: 0;\n",
       "    padding: 0;\n",
       "}\n",
       "\n",
       "/* Style the list items */\n",
       ".lmUL li {\n",
       "    cursor: pointer;\n",
       "    position: relative;\n",
       "    padding: 12px 8px 12px 40px;\n",
       "    background: #eee;\n",
       "    transition: 0.2s;\n",
       "\n",
       "    /* make the list items unselectable */\n",
       "    -webkit-user-select: none;\n",
       "    -moz-user-select: none;\n",
       "    -ms-user-select: none;\n",
       "    user-select: none;\n",
       "}\n",
       "\n",
       "/* Set all odd list items to a different color (zebra-stripes) */\n",
       ".lmUL li:nth-child(odd) {\n",
       "    background: #f9f9f9;\n",
       "}\n",
       "\n",
       "/* Darker background-color on hover */\n",
       ".lmUL li:hover {\n",
       "    background: #ddd;\n",
       "}\n",
       "\n",
       "</style>\n",
       "\n"
      ],
      "text/plain": [
       "<IPython.core.display.HTML object>"
      ]
     },
     "metadata": {},
     "output_type": "display_data"
    },
    {
     "data": {
      "application/vnd.jupyter.widget-view+json": {
       "model_id": "3b31c90390c0482aa79081a67c3fc906",
       "version_major": 2,
       "version_minor": 0
      },
      "text/plain": [
       "A Jupyter Widget"
      ]
     },
     "metadata": {},
     "output_type": "display_data"
    }
   ],
   "source": [
    "lm = ListManager(value = initial_list, list_text='New Car..', button_text='', cb=LMCB)\n",
    "lm"
   ]
  },
  {
   "cell_type": "code",
   "execution_count": 5,
   "metadata": {
    "collapsed": true
   },
   "outputs": [],
   "source": [
    "lm.value=initial_list"
   ]
  },
  {
   "cell_type": "code",
   "execution_count": 6,
   "metadata": {},
   "outputs": [
    {
     "data": {
      "text/plain": [
       "['Subaru Outback', 'Ford Fusion']"
      ]
     },
     "execution_count": 6,
     "metadata": {},
     "output_type": "execute_result"
    }
   ],
   "source": [
    "lm.value"
   ]
  },
  {
   "cell_type": "code",
   "execution_count": 7,
   "metadata": {},
   "outputs": [
    {
     "data": {
      "application/javascript": [
       "\n",
       "requirejs.undef('listmanager');\n",
       "\n",
       "define('listmanager', [\"jupyter-js-widgets\"], function(widgets) {\n",
       "\n",
       "    var ListManagerView = widgets.DOMWidgetView.extend({\n",
       "        render: function(){\n",
       "            this.div = document.createElement('div');\n",
       "            this.div.setAttribute('class', 'lmheader');\n",
       "            this.input = document.createElement('input')\n",
       "            this.input.setAttribute('type', 'text');\n",
       "            this.input.setAttribute('placeholder', this.model.get('list_text'));\n",
       "            this.input.setAttribute('style', 'border: none; float: left; width: 90%; padding: 10px');\n",
       "            this.span = document.createElement('span')\n",
       "\n",
       "            if (this.model.get('button_text') === ''){\n",
       "                this.span.setAttribute('class', 'lmaddIcon fa fa-plus fa-1g');\n",
       "            } else {\n",
       "                this.span.innerHTML = this.model.get('button_text');\n",
       "                this.span.setAttribute('class', 'lmaddBtn');\n",
       "            }\n",
       "\n",
       "            this.div.appendChild(this.input);\n",
       "            this.div.appendChild(this.span);\n",
       "            this.el.appendChild(this.div);\n",
       "            this.ul = document.createElement('ul');\n",
       "            this.ul.setAttribute('class', 'lmUL');\n",
       "            this.el.appendChild(this.ul);\n",
       "\n",
       "            // set initial values\n",
       "            var vals =  this.model.get('value');\n",
       "            for (var i = 0; i < vals.length; i++){\n",
       "                this.add_list_element(vals[i]);\n",
       "            }\n",
       "\n",
       "            this.listenTo(this.model, 'change:value', this.value_changed, this);\n",
       "        },\n",
       "\n",
       "        update: function() {\n",
       "            return ListManagerView.__super__.update.apply(this);\n",
       "        },\n",
       "\n",
       "        events: {\n",
       "            // List of events and their handlers.\n",
       "            'change': 'handle_lm_change',\n",
       "        },\n",
       "\n",
       "        value_changed: function() {\n",
       "\n",
       "            // remove the old list\n",
       "            this.ul.innerHTML = '';\n",
       "\n",
       "            var vals =  this.model.get('value');\n",
       "            for (var i = 0; i < vals.length; i++){\n",
       "                this.add_list_element(vals[i]);\n",
       "            }\n",
       "        },\n",
       "\n",
       "        add_list_element: function(val) {\n",
       "            if (val === '') {\n",
       "                return\n",
       "            }\n",
       "            var li = document.createElement(\"li\");\n",
       "            var t = document.createTextNode(val);\n",
       "            li.setAttribute('class', 'lmValue');\n",
       "            li.appendChild(t);\n",
       "\n",
       "            // clear name from input box\n",
       "            this.input.value = \"\";\n",
       "\n",
       "            var span = document.createElement(\"SPAN\");\n",
       "            var txt = document.createTextNode(\"×\");\n",
       "            span.className = \"close\";\n",
       "            span.appendChild(txt);\n",
       "            li.appendChild(span);\n",
       "            this.ul.appendChild(li);\n",
       "\n",
       "            var that = this;\n",
       "            span.onclick = function() {\n",
       "                var div = this.parentElement;\n",
       "                div.style.display = \"none\";\n",
       "                that.update_lm_list();\n",
       "            }\n",
       "\n",
       "        },\n",
       "\n",
       "        update_lm_list: function() {\n",
       "            var lm_list = [];\n",
       "            var children = this.ul.childNodes;\n",
       "            for (var i = 0; i < children.length; i++) {\n",
       "                var item = children[i];\n",
       "                if (item.style.display != \"none\") {\n",
       "                    lm_list.push(item.textContent.slice(0,-1));\n",
       "                }\n",
       "            }\n",
       "\n",
       "            this.model.set('value', lm_list);\n",
       "            this.touch();\n",
       "        },\n",
       "\n",
       "        handle_lm_change: function(evt) {\n",
       "            // console.log(\"LM CHANGE\", evt.target.value);\n",
       "            this.add_list_element(evt.target.value);\n",
       "            this.update_lm_list();\n",
       "        },\n",
       "    });\n",
       "\n",
       "    // Register the ListManagerView with the widget manager.\n",
       "    return {\n",
       "        ListManagerView: ListManagerView\n",
       "    };\n",
       "});\n"
      ],
      "text/plain": [
       "<IPython.core.display.Javascript object>"
      ]
     },
     "metadata": {},
     "output_type": "display_data"
    },
    {
     "data": {
      "text/html": [
       "\n",
       "<style type=\"text/css\">\n",
       "\n",
       ".lmheader {\n",
       "    border: solid;\n",
       "    display: table;\n",
       "    width: 100%;\n",
       "}\n",
       "\n",
       ".lmheader:after {\n",
       "    content: \"\";\n",
       "    display: table;\n",
       "    clear: both;\n",
       "}\n",
       "\n",
       ".lmaddBtn {\n",
       "    padding: 10px;\n",
       "    background: #d9d9d9;\n",
       "    color: #555;\n",
       "    float: right;\n",
       "    text-align: center;\n",
       "    cursor: pointer;\n",
       "    transition: 0.3s;\n",
       "}\n",
       "\n",
       ".lmaddIcon {\n",
       "    padding: 10px;\n",
       "    background: #d9d9d9;\n",
       "    color: #555;\n",
       "    float: right;\n",
       "    text-align: center;\n",
       "    cursor: pointer;\n",
       "    transition: 0.3s;\n",
       "}\n",
       "\n",
       ".lmaddBtn:hover {\n",
       "    background-color: #bbb;\n",
       "}\n",
       ".lmaddIcon:hover {\n",
       "    background-color: #bbb;\n",
       "}\n",
       "\n",
       "/* Remove margins and padding from the list */\n",
       ".lmUL {\n",
       "    margin: 0;\n",
       "    padding: 0;\n",
       "}\n",
       "\n",
       "/* Style the list items */\n",
       ".lmUL li {\n",
       "    cursor: pointer;\n",
       "    position: relative;\n",
       "    padding: 12px 8px 12px 40px;\n",
       "    background: #eee;\n",
       "    transition: 0.2s;\n",
       "\n",
       "    /* make the list items unselectable */\n",
       "    -webkit-user-select: none;\n",
       "    -moz-user-select: none;\n",
       "    -ms-user-select: none;\n",
       "    user-select: none;\n",
       "}\n",
       "\n",
       "/* Set all odd list items to a different color (zebra-stripes) */\n",
       ".lmUL li:nth-child(odd) {\n",
       "    background: #f9f9f9;\n",
       "}\n",
       "\n",
       "/* Darker background-color on hover */\n",
       ".lmUL li:hover {\n",
       "    background: #ddd;\n",
       "}\n",
       "\n",
       "</style>\n",
       "\n"
      ],
      "text/plain": [
       "<IPython.core.display.HTML object>"
      ]
     },
     "metadata": {},
     "output_type": "display_data"
    },
    {
     "data": {
      "application/vnd.jupyter.widget-view+json": {
       "model_id": "97d26862ef9f46ea87b458edb339a11d",
       "version_major": 2,
       "version_minor": 0
      },
      "text/plain": [
       "A Jupyter Widget"
      ]
     },
     "metadata": {},
     "output_type": "display_data"
    }
   ],
   "source": [
    "lm2 = ListManager()\n",
    "lm2"
   ]
  },
  {
   "cell_type": "code",
   "execution_count": 8,
   "metadata": {
    "collapsed": true
   },
   "outputs": [],
   "source": [
    "lm2.value = ['subaru']"
   ]
  },
  {
   "cell_type": "code",
   "execution_count": 9,
   "metadata": {},
   "outputs": [
    {
     "data": {
      "text/plain": [
       "['subaru']"
      ]
     },
     "execution_count": 9,
     "metadata": {},
     "output_type": "execute_result"
    }
   ],
   "source": [
    "lm2.value"
   ]
  }
 ],
 "metadata": {
  "kernelspec": {
   "display_name": "Python3",
   "language": "python",
   "name": "python3"
  },
  "language_info": {
   "codemirror_mode": {
    "name": "ipython",
    "version": 3
   },
   "file_extension": ".py",
   "mimetype": "text/x-python",
   "name": "python",
   "nbconvert_exporter": "python",
   "pygments_lexer": "ipython3",
   "version": "3.6.2"
  }
 },
 "nbformat": 4,
 "nbformat_minor": 2
}
