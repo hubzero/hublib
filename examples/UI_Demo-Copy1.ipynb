{
 "cells": [
  {
   "cell_type": "code",
   "execution_count": 1,
   "metadata": {},
   "outputs": [
    {
     "data": {
      "application/vnd.jupyter.widget-view+json": {
       "model_id": "b0e3510750764baeaff7f5cade6f7878",
       "version_major": 2,
       "version_minor": 0
      },
      "text/plain": [
       "Box(children=(Button(button_style='danger', description='correct', layout=Layout(width='auto'), style=ButtonSt…"
      ]
     },
     "metadata": {},
     "output_type": "display_data"
    }
   ],
   "source": [
    "from ipywidgets import Layout, Button, Box\n",
    "\n",
    "items_layout = Layout( width='auto')     # override the default width of the button to 'auto' to let the button grow\n",
    "\n",
    "box_layout = Layout(display='flex',\n",
    "                    flex_flow='column',\n",
    "                    align_items='stretch',\n",
    "                    justify_content='space-between',\n",
    "                    border='solid',\n",
    "                    width='100%',\n",
    "                    height='200px')\n",
    "\n",
    "words = ['correct', 'horse', 'battery', 'staple']\n",
    "items = [Button(description=word, layout=items_layout, button_style='danger') for word in words]\n",
    "box = Box(children=items, layout=box_layout)\n",
    "box"
   ]
  },
  {
   "cell_type": "code",
   "execution_count": 2,
   "metadata": {},
   "outputs": [],
   "source": [
    "saved_height = 0\n",
    "def resize_cb(height):\n",
    "    global saved_height, fig\n",
    "    if height != saved_height:\n",
    "        box.layout.height = '%spx' % int(height)\n",
    "        saved_height = height\n"
   ]
  },
  {
   "cell_type": "code",
   "execution_count": 3,
   "metadata": {},
   "outputs": [
    {
     "data": {
      "application/javascript": [
       "function doSomething() {\n",
       "var h1 = document.getElementById('header').offsetHeight;\n",
       "var h2 = window.innerHeight - h1;\n",
       "var kernel = IPython.notebook.kernel;\n",
       "var command = \"resize_cb(\" + h2 +\")\";\n",
       "console.log(command)\n",
       "kernel.execute(command);\n",
       "};\n",
       "\n",
       "var resizeTimer;\n",
       "$(window).resize(function() {\n",
       "    clearTimeout(resizeTimer);\n",
       "    resizeTimer = setTimeout(doSomething, 100);\n",
       "});\n"
      ],
      "text/plain": [
       "<IPython.core.display.Javascript object>"
      ]
     },
     "metadata": {},
     "output_type": "display_data"
    }
   ],
   "source": [
    "%%javascript\n",
    "function doSomething() {\n",
    "var h1 = document.getElementById('header').offsetHeight;\n",
    "var h2 = window.innerHeight - h1;\n",
    "var kernel = IPython.notebook.kernel;\n",
    "var command = \"resize_cb(\" + h2 +\")\";\n",
    "console.log(command)\n",
    "kernel.execute(command);\n",
    "};\n",
    "\n",
    "var resizeTimer;\n",
    "$(window).resize(function() {\n",
    "    clearTimeout(resizeTimer);\n",
    "    resizeTimer = setTimeout(doSomething, 100);\n",
    "});"
   ]
  },
  {
   "cell_type": "code",
   "execution_count": null,
   "metadata": {},
   "outputs": [],
   "source": []
  }
 ],
 "metadata": {
  "extensions": {
   "jupyter_dashboards": {
    "activeView": "grid_default",
    "version": 1,
    "views": {
     "grid_default": {
      "cellMargin": 10,
      "defaultCellHeight": 20,
      "maxColumns": 12,
      "name": "grid",
      "type": "grid"
     },
     "report_default": {
      "name": "report",
      "type": "report"
     }
    }
   }
  },
  "kernelspec": {
   "display_name": "Python3",
   "language": "python",
   "name": "python3"
  },
  "language_info": {
   "codemirror_mode": {
    "name": "ipython",
    "version": 3
   },
   "file_extension": ".py",
   "mimetype": "text/x-python",
   "name": "python",
   "nbconvert_exporter": "python",
   "pygments_lexer": "ipython3",
   "version": "3.7.2"
  },
  "widgets": {
   "state": {
    "0d31088cb6fd42b592f0c1c9292ef3d2": {
     "views": [
      {
       "cell_index": 23
      }
     ]
    },
    "15c2dbe1dd594108b0aa9f5659ea67ac": {
     "views": [
      {
       "cell_index": 11
      }
     ]
    },
    "210972ff394f4a6a8456bc7468ba01e6": {
     "views": [
      {
       "cell_index": 24
      }
     ]
    },
    "25d3735758334bc3a96a2327172b8adb": {
     "views": [
      {
       "cell_index": 27
      }
     ]
    },
    "3545792f4c1b428c8736c9cc9866ae7b": {
     "views": [
      {
       "cell_index": 40
      }
     ]
    },
    "4bf7e7d68ebc4a859a74a3453d44da79": {
     "views": [
      {
       "cell_index": 22
      }
     ]
    },
    "50bcc61671cf454faf7e409aa1f41a5c": {
     "views": [
      {
       "cell_index": 36
      }
     ]
    },
    "6149a6f5cd914bfabfe361bce5dd564f": {
     "views": [
      {
       "cell_index": 20
      }
     ]
    },
    "6155358fb0004fa4bd31cf2db196616c": {
     "views": [
      {
       "cell_index": 5
      }
     ]
    },
    "65013a8730734fe4995ca4769a67d60a": {
     "views": [
      {
       "cell_index": 43
      }
     ]
    },
    "650c5153128b4b4ab5d98c4c2e322c38": {
     "views": [
      {
       "cell_index": 19
      }
     ]
    },
    "6c05daec25a94ed5b908c13c2405da9b": {
     "views": [
      {
       "cell_index": 38
      }
     ]
    },
    "a031fa03f2094ac8a90f0d7115758d7a": {
     "views": [
      {
       "cell_index": 44
      }
     ]
    },
    "afbad63223c0407695d618c21cc683a5": {
     "views": [
      {
       "cell_index": 42
      }
     ]
    },
    "b566c6edc92248e4962cbcba085a0e69": {
     "views": [
      {
       "cell_index": 17
      }
     ]
    },
    "b7d795373e0249baa46dcf505bb72314": {
     "views": [
      {
       "cell_index": 9
      }
     ]
    },
    "bf7e9b1b86e1465ab147d5f87ee21d77": {
     "views": [
      {
       "cell_index": 26
      }
     ]
    },
    "d7a506c1f2f2412a8d039af98a531f3e": {
     "views": [
      {
       "cell_index": 25
      }
     ]
    },
    "d8f4322158c145e0831e4ed6367eaf0e": {
     "views": [
      {
       "cell_index": 14
      }
     ]
    },
    "de0ecd1c5cba4341a24072101fb0a372": {
     "views": [
      {
       "cell_index": 16
      }
     ]
    },
    "e352613f58414fefbcfa32749a27a9ab": {
     "views": [
      {
       "cell_index": 3
      }
     ]
    },
    "e6f7e5449c244f1fb9eeb0c18c193744": {
     "views": [
      {
       "cell_index": 28
      }
     ]
    },
    "f376c4671b164f81b8d819c05d0c7b86": {
     "views": [
      {
       "cell_index": 18
      }
     ]
    }
   },
   "version": "1.2.0"
  }
 },
 "nbformat": 4,
 "nbformat_minor": 1
}
